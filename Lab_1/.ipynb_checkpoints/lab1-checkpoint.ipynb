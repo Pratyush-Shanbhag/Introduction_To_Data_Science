{
 "cells": [
  {
   "cell_type": "markdown",
   "id": "6d8c92af",
   "metadata": {},
   "source": [
    "#### CIS 9 - Lab 1\n",
    "\n",
    "Topics: Review Python, Jupyter Notebook, Numpy"
   ]
  },
  {
   "cell_type": "code",
   "execution_count": null,
   "id": "e81881bf",
   "metadata": {},
   "outputs": [],
   "source": [
    "# Don't forget to add your name so you can get credit for your work\n",
    "# Name: Pratyush Shanbhag"
   ]
  },
  {
   "cell_type": "markdown",
   "id": "816c0c2a",
   "metadata": {},
   "source": [
    "You've been hired by a teacher to help analyze student scores in 2 sections of the same class.<br>\n",
    "(You can tell that this is somewhat fictional because no teacher can afford to hire a data scientist, given the difference in their salaries!)<br>\n",
    "\n",
    "The scores are in 2 files: `grades1.csv` and `grades2.csv`<br>\n",
    "Each file has multiple rows:<br>\n",
    "- the first row has the maximum scores of all the submitted class work\n",
    "- each of the subsequent rows has the scores of all submitted class work for one student.<br>\n",
    "\n",
    "The submitted class work are: 6 homework (Homework 1 - Homework 6), 6 quizzes (Quiz 1 - Quiz 6), and 3 exams (Exam 1 - Exam 3)<br>\n",
    "\n",
    "The name of each submitted work (6 homework, 6 quizzes, 3 exams) of the 2 files is in `header.csv`<br>\n",
    "The names in `header.csv` correspond with the columns of `grades1.csv` and `grades2.csv`"
   ]
  },
  {
   "cell_type": "code",
   "execution_count": null,
   "id": "0137db65",
   "metadata": {},
   "outputs": [],
   "source": [
    "# import Python modules here\n",
    "import numpy as np"
   ]
  },
  {
   "cell_type": "markdown",
   "id": "6d80dafb",
   "metadata": {},
   "source": [
    "1. **Read in from the 3 files and store the data of each file in an appropriate container**.<br>\n",
    "Then **print the number of rows and columns for each container**.<br>\n",
    "\n",
    "Make sure you print a text string to explain the output numbers, don't just print a bunch of numbers.<br>\n",
    "After this step, you should not access the files to get data, and instead use the containers to get data."
   ]
  },
  {
   "cell_type": "code",
   "execution_count": null,
   "id": "63555425",
   "metadata": {},
   "outputs": [],
   "source": []
  },
  {
   "cell_type": "markdown",
   "id": "3f86c59c",
   "metadata": {},
   "source": [
    "2a. Analyze the scores for class 1<br>\n",
    "**Find the mean score and the mean percentage of each homework**.<br>\n",
    "Then for each of the 6 homework, **print the homework name** (such as Homework 1), **followed by the mean score and the mean percentage**.<br>\n",
    "- The mean score is the mean of one column of homework scores\n",
    "- The mean percentage is calculated from the ratio of the mean score and the max score<br>\n",
    "- Don't forget that the max possible score of each column is stored in the first row\n",
    "- The homework name should come from the data you've read in from `header.csv`. Don't type in each name.\n",
    "\n",
    "You should have 6 output lines, one for each homework, and both the score and percentage should be rounded to 2 digits after the decimal point.<br>\n",
    "Example of one line of output:  `Homework 1: 13.98 or 93.21%`\n",
    "\n",
    "\n",
    "Then do the same for the quizzes: **find the mean score and the mean percentage of each quiz**<br>\n",
    "Then for each of the 6 quizzes, **print the quiz name** (such as Quiz 1), **followed by the mean score and the mean percentage**.<br>\n",
    "You should have 6 output lines, one for each quiz, and both the score and percentage should be rounded to 2 digits after the decimal point.<br>\n",
    "\n",
    "- *Make sure you use a loop to print the 6 homework and 6 quizzes, don't copy and paste code 6 times*\n",
    "- *But you should <u>not</u> have to use a loop to find the mean and percentage*\n",
    "- *Don't forget that the first row is not a student record, it's the maximum scores, so don't count it in the calculation of the mean*"
   ]
  },
  {
   "cell_type": "code",
   "execution_count": null,
   "id": "4ef82966",
   "metadata": {},
   "outputs": [],
   "source": []
  },
  {
   "cell_type": "markdown",
   "id": "445a4ef6",
   "metadata": {},
   "source": [
    "2b. From the output of step 2a, what trend do you observe from the homework scores and quiz scores?<br>\n",
    "**Create a Raw NBConvert cell to explain any trend you observe**"
   ]
  },
  {
   "cell_type": "markdown",
   "id": "29cef528",
   "metadata": {},
   "source": [
    "3. **Print the number of students who passed the class and the number of students who failed the class**<br>\n",
    "A student passes the class when their total percentage is at or above 70%<br>\n",
    "The total percentage of a student is the sum of all their scores divided by the max total score.\n",
    "\n",
    "- *Print a text string to explain the 2 numbers that you print out*\n",
    "- *You should not have to use a loop in this step*"
   ]
  },
  {
   "cell_type": "code",
   "execution_count": null,
   "id": "ef87c9c9",
   "metadata": {},
   "outputs": [],
   "source": []
  },
  {
   "cell_type": "markdown",
   "id": "1610c022",
   "metadata": {},
   "source": [
    "4. **Print the top 5 \"Exam 3\" scores**<br>\n",
    "- *Print a text string to explain the 5 numbers that you print*\n",
    "- *You should not have to use a loop in this step*"
   ]
  },
  {
   "cell_type": "code",
   "execution_count": null,
   "id": "749fc9ad",
   "metadata": {},
   "outputs": [],
   "source": [
    "\n"
   ]
  },
  {
   "cell_type": "markdown",
   "id": "063f50c2",
   "metadata": {},
   "source": [
    "5. **Print the row index of the 8 students with the top 8 \"Exam 3\" scores**<br>\n",
    "Then check your work by **using the same 8 row index values to print the \"Exam 3\" score of those rows**.<br>\n",
    "Out of the 8 scores printed out, you should end up with the same top 5 scores as in step 4 above\n",
    "\n",
    "- *Print a text string to explain the numbers that you print*\n",
    "- *You should not have to use a loop in this step*"
   ]
  },
  {
   "cell_type": "code",
   "execution_count": null,
   "id": "4d482eb9",
   "metadata": {},
   "outputs": [],
   "source": []
  },
  {
   "cell_type": "markdown",
   "id": "e5f33d44",
   "metadata": {},
   "source": [
    "---"
   ]
  },
  {
   "cell_type": "markdown",
   "id": "324870e6",
   "metadata": {},
   "source": [
    "After analyzing the scores for class 1, in the next steps we compare the scores of class 1 vs class 2."
   ]
  },
  {
   "cell_type": "markdown",
   "id": "fc83ee63",
   "metadata": {},
   "source": [
    "6. **Print the max scores of the homework, quizzes, and exams of class 1 and of class 2**<br>\n",
    "Print a text string to identify class 1 and class 2 with the numbers that you print"
   ]
  },
  {
   "cell_type": "code",
   "execution_count": null,
   "id": "63b57947",
   "metadata": {},
   "outputs": [],
   "source": []
  },
  {
   "cell_type": "markdown",
   "id": "9cb5d6bf",
   "metadata": {},
   "source": [
    "7. Note from step 6 output that the 3 exams have different max scores. We need to make them the same so that we can compare the scores of the 2 classes.<br>\n",
    "**Scale up the 3 exam scores of Class 1 so they're equivalent to the exam scores of Class 2**<br>\n",
    "This means each of \"Exam 1\" and \"Exam 2\" scores should be divided by 80 and multiplied by 100,<br>\n",
    "and each \"Exam 3\" score should be divided by 100 and multiplied by 150.\n",
    "\n",
    "Then check your work by **copying the code of step 5 to this step and running it**<br>\n",
    "You should end up with the same 8 row index values, but the top 8 scores have been scaled correctly.\n",
    "\n",
    "- *Print a text string to explain the numbers that you print*\n",
    "- *You should not have to use a loop in this step*"
   ]
  },
  {
   "cell_type": "code",
   "execution_count": null,
   "id": "0c9023dd",
   "metadata": {},
   "outputs": [],
   "source": []
  },
  {
   "cell_type": "markdown",
   "id": "f7b8a79f",
   "metadata": {},
   "source": [
    "8a. Compare the total scores of students of the 2 classes<br>\n",
    "**Find the total score for each student in one class, then find the 75th, 50th, and 25th percentile of the total scores**.<br>\n",
    "Then **print these percentiles for class 1 and for class 2**<br>\n",
    "\n",
    "- *Print a text string to explain the numbers that you print, make sure to label class 1 output vs class 2 output*\n",
    "- *Round all numbers to a certain number of digits after the decimal point, use your choice of number of digits*\n",
    "- *You should not have to use a loop in this step*"
   ]
  },
  {
   "cell_type": "code",
   "execution_count": null,
   "id": "05c8193e",
   "metadata": {},
   "outputs": [],
   "source": []
  },
  {
   "cell_type": "markdown",
   "id": "c608148f",
   "metadata": {},
   "source": [
    "8b. **Print the standard deviation of the total scores for class 1 and class 2**<br>\n",
    "- *Print a text string to explain the numbers that you print, make sure to label class 1 output vs class 2 output*\n",
    "- *Round all numbers to a certain number of digits after the decimal point, use your choice of number of digits*"
   ]
  },
  {
   "cell_type": "code",
   "execution_count": null,
   "id": "a57f8f2d",
   "metadata": {},
   "outputs": [],
   "source": []
  },
  {
   "cell_type": "markdown",
   "id": "2dfd7c16",
   "metadata": {},
   "source": [
    "8c. Observe the output of steps 8a and 8b above: For each class, do the percentiles and standard deviation correlate (or agree) with each other? Or do they give conflicting trends about the data?<br>\n",
    "**Create a Raw NBConvert cell to explain your reasoning**"
   ]
  },
  {
   "cell_type": "markdown",
   "id": "5c34aeaa",
   "metadata": {},
   "source": [
    "9. Between class 1 and class 2, does one class generally have better scores than the other class?<br>\n",
    "**Create a Raw NBConvert cell to conclude whether one class has better scores**.<br>\n",
    "Use data you've found in the steps above and, out of the concepts we've discussed in class, add any other statistical calculation in a Code cell to support your conclusion.\n",
    "\n",
    "Your conclusion must be based on data that you can reference in this notebook."
   ]
  },
  {
   "cell_type": "code",
   "execution_count": null,
   "id": "08c2b5d0",
   "metadata": {},
   "outputs": [],
   "source": []
  }
 ],
 "metadata": {
  "kernelspec": {
   "display_name": "Python 3 (ipykernel)",
   "language": "python",
   "name": "python3"
  },
  "language_info": {
   "codemirror_mode": {
    "name": "ipython",
    "version": 3
   },
   "file_extension": ".py",
   "mimetype": "text/x-python",
   "name": "python",
   "nbconvert_exporter": "python",
   "pygments_lexer": "ipython3",
   "version": "3.9.7"
  }
 },
 "nbformat": 4,
 "nbformat_minor": 5
}
