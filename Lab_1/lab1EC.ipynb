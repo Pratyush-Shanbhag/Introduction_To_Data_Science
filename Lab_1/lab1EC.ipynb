{
 "cells": [
  {
   "cell_type": "code",
   "execution_count": 13,
   "id": "1b73b9f1",
   "metadata": {},
   "outputs": [],
   "source": [
    "import numpy as np\n",
    "import matplotlib.pyplot as plt\n",
    "%matplotlib inline"
   ]
  },
  {
   "cell_type": "code",
   "execution_count": 14,
   "id": "2e5804b0",
   "metadata": {},
   "outputs": [],
   "source": [
    "grades1 = np.loadtxt(\"class1.csv\", delimiter=\",\")\n",
    "grades2 = np.loadtxt(\"class2.csv\", delimiter=\",\")\n",
    "headers = np.loadtxt(\"header.csv\", delimiter=\",\", dtype=str)"
   ]
  },
  {
   "cell_type": "code",
   "execution_count": 15,
   "id": "6847c6d9",
   "metadata": {},
   "outputs": [],
   "source": [
    "index = np.where(headers == \"Exam 1\")[0][0]\n",
    "grades1[:, index:index+2] *= grades2[0, index]/grades1[0, index]\n",
    "index += 2\n",
    "grades1[:, index] *= grades2[0, index]/grades1[0, index]"
   ]
  },
  {
   "cell_type": "code",
   "execution_count": 18,
   "id": "a3717b15",
   "metadata": {},
   "outputs": [
    {
     "data": {
      "text/plain": [
       "<matplotlib.legend.Legend at 0x7fa4c0a7f2e0>"
      ]
     },
     "execution_count": 18,
     "metadata": {},
     "output_type": "execute_result"
    },
    {
     "data": {
      "image/png": "[encoded data removed]",
      "text/plain": [
       "<Figure size 432x288 with 1 Axes>"
      ]
     },
     "metadata": {
      "needs_background": "light"
     },
     "output_type": "display_data"
    }
   ],
   "source": [
    "plt.title(\"Total Scores: Class 1 vs. Class 2\")\n",
    "plt.hist(np.sum(grades1[1:, :], axis=1), color='green', label='class 1', alpha=0.2)\n",
    "plt.hist(np.sum(grades2[1:, :], axis=1), color='purple', label='class 2', alpha=0.2)\n",
    "plt.legend()"
   ]
  }
 ],
 "metadata": {
  "kernelspec": {
   "display_name": "Python 3 (ipykernel)",
   "language": "python",
   "name": "python3"
  },
  "language_info": {
   "codemirror_mode": {
    "name": "ipython",
    "version": 3
   },
   "file_extension": ".py",
   "mimetype": "text/x-python",
   "name": "python",
   "nbconvert_exporter": "python",
   "pygments_lexer": "ipython3",
   "version": "3.9.7"
  }
 },
 "nbformat": 4,
 "nbformat_minor": 5
}
