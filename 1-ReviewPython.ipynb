{
 "cells": [
  {
   "cell_type": "markdown",
   "metadata": {},
   "source": [
    "### CIS 9 \n",
    "### Review Python Basics and Intro to Jupyter Notebook ###"
   ]
  },
  {
   "cell_type": "markdown",
   "metadata": {},
   "source": [
    "Optional Reading: Python Data Science Handbook, Ch. 1: IPython"
   ]
  },
  {
   "cell_type": "markdown",
   "metadata": {},
   "source": [
    "**1. Numbers and strings**"
   ]
  },
  {
   "cell_type": "code",
   "execution_count": 6,
   "metadata": {},
   "outputs": [
    {
     "name": "stdout",
     "output_type": "stream",
     "text": [
      "30\n",
      "555\n",
      "13\n",
      "53\n"
     ]
    }
   ],
   "source": [
    "a = 10\n",
    "b = 3\n",
    "c = '5'\n",
    "# Add code to print the result of a multiply with b\n",
    "print(a * b)\n",
    "# Add code to print the result of c replicated b times\n",
    "print(c * b)\n",
    "# Add code to print the result of a added with b\n",
    "print(a + b)\n",
    "# Add code to print the result of c concatenate with b\n",
    "print(c + str(b))"
   ]
  },
  {
   "cell_type": "markdown",
   "metadata": {},
   "source": [
    "**2. Decisions and loops**"
   ]
  },
  {
   "cell_type": "code",
   "execution_count": 7,
   "metadata": {},
   "outputs": [
    {
     "name": "stdout",
     "output_type": "stream",
     "text": [
      "Enter a number: 1\n",
      "Enter a number: 3\n",
      "Enter a number: 11\n",
      "Enter a number: -4\n",
      "Enter a number: 0\n",
      "Positive: 3  Negative: 1\n",
      "Enter a number: \n"
     ]
    }
   ],
   "source": [
    "# Add code to create a loop to keep asking the user for a number until the user presses the Enter key only.\n",
    "# If the user enters 0, print the number of positive numbers and number of negative numbers entered.\n",
    "# Note that 0 is neither positive nor negative\n",
    "pos = neg = 0\n",
    "num = input(\"Enter a number: \")\n",
    "while num != \"\":\n",
    "    if int(num) > 0:\n",
    "        pos += 1\n",
    "    elif int(num) < 0:\n",
    "        neg += 1\n",
    "    else:\n",
    "        print(\"Positive:\", pos, \" Negative:\", neg)\n",
    "\n",
    "    num = input(\"Enter a number: \")"
   ]
  },
  {
   "cell_type": "markdown",
   "metadata": {},
   "source": [
    "**3. Functions**"
   ]
  },
  {
   "cell_type": "code",
   "execution_count": 8,
   "metadata": {},
   "outputs": [
    {
     "name": "stdout",
     "output_type": "stream",
     "text": [
      "3\n",
      "0\n",
      "153\n"
     ]
    }
   ],
   "source": [
    "# Write a function add: \n",
    "def add(*nums):\n",
    "    return sum(nums)\n",
    "\n",
    "# such that the following function calls will run and print the expected result\n",
    "print(add(1, 2))   # print: 3\n",
    "print(add())       # print: 0\n",
    "print(add(1,2,3,4,5,6,7,8,9,10,11,12,13,14,15,16,17))   # print: 153\n",
    "\n",
    "# Can you write the function add such that: \n",
    "# - it has no loop\n",
    "# - you don't have to initialize all input parameters\n",
    "# - it can accept any number of input numbers, even more than 17 input arguments?"
   ]
  },
  {
   "cell_type": "markdown",
   "metadata": {},
   "source": [
    "**4. Containers or iterables**"
   ]
  },
  {
   "cell_type": "code",
   "execution_count": null,
   "metadata": {},
   "outputs": [],
   "source": [
    "# Use a container to store each character of the string \"hello\" separately, not together as a string.\n",
    "# Print the container to show individual characters\n",
    "# What type of container would you use? Why?\n"
   ]
  },
  {
   "cell_type": "code",
   "execution_count": null,
   "metadata": {},
   "outputs": [],
   "source": [
    "# Use a container to store the unique characters of the string \"hello\" \n",
    "# unique characters means only h,e,l,o should be stored\n",
    "# Print the container to show unique characters\n"
   ]
  },
  {
   "cell_type": "code",
   "execution_count": null,
   "metadata": {},
   "outputs": [],
   "source": [
    "# Use a container to store the characters of the string \"hello\"\n",
    "# Then add an exclamation point to the container, after the letter 'o', and capitalize the 'h'\n",
    "# Print the container to show all the characters\n"
   ]
  },
  {
   "cell_type": "code",
   "execution_count": null,
   "metadata": {},
   "outputs": [],
   "source": [
    "# Use a container to store the unique characters of the string \"hello\" \n",
    "# and its ascii value. Example: 'h' should be stored with the ascii value 104\n",
    "# Print the container to show the unique characters and their ascii value\n",
    "d = {char:ord(char) for char in \"hello\"}"
   ]
  },
  {
   "cell_type": "markdown",
   "metadata": {},
   "source": [
    "**5. Accessing lists**"
   ]
  },
  {
   "cell_type": "code",
   "execution_count": null,
   "metadata": {},
   "outputs": [],
   "source": [
    "L = list(range(1,21))\n",
    "# Write code to print the first half of the list\n",
    "\n",
    "# Write code to print the last 3 elements of the list\n",
    "\n",
    "# Write code to print every element of the list, all on one line, separated by space\n",
    "\n",
    "# Write code to negate every other element of the list \n"
   ]
  },
  {
   "cell_type": "code",
   "execution_count": null,
   "metadata": {},
   "outputs": [],
   "source": [
    "# Write code to create a list of 20 elements and initialize all elements to 0.\n",
    "# Can you do it without a loop?\n",
    "# Print the resulting list\n",
    "\n",
    "\n",
    "# Write code to create a list of 10 lists, each inner list contains 20 elements, all initialized to 5.\n",
    "# Print the list of lists as 10 rows of 20 columns\n"
   ]
  },
  {
   "cell_type": "code",
   "execution_count": null,
   "metadata": {},
   "outputs": [],
   "source": [
    "import random\n",
    "L = [random.randint(1,10) for i in range(8)]\n",
    "print(L)\n",
    "\n",
    "# Write code to create a new list which is made of even values from L\n",
    "# Can you do this without a loop?\n",
    "# Print the new list\n",
    "\n",
    "\n",
    "# Print the new list, with the elements sorted in descending order\n",
    "\n",
    "\n",
    "# Write code to print True or False, depending on whether the value 4 is in the new list\n",
    "# Can you do it without an if statement?\n"
   ]
  },
  {
   "cell_type": "markdown",
   "metadata": {},
   "source": [
    "**6. Accessing dictionaries and tuples**"
   ]
  },
  {
   "cell_type": "code",
   "execution_count": null,
   "metadata": {},
   "outputs": [],
   "source": [
    "# Write a dictionary comprehension to store the letters A,B,C as keys and their ascii numbers as values\n",
    "# Print the dictionary\n",
    "\n",
    "\n",
    "# Write code to add D and its ascii value 68 to the dictionary\n",
    "\n",
    "\n",
    "# Write code to print a list of all keys\n",
    "\n",
    "\n",
    "# Write code to print a tuple of all values\n",
    "\n",
    "\n",
    "# Write code to print the key and value pair, one per line\n",
    "\n",
    "\n",
    "# Write code to store each value of D into a variable v1, v2, v3, v4\n",
    "# Print the variables v1,v2,v3,v4\n"
   ]
  },
  {
   "cell_type": "markdown",
   "metadata": {},
   "source": [
    "**7. File IO**"
   ]
  },
  {
   "cell_type": "code",
   "execution_count": null,
   "metadata": {},
   "outputs": [],
   "source": [
    "import csv\n",
    "with open(\"sample.csv\", \"w\", newline='') as f :\n",
    "    writer = csv.writer(f)\n",
    "    for i in range(3) :\n",
    "        writer.writerow([random.randint(1,11) for i in range(4)])\n",
    "# What does sample.csv look like?\n",
    "\n",
    "\n",
    "# Write code to read in sample.csv and print all numbers in each input line to one line of output, \n",
    "# separated by a space\n",
    "\n",
    "    \n",
    "# Write code to read in sample.csv as a text file (without using csv reader) \n",
    "# and print all numbers in one line of output, separated by space\n"
   ]
  },
  {
   "cell_type": "markdown",
   "metadata": {},
   "source": [
    "**8. Jupyter Notebook**"
   ]
  },
  {
   "cell_type": "markdown",
   "metadata": {},
   "source": [
    "There are 3 kinds of cells that are most commonly used:<br>\n",
    "- Code: to type in and run Python code\n",
    "- Raw NBConvert: plain text\n",
    "- Markdown: to type in explanation or documentation, using some basic HTML syntax for formatting text such as<br>\n",
    "> indentation, **bold**, *italicized*, <u>underlined</u>, and<br>\n",
    "## different\n",
    "### heading\n",
    "#### levels\n",
    "\n",
    "Double click on this current cell to see the raw HTML and notebook markup symbols to do all the text formatting above"
   ]
  },
  {
   "cell_type": "raw",
   "metadata": {},
   "source": [
    "In each of steps 1-7 above, there are pairs of Markdown and Code cells.\n",
    "This is an example of a Raw NBConvert cell."
   ]
  },
  {
   "cell_type": "markdown",
   "metadata": {},
   "source": [
    "*Click on each of the cells below to select it and follow the direction to experiment with Jupyter Notebook.*"
   ]
  },
  {
   "cell_type": "markdown",
   "metadata": {},
   "source": [
    "Hover your mouse over each symbol in the toolbar above to see the explanation for them.\n",
    "\n",
    "Use the **+** symbol in the toolbar above to create a new cell below this cell. Note that it's a Code cell by default."
   ]
  },
  {
   "cell_type": "markdown",
   "metadata": {},
   "source": [
    "Select the newly created cell, then use the pulldown menu in the toolbar (the one that currently says **Code**) and change your newly created Code cell to Markdown.<br>\n",
    "Then change it to a Raw NBConvert cell."
   ]
  },
  {
   "cell_type": "markdown",
   "metadata": {},
   "source": [
    "Click on the new cell you just created and use the scissors symbol in the toolbar above to delete the cell."
   ]
  },
  {
   "cell_type": "markdown",
   "metadata": {},
   "source": [
    "Use the up or down arrow arrows to move this cell up or down as many times as you like. This will help you re-order existing cells instead of having to cut-and-paste the content of existing cells."
   ]
  },
  {
   "cell_type": "markdown",
   "metadata": {},
   "source": [
    "You already know about the Run button in the toolbar, which runs the current cell.<br>\n",
    "But sometimes it's nice to run all of the cells in the notebook:\n",
    "- go to the **Cell** pulldown menu and select *Run All*\n",
    "\n",
    "Sometimes it's also convenient to run all of the cells from the start up to the current cell:\n",
    "- go back to select a Code cell of one of the steps 1-7\n",
    "- go to the **Cell** pulldown menu and select *Run All Above*<br>\n",
    "This will run all the cells up to but not including the cell you're currently on"
   ]
  },
  {
   "cell_type": "markdown",
   "metadata": {},
   "source": [
    "If you run into an infinite loop:\n",
    "- go to the **Kernel** pulldown menu and select *Interrupt* to do the equivalence of a Control-C\n",
    "\n",
    "If the notebook code seems to be stuck and it's not due to an infinite loop, or waiting for user input, or an exception, and you want to start over again, you don't have to close the notebook and restart it. Instead:\n",
    "- go to the **Kernel** pulldown menu and select *Restart* \n"
   ]
  },
  {
   "cell_type": "markdown",
   "metadata": {},
   "source": [
    "The above are all the basic knowledge to use Jupyter Notebook for this clas.<br>\n",
    "For additional shortcuts on using the notebook, see this [youtube video](https://www.youtube.com/watch?v=FW2BF6jbHBk)<br>\n",
    "(Double click on this cell to see how to insert a link in your Markdown cell, useful for your final project at the end of the quarter)`"
   ]
  },
  {
   "cell_type": "code",
   "execution_count": null,
   "metadata": {},
   "outputs": [],
   "source": []
  }
 ],
 "metadata": {
  "kernelspec": {
   "display_name": "Python 3 (ipykernel)",
   "language": "python",
   "name": "python3"
  },
  "language_info": {
   "codemirror_mode": {
    "name": "ipython",
    "version": 3
   },
   "file_extension": ".py",
   "mimetype": "text/x-python",
   "name": "python",
   "nbconvert_exporter": "python",
   "pygments_lexer": "ipython3",
   "version": "3.9.7"
  }
 },
 "nbformat": 4,
 "nbformat_minor": 2
}
