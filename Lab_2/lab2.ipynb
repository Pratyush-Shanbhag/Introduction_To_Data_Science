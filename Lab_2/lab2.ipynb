{
 "cells": [
  {
   "cell_type": "markdown",
   "id": "33d73979",
   "metadata": {},
   "source": [
    "#### CIS 9 - Lab 2\n",
    "Topics: Pandas, Matplotlib"
   ]
  },
  {
   "cell_type": "code",
   "execution_count": 1,
   "id": "ccf72c6d",
   "metadata": {},
   "outputs": [],
   "source": [
    "# Name: Pratyush Shanbhag"
   ]
  },
  {
   "cell_type": "markdown",
   "id": "9c0e4ec4",
   "metadata": {},
   "source": [
    "After finishing this module, you should be able to analyze the majority of data that you come across. Therefore, unlike the fictitious Lab 1 where a teacher could presumably hire a data scientist, in this lab you're going to see whether some 'real life' data can give you guidance on your potential career path.\n",
    "\n",
    "The data comes from the California Employment Development Department (EDD) and the dataset is the Short-term Occupational Projections, which, based on the EDD website, give a 2-year projection of job outlook, and \"_are produced for the State to provide individuals and organizations with an occupational outlook to make informed decisions on individual career and organizational program development_.\" The dataset is the job growth projection for 2021-2023 and is in the input file `employment.xlsx` that you download along with the Lab 2 jupyter notebook ([data source](https://data.edd.ca.gov/Employment-Projections/Short-Term-Occupational-Employment-Projections/guh4-bakw))"
   ]
  },
  {
   "cell_type": "code",
   "execution_count": 2,
   "id": "212927f9",
   "metadata": {},
   "outputs": [],
   "source": [
    "# Import modules here\n",
    "import pandas as pd\n",
    "import numpy as np\n",
    "import matplotlib.pyplot as plt\n",
    "%matplotlib inline"
   ]
  },
  {
   "cell_type": "markdown",
   "id": "91766c59",
   "metadata": {},
   "source": [
    "1. **Read data from the _employment.xlsx_ file into a DataFrame**.<br>\n",
    "Then **print the number of rows and columns of the DataFrame and print the first 5 rows**"
   ]
  },
  {
   "cell_type": "code",
   "execution_count": 3,
   "id": "86f1984d",
   "metadata": {},
   "outputs": [
    {
     "name": "stdout",
     "output_type": "stream",
     "text": [
      "Shape of DataFrame: (782, 18)\n",
      "First five rows of data:\n",
      "  Area Type   Area Name     Period  SOC Level  \\\n",
      "0     State  California  2021-2023          1   \n",
      "1     State  California  2021-2023          2   \n",
      "2     State  California  2021-2023          3   \n",
      "3     State  California  2021-2023          4   \n",
      "4     State  California  2021-2023          4   \n",
      "\n",
      "  Standard Occupational Classification (SOC)               Occupational Title  \\\n",
      "0                                    00-0000           Total, All Occupations   \n",
      "1                                    11-0000           Management Occupations   \n",
      "2                                    11-1000                   Top Executives   \n",
      "3                                    11-1011                 Chief Executives   \n",
      "4                                    11-1021  General and Operations Managers   \n",
      "\n",
      "   Base Quarter Employment Estimate  Projected Quarter Employment Estimate  \\\n",
      "0                          18004000                               19296200   \n",
      "1                           1261300                                1343100   \n",
      "2                            303700                                 321500   \n",
      "3                             42700                                  43700   \n",
      "4                            257700                                 274500   \n",
      "\n",
      "   Numeric Change  Percentage Change    Exits  Transfers  Total Job Openings  \\\n",
      "0         1292200                7.2  1601310    2475710             5369220   \n",
      "1           81800                6.5    66360     140150              288310   \n",
      "2           17800                5.9    13140      36800               67740   \n",
      "3            1000                2.3     2360       3490                6850   \n",
      "4           16800                6.5    10630      33000               60430   \n",
      "\n",
      "   Median Hourly Wage  Median Annual Wage Entry Level Education  \\\n",
      "0               23.34               48532                   NaN   \n",
      "1               62.77              130574                   NaN   \n",
      "2                0.00                   0                   NaN   \n",
      "3                0.00                   0     Bachelor's degree   \n",
      "4               57.48              119561     Bachelor's degree   \n",
      "\n",
      "  Work Experience Job Training  \n",
      "0             NaN          NaN  \n",
      "1             NaN          NaN  \n",
      "2             NaN          NaN  \n",
      "3        ≥5 years         None  \n",
      "4        ≥5 years         None  \n"
     ]
    }
   ],
   "source": [
    "data = pd.read_excel(\"employment.xlsx\")\n",
    "print(f\"Shape of DataFrame: {data.shape}\")\n",
    "print(f\"First five rows of data:\\n{data[:5]}\")"
   ]
  },
  {
   "cell_type": "markdown",
   "id": "b0c17f64",
   "metadata": {},
   "source": [
    "2a. It looks like the first 3 columns (Area Type, Area Name, Period) have the same data for all rows.<br>\n",
    "Write code to **confirm that the first 3 columns have the same data for all rows**.<br>\n",
    "You should use a loop, don't copy and paste code 3 times."
   ]
  },
  {
   "cell_type": "code",
   "execution_count": 4,
   "id": "6de089f3",
   "metadata": {},
   "outputs": [
    {
     "name": "stdout",
     "output_type": "stream",
     "text": [
      "All values in the Area Type are the same\n",
      "All values in the Area Name are the same\n",
      "All values in the Period are the same\n"
     ]
    }
   ],
   "source": [
    "for i in range(3):\n",
    "    if data[data.columns[i]].nunique() == 1:\n",
    "        print(f\"All values in the {data.columns[i]} are the same\")"
   ]
  },
  {
   "cell_type": "markdown",
   "id": "74c9618b",
   "metadata": {},
   "source": [
    "2b. Now that we have confirmation that the dataset is for California and for the years 2021-2023,<br>\n",
    "**delete the first 3 columns** since they don't add any value to the individual rows.<br>\n",
    "Then **print the last 4 rows** of the DataFrame to check the updated DataFrame"
   ]
  },
  {
   "cell_type": "code",
   "execution_count": 5,
   "id": "883e82a9",
   "metadata": {},
   "outputs": [
    {
     "name": "stdout",
     "output_type": "stream",
     "text": [
      "Last four rows of data:\n",
      "     SOC Level Standard Occupational Classification (SOC)  \\\n",
      "778          4                                    53-7065   \n",
      "779          4                                    53-7081   \n",
      "780          4                                    53-7121   \n",
      "781          4                                    53-7199   \n",
      "\n",
      "                            Occupational Title  \\\n",
      "778                 Stockers and Order Fillers   \n",
      "779  Refuse and Recyclable Material Collectors   \n",
      "780          Tank Car, Truck, and Ship Loaders   \n",
      "781         Material Moving Workers, All Other   \n",
      "\n",
      "     Base Quarter Employment Estimate  Projected Quarter Employment Estimate  \\\n",
      "778                            273000                                 290400   \n",
      "779                             16000                                  16900   \n",
      "780                              1200                                   1200   \n",
      "781                             10000                                  10700   \n",
      "\n",
      "     Numeric Change  Percentage Change  Exits  Transfers  Total Job Openings  \\\n",
      "778           17400                6.4  32060      54950              104410   \n",
      "779             900                5.6   1390       2970                5260   \n",
      "780               0                0.0     80        210                 290   \n",
      "781             700                7.0    640       1770                3110   \n",
      "\n",
      "     Median Hourly Wage  Median Annual Wage  \\\n",
      "778               15.56               32371   \n",
      "779               27.45               57085   \n",
      "780               26.02               54120   \n",
      "781               15.09               31383   \n",
      "\n",
      "                 Entry Level Education Work Experience  \\\n",
      "778  High school diploma or equivalent            None   \n",
      "779   No formal educational credential            None   \n",
      "780   No formal educational credential            None   \n",
      "781   No formal educational credential            None   \n",
      "\n",
      "                       Job Training  \n",
      "778  Short-term on-the-job training  \n",
      "779  Short-term on-the-job training  \n",
      "780  Short-term on-the-job training  \n",
      "781  Short-term on-the-job training  \n"
     ]
    }
   ],
   "source": [
    "data.drop(columns=data.columns[:3], inplace=True)\n",
    "print(f\"Last four rows of data:\\n{data[-4:]}\")"
   ]
  },
  {
   "cell_type": "markdown",
   "id": "c3fc7deb",
   "metadata": {},
   "source": [
    "3. Some columns have data that can be derived from other columns, or have more general data:\n",
    "- SOC Level is more general than the more detailed Standard Occupational Classification (SOC)\n",
    "- Numeric Change + Exits + Transfers => Total Job Openings\n",
    "- Projected Quarter Employment Estimates - Base Quarter Employment Estimates => Numeric Change\n",
    "- Numeric Change is directly related to Percentage Change\n",
    "\n",
    "Therefore, we can ***delete SOC Level, Numeric Change, Exits, Transfers, Percentage Change, Projected Quarter Employment Estimate***.<br>"
   ]
  },
  {
   "cell_type": "code",
   "execution_count": 6,
   "id": "c905a704",
   "metadata": {},
   "outputs": [],
   "source": [
    "data.drop(columns=[\"SOC Level\", \"Numeric Change\", \"Exits\", \"Transfers\", \"Percentage Change\", \"Projected Quarter Employment Estimate\"], inplace=True)"
   ]
  },
  {
   "cell_type": "markdown",
   "id": "1c752821",
   "metadata": {},
   "source": [
    "4. From the previous step, it's obvious that the longer column labels are cumbersome.<br>\n",
    "***Simplify the column names to: SOC, title, base, openings, hour, annual, education, experience, and training***<br>\n",
    "Then ***print the first 5 rows*** to verify the updated DataFrame.<br>\n",
    "You should not have to type in all the original column labels."
   ]
  },
  {
   "cell_type": "code",
   "execution_count": 7,
   "id": "b695d206",
   "metadata": {},
   "outputs": [
    {
     "name": "stdout",
     "output_type": "stream",
     "text": [
      "First five rows of data:\n",
      "       SOC                            title      base  openings   hour  \\\n",
      "0  00-0000           Total, All Occupations  18004000   5369220  23.34   \n",
      "1  11-0000           Management Occupations   1261300    288310  62.77   \n",
      "2  11-1000                   Top Executives    303700     67740   0.00   \n",
      "3  11-1011                 Chief Executives     42700      6850   0.00   \n",
      "4  11-1021  General and Operations Managers    257700     60430  57.48   \n",
      "\n",
      "   annual          education experience training  \n",
      "0   48532                NaN        NaN      NaN  \n",
      "1  130574                NaN        NaN      NaN  \n",
      "2       0                NaN        NaN      NaN  \n",
      "3       0  Bachelor's degree   ≥5 years     None  \n",
      "4  119561  Bachelor's degree   ≥5 years     None  \n"
     ]
    }
   ],
   "source": [
    "data.rename(columns={\"Standard Occupational Classification (SOC)\": \"SOC\", \"Occupational Title\": \"title\",\n",
    "                     \"Base Quarter Employment Estimate\": \"base\", \"Total Job Openings\": \"openings\",\n",
    "                     \"Median Hourly Wage\": \"hour\", \"Median Annual Wage\": \"annual\",\n",
    "                     \"Entry Level Education\": \"education\", \"Work Experience\": \"experience\",\n",
    "                     \"Job Training\": \"training\"}, inplace=True)\n",
    "print(f\"First five rows of data:\\n{data[:5]}\")"
   ]
  },
  {
   "cell_type": "markdown",
   "id": "f214b5e5",
   "metadata": {},
   "source": [
    "5. From the output of the above step, observe that there are NaNs in the DataFrame.\n",
    "***Print the number of NaNs for each column***<br>\n",
    "The output should be the column names and the corresponding count of NaNs in the column."
   ]
  },
  {
   "cell_type": "code",
   "execution_count": 8,
   "id": "268395cc",
   "metadata": {},
   "outputs": [
    {
     "name": "stdout",
     "output_type": "stream",
     "text": [
      "Count of NaNs in the SOC column: 0\n",
      "Count of NaNs in the title column: 0\n",
      "Count of NaNs in the base column: 0\n",
      "Count of NaNs in the openings column: 0\n",
      "Count of NaNs in the hour column: 0\n",
      "Count of NaNs in the annual column: 0\n",
      "Count of NaNs in the education column: 117\n",
      "Count of NaNs in the experience column: 117\n",
      "Count of NaNs in the training column: 117\n"
     ]
    }
   ],
   "source": [
    "for i in data.columns:\n",
    "    print(f\"Count of NaNs in the {i} column: {data[i].isna().sum()}\")"
   ]
  },
  {
   "cell_type": "raw",
   "id": "c9a48aa4",
   "metadata": {},
   "source": [
    "There are NaNs in the job preparation fields of some occupations. Since we will be investigating the salary and number of job openings, it's okay to have these NaNs in this case."
   ]
  },
  {
   "cell_type": "markdown",
   "id": "cb7fa45e",
   "metadata": {},
   "source": [
    "6. Each entry of the SOC column is a text string made of 2 fields: broad occupation number - detailed occupation number<br>\n",
    "The broad occupation number describes a general field of employment, such as management, tech, education..., and the detailed occupation is the specific job title within the field.<br>\n",
    "\n",
    "***Change each SOC value to keep the broad occupation number only***, discarding the dash and the detailed occupation number. Example: 11-1021 will become 11<br>\n",
    "Then use the Jupyter Notebook print (not Python print() function) to ***print the DataFrame*** to check the updated SOC.<br>\n",
    "\n",
    "_Ideally you don't need to write a loop for this step, but if you need to, you can write a loop_"
   ]
  },
  {
   "cell_type": "code",
   "execution_count": 9,
   "id": "a6a1a283",
   "metadata": {},
   "outputs": [
    {
     "data": {
      "text/html": [
       "<div>\n",
       "<style scoped>\n",
       "    .dataframe tbody tr th:only-of-type {\n",
       "        vertical-align: middle;\n",
       "    }\n",
       "\n",
       "    .dataframe tbody tr th {\n",
       "        vertical-align: top;\n",
       "    }\n",
       "\n",
       "    .dataframe thead th {\n",
       "        text-align: right;\n",
       "    }\n",
       "</style>\n",
       "<table border=\"1\" class=\"dataframe\">\n",
       "  <thead>\n",
       "    <tr style=\"text-align: right;\">\n",
       "      <th></th>\n",
       "      <th>SOC</th>\n",
       "      <th>title</th>\n",
       "      <th>base</th>\n",
       "      <th>openings</th>\n",
       "      <th>hour</th>\n",
       "      <th>annual</th>\n",
       "      <th>education</th>\n",
       "      <th>experience</th>\n",
       "      <th>training</th>\n",
       "    </tr>\n",
       "  </thead>\n",
       "  <tbody>\n",
       "    <tr>\n",
       "      <th>0</th>\n",
       "      <td>0</td>\n",
       "      <td>Total, All Occupations</td>\n",
       "      <td>18004000</td>\n",
       "      <td>5369220</td>\n",
       "      <td>23.34</td>\n",
       "      <td>48532</td>\n",
       "      <td>NaN</td>\n",
       "      <td>NaN</td>\n",
       "      <td>NaN</td>\n",
       "    </tr>\n",
       "    <tr>\n",
       "      <th>1</th>\n",
       "      <td>11</td>\n",
       "      <td>Management Occupations</td>\n",
       "      <td>1261300</td>\n",
       "      <td>288310</td>\n",
       "      <td>62.77</td>\n",
       "      <td>130574</td>\n",
       "      <td>NaN</td>\n",
       "      <td>NaN</td>\n",
       "      <td>NaN</td>\n",
       "    </tr>\n",
       "    <tr>\n",
       "      <th>2</th>\n",
       "      <td>11</td>\n",
       "      <td>Top Executives</td>\n",
       "      <td>303700</td>\n",
       "      <td>67740</td>\n",
       "      <td>0.00</td>\n",
       "      <td>0</td>\n",
       "      <td>NaN</td>\n",
       "      <td>NaN</td>\n",
       "      <td>NaN</td>\n",
       "    </tr>\n",
       "    <tr>\n",
       "      <th>3</th>\n",
       "      <td>11</td>\n",
       "      <td>Chief Executives</td>\n",
       "      <td>42700</td>\n",
       "      <td>6850</td>\n",
       "      <td>0.00</td>\n",
       "      <td>0</td>\n",
       "      <td>Bachelor's degree</td>\n",
       "      <td>≥5 years</td>\n",
       "      <td>None</td>\n",
       "    </tr>\n",
       "    <tr>\n",
       "      <th>4</th>\n",
       "      <td>11</td>\n",
       "      <td>General and Operations Managers</td>\n",
       "      <td>257700</td>\n",
       "      <td>60430</td>\n",
       "      <td>57.48</td>\n",
       "      <td>119561</td>\n",
       "      <td>Bachelor's degree</td>\n",
       "      <td>≥5 years</td>\n",
       "      <td>None</td>\n",
       "    </tr>\n",
       "    <tr>\n",
       "      <th>...</th>\n",
       "      <td>...</td>\n",
       "      <td>...</td>\n",
       "      <td>...</td>\n",
       "      <td>...</td>\n",
       "      <td>...</td>\n",
       "      <td>...</td>\n",
       "      <td>...</td>\n",
       "      <td>...</td>\n",
       "      <td>...</td>\n",
       "    </tr>\n",
       "    <tr>\n",
       "      <th>777</th>\n",
       "      <td>53</td>\n",
       "      <td>Packers and Packagers, Hand</td>\n",
       "      <td>84400</td>\n",
       "      <td>27150</td>\n",
       "      <td>14.61</td>\n",
       "      <td>30374</td>\n",
       "      <td>No formal educational credential</td>\n",
       "      <td>None</td>\n",
       "      <td>Short-term on-the-job training</td>\n",
       "    </tr>\n",
       "    <tr>\n",
       "      <th>778</th>\n",
       "      <td>53</td>\n",
       "      <td>Stockers and Order Fillers</td>\n",
       "      <td>273000</td>\n",
       "      <td>104410</td>\n",
       "      <td>15.56</td>\n",
       "      <td>32371</td>\n",
       "      <td>High school diploma or equivalent</td>\n",
       "      <td>None</td>\n",
       "      <td>Short-term on-the-job training</td>\n",
       "    </tr>\n",
       "    <tr>\n",
       "      <th>779</th>\n",
       "      <td>53</td>\n",
       "      <td>Refuse and Recyclable Material Collectors</td>\n",
       "      <td>16000</td>\n",
       "      <td>5260</td>\n",
       "      <td>27.45</td>\n",
       "      <td>57085</td>\n",
       "      <td>No formal educational credential</td>\n",
       "      <td>None</td>\n",
       "      <td>Short-term on-the-job training</td>\n",
       "    </tr>\n",
       "    <tr>\n",
       "      <th>780</th>\n",
       "      <td>53</td>\n",
       "      <td>Tank Car, Truck, and Ship Loaders</td>\n",
       "      <td>1200</td>\n",
       "      <td>290</td>\n",
       "      <td>26.02</td>\n",
       "      <td>54120</td>\n",
       "      <td>No formal educational credential</td>\n",
       "      <td>None</td>\n",
       "      <td>Short-term on-the-job training</td>\n",
       "    </tr>\n",
       "    <tr>\n",
       "      <th>781</th>\n",
       "      <td>53</td>\n",
       "      <td>Material Moving Workers, All Other</td>\n",
       "      <td>10000</td>\n",
       "      <td>3110</td>\n",
       "      <td>15.09</td>\n",
       "      <td>31383</td>\n",
       "      <td>No formal educational credential</td>\n",
       "      <td>None</td>\n",
       "      <td>Short-term on-the-job training</td>\n",
       "    </tr>\n",
       "  </tbody>\n",
       "</table>\n",
       "<p>782 rows × 9 columns</p>\n",
       "</div>"
      ],
      "text/plain": [
       "     SOC                                      title      base  openings  \\\n",
       "0      0                     Total, All Occupations  18004000   5369220   \n",
       "1     11                     Management Occupations   1261300    288310   \n",
       "2     11                             Top Executives    303700     67740   \n",
       "3     11                           Chief Executives     42700      6850   \n",
       "4     11            General and Operations Managers    257700     60430   \n",
       "..   ...                                        ...       ...       ...   \n",
       "777   53                Packers and Packagers, Hand     84400     27150   \n",
       "778   53                 Stockers and Order Fillers    273000    104410   \n",
       "779   53  Refuse and Recyclable Material Collectors     16000      5260   \n",
       "780   53          Tank Car, Truck, and Ship Loaders      1200       290   \n",
       "781   53         Material Moving Workers, All Other     10000      3110   \n",
       "\n",
       "      hour  annual                          education experience  \\\n",
       "0    23.34   48532                                NaN        NaN   \n",
       "1    62.77  130574                                NaN        NaN   \n",
       "2     0.00       0                                NaN        NaN   \n",
       "3     0.00       0                  Bachelor's degree   ≥5 years   \n",
       "4    57.48  119561                  Bachelor's degree   ≥5 years   \n",
       "..     ...     ...                                ...        ...   \n",
       "777  14.61   30374   No formal educational credential       None   \n",
       "778  15.56   32371  High school diploma or equivalent       None   \n",
       "779  27.45   57085   No formal educational credential       None   \n",
       "780  26.02   54120   No formal educational credential       None   \n",
       "781  15.09   31383   No formal educational credential       None   \n",
       "\n",
       "                           training  \n",
       "0                               NaN  \n",
       "1                               NaN  \n",
       "2                               NaN  \n",
       "3                              None  \n",
       "4                              None  \n",
       "..                              ...  \n",
       "777  Short-term on-the-job training  \n",
       "778  Short-term on-the-job training  \n",
       "779  Short-term on-the-job training  \n",
       "780  Short-term on-the-job training  \n",
       "781  Short-term on-the-job training  \n",
       "\n",
       "[782 rows x 9 columns]"
      ]
     },
     "execution_count": 9,
     "metadata": {},
     "output_type": "execute_result"
    }
   ],
   "source": [
    "data[\"SOC\"] = data[\"SOC\"].str[:2].astype(int)\n",
    "data"
   ]
  },
  {
   "cell_type": "markdown",
   "id": "6ca14225",
   "metadata": {},
   "source": [
    "---"
   ]
  },
  {
   "cell_type": "markdown",
   "id": "a0c9dfa2",
   "metadata": {},
   "source": [
    "Now that we've cleaned up the DataFrame, first we look at the general job trends.<br>"
   ]
  },
  {
   "cell_type": "markdown",
   "id": "8442b071",
   "metadata": {},
   "source": [
    "<u>Part A: education level and job titles</u>"
   ]
  },
  {
   "cell_type": "markdown",
   "id": "96933621",
   "metadata": {},
   "source": [
    "7. There are 8 different education levels in the dataset.<br>\n",
    "***Show the education levels and the number of jobs that require that level of education***<br>\n",
    "The output should be _sorted by number of jobs_:<br>\n",
    "`Level A      smallest number\n",
    "  ...\n",
    " Level X      largest number`"
   ]
  },
  {
   "cell_type": "code",
   "execution_count": 55,
   "id": "24818a71",
   "metadata": {},
   "outputs": [
    {
     "data": {
      "text/html": [
       "<div>\n",
       "<style scoped>\n",
       "    .dataframe tbody tr th:only-of-type {\n",
       "        vertical-align: middle;\n",
       "    }\n",
       "\n",
       "    .dataframe tbody tr th {\n",
       "        vertical-align: top;\n",
       "    }\n",
       "\n",
       "    .dataframe thead th {\n",
       "        text-align: right;\n",
       "    }\n",
       "</style>\n",
       "<table border=\"1\" class=\"dataframe\">\n",
       "  <thead>\n",
       "    <tr style=\"text-align: right;\">\n",
       "      <th></th>\n",
       "      <th>education</th>\n",
       "      <th>openings</th>\n",
       "    </tr>\n",
       "  </thead>\n",
       "  <tbody>\n",
       "    <tr>\n",
       "      <th>4</th>\n",
       "      <td>Master's degree</td>\n",
       "      <td>77680</td>\n",
       "    </tr>\n",
       "    <tr>\n",
       "      <th>2</th>\n",
       "      <td>Doctoral or professional degree</td>\n",
       "      <td>86010</td>\n",
       "    </tr>\n",
       "    <tr>\n",
       "      <th>0</th>\n",
       "      <td>Associate's degree</td>\n",
       "      <td>88410</td>\n",
       "    </tr>\n",
       "    <tr>\n",
       "      <th>7</th>\n",
       "      <td>Some college, no degree</td>\n",
       "      <td>124760</td>\n",
       "    </tr>\n",
       "    <tr>\n",
       "      <th>6</th>\n",
       "      <td>Postsecondary non-degree award</td>\n",
       "      <td>274790</td>\n",
       "    </tr>\n",
       "    <tr>\n",
       "      <th>1</th>\n",
       "      <td>Bachelor's degree</td>\n",
       "      <td>1050990</td>\n",
       "    </tr>\n",
       "    <tr>\n",
       "      <th>5</th>\n",
       "      <td>No formal educational credential</td>\n",
       "      <td>1799370</td>\n",
       "    </tr>\n",
       "    <tr>\n",
       "      <th>3</th>\n",
       "      <td>High school diploma or equivalent</td>\n",
       "      <td>1840190</td>\n",
       "    </tr>\n",
       "  </tbody>\n",
       "</table>\n",
       "</div>"
      ],
      "text/plain": [
       "                           education  openings\n",
       "4                    Master's degree     77680\n",
       "2    Doctoral or professional degree     86010\n",
       "0                 Associate's degree     88410\n",
       "7            Some college, no degree    124760\n",
       "6     Postsecondary non-degree award    274790\n",
       "1                  Bachelor's degree   1050990\n",
       "5   No formal educational credential   1799370\n",
       "3  High school diploma or equivalent   1840190"
      ]
     },
     "execution_count": 55,
     "metadata": {},
     "output_type": "execute_result"
    }
   ],
   "source": [
    "ed_df = data.groupby([\"education\"])[\"openings\"].sum().reset_index().sort_values(by=\"openings\")\n",
    "ed_df"
   ]
  },
  {
   "cell_type": "markdown",
   "id": "8e268607",
   "metadata": {},
   "source": [
    "8. ***Show all the job titles for one level of education***<br>\n",
    "Use your choice of the level of education, and print 2 job titles per line, separated by comma.<br>\n",
    "Here are the first few lines of output for Bachelor's degree:<br>\n",
    "`Jobs requiring a Bachelor's degree:\n",
    "Chief Executives, General and Operations Managers\n",
    "Legislators, Advertising and Promotions Managers`\n",
    "\n",
    "_You only need to show 1 level of education for the lab, but feel free to change to other levels to see what jobs are at other levels_"
   ]
  },
  {
   "cell_type": "code",
   "execution_count": null,
   "id": "54d84a07",
   "metadata": {},
   "outputs": [],
   "source": [
    "print(\"Jobs requiring a Bachelor's degree:\")\n"
   ]
  },
  {
   "cell_type": "markdown",
   "id": "5f5c5b5a",
   "metadata": {},
   "source": [
    "<u>Part B: education level and salary</u>"
   ]
  },
  {
   "cell_type": "markdown",
   "id": "6ff02f5f",
   "metadata": {},
   "source": [
    "Some of the rows have an hourly pay but no annual pay. We want to calculate the annual pay for these rows.<br>\n",
    "\n",
    "9a. ***Show the index of the rows with no annual pay but have hourly pay.***<br>\n",
    "A pay value of 0 means that there is no data."
   ]
  },
  {
   "cell_type": "code",
   "execution_count": null,
   "id": "c0863163",
   "metadata": {},
   "outputs": [],
   "source": []
  },
  {
   "cell_type": "markdown",
   "id": "4936ad5a",
   "metadata": {},
   "source": [
    "9b. Use the index values from step 9a, ***calculate and store the annual pay for those rows*** in the DataFrame<br>\n",
    "Then ***print the annual pay of those rows***\n",
    "\n",
    "The annual pay = hourly pay * 40 * 52"
   ]
  },
  {
   "cell_type": "code",
   "execution_count": null,
   "id": "037c12fb",
   "metadata": {},
   "outputs": [],
   "source": []
  },
  {
   "cell_type": "markdown",
   "id": "413f54cf",
   "metadata": {},
   "source": [
    "10. Follow the steps below to plot the education vs salary to see if there are correlations<br>"
   ]
  },
  {
   "cell_type": "markdown",
   "id": "5b8a5195",
   "metadata": {},
   "source": [
    "10a. Prepare data to be plotted:\n",
    "- ***Create a new DataFrame with 2 columns from the curent DataFrame: _annual_ salary and _education_ level***\n",
    "- ***Remove rows with NaN***\n",
    "- ***Remove rows with no annual salary***\n",
    "- ***Change the education level to numeric data***\n",
    "\n",
    "Then ***print the new DataFrame*** to check your work"
   ]
  },
  {
   "cell_type": "code",
   "execution_count": null,
   "id": "a1ef5630",
   "metadata": {},
   "outputs": [],
   "source": []
  },
  {
   "cell_type": "markdown",
   "id": "4675af2d",
   "metadata": {},
   "source": [
    "10b. Use the <u>proper</u> type of plot to ***plot the correlation between education level and salary***<br>\n",
    "The plot should have:\n",
    "- a title\n",
    "- education levels on one axis and salaries on the other axis\n",
    "- all labels must be clearly shown: no overlapping labels, font size must be readable"
   ]
  },
  {
   "cell_type": "code",
   "execution_count": null,
   "id": "944f2d30",
   "metadata": {},
   "outputs": [],
   "source": []
  },
  {
   "cell_type": "markdown",
   "id": "f7ef7577",
   "metadata": {},
   "source": [
    "10c. Data visualization can sometimes tell a story better than analyzing columns of numbers.<br>\n",
    "***Create a Raw NBConvert cell to describe any pattern you see from the plot***"
   ]
  },
  {
   "cell_type": "markdown",
   "id": "75138eb0",
   "metadata": {},
   "source": [
    "11. The plot of step 10 shows that there are a few jobs which pay really well, above $200,000/yr median salary.<br>\n",
    "***Print the job titles for jobs that are above 200,000 annual salary.***"
   ]
  },
  {
   "cell_type": "code",
   "execution_count": null,
   "id": "2d762325",
   "metadata": {},
   "outputs": [],
   "source": []
  },
  {
   "cell_type": "markdown",
   "id": "e17a6f55",
   "metadata": {},
   "source": [
    "<u>Part C: education and salary of top 2 highest paid fields</u>"
   ]
  },
  {
   "cell_type": "markdown",
   "id": "303bfadf",
   "metadata": {},
   "source": [
    "12. ***Show the SOC and the median annual salary of each SOC***<br>\n",
    "The output should be unique SOC numbers and corresponding median salaries, _sorted by median salaries_"
   ]
  },
  {
   "cell_type": "code",
   "execution_count": null,
   "id": "04c8cd41",
   "metadata": {},
   "outputs": [],
   "source": []
  },
  {
   "cell_type": "markdown",
   "id": "0428224e",
   "metadata": {},
   "source": [
    "13a. Looking at the output of step 12, you can see the SOC of the top 2 median salaries.<br>\n",
    "Using these 2 SOC, ***create a DataFrame of all rows that have the 2 SOC***<br>\n",
    "Then ***print the new DataFrame*** (use Jupyter Notebook print)"
   ]
  },
  {
   "cell_type": "code",
   "execution_count": null,
   "id": "8158b84d",
   "metadata": {},
   "outputs": [],
   "source": []
  },
  {
   "cell_type": "markdown",
   "id": "5d6bc27a",
   "metadata": {},
   "source": [
    "13b. Working with the new DataFrame, ***remove all rows that have no annual salary and all rows with NaN***"
   ]
  },
  {
   "cell_type": "code",
   "execution_count": null,
   "id": "c3d25cdb",
   "metadata": {},
   "outputs": [],
   "source": []
  },
  {
   "cell_type": "markdown",
   "id": "856247d9",
   "metadata": {},
   "source": [
    "14a. ***Select the 10 rows with the highest annual salary***<br>\n",
    "Then ***print the title, education, and experience columns of these 10 rows***"
   ]
  },
  {
   "cell_type": "code",
   "execution_count": null,
   "id": "fece4b0a",
   "metadata": {},
   "outputs": [],
   "source": []
  },
  {
   "cell_type": "markdown",
   "id": "610f3c48",
   "metadata": {},
   "source": [
    "14b. What do you observe about title, education level, and experience of these jobs?<br>\n",
    "***Create a Raw NBConvert cell for your answer***"
   ]
  },
  {
   "cell_type": "markdown",
   "id": "8f7fae07",
   "metadata": {},
   "source": [
    "15. Now we find the jobs with the most expected job openings in 2021-2023.<br>\n",
    "***Select the 10 rows with the highest job openings***<br>\n",
    "Then ***print the title, job openings, annual salary, education, and experience columns of these 10 rows***"
   ]
  },
  {
   "cell_type": "code",
   "execution_count": null,
   "id": "8268ad9b",
   "metadata": {},
   "outputs": [],
   "source": []
  },
  {
   "cell_type": "markdown",
   "id": "11e71172",
   "metadata": {},
   "source": [
    "16. Now we look at jobs in the tech sector, which has SOC 15.<br>\n",
    "***Create a DataFrame with rows that have SOC 15***, then ***print the DataFrame***"
   ]
  },
  {
   "cell_type": "code",
   "execution_count": null,
   "id": "8e71fb76",
   "metadata": {},
   "outputs": [],
   "source": []
  },
  {
   "cell_type": "markdown",
   "id": "6efadf7f",
   "metadata": {},
   "source": [
    "17. Create a plot with 2 subplots (use the <u>appropriate</u> type of plots): \n",
    "- Subplot 1: ***Plot the job title and the annual salary of each job***\n",
    "- Subplot 2: ***Plot the job title and the job openings of each job***\n",
    "\n",
    "The 2 subplots are lined up top and bottom (vertically)<br>\n",
    "The salary and the job openings _must be sorted_ in the subplots<br>\n",
    "The job titles are long, make sure you use a font size that's readable (and choosing the appropriate way to plot will make the job titles more readable)<br>\n",
    "Adjust the size of the plot and the distance between the 2 subplots so there's no overlap\n",
    "\n",
    "_Note that you need to create 1 plot with 2 subplots. Don't create 2 different plots_"
   ]
  },
  {
   "cell_type": "code",
   "execution_count": null,
   "id": "643c0036",
   "metadata": {},
   "outputs": [],
   "source": []
  },
  {
   "cell_type": "markdown",
   "id": "5140b160",
   "metadata": {},
   "source": [
    "Hopefully the analysis work you've done shows that you're already in or heading towards a promising career."
   ]
  },
  {
   "cell_type": "code",
   "execution_count": null,
   "id": "36059cce",
   "metadata": {},
   "outputs": [],
   "source": []
  }
 ],
 "metadata": {
  "kernelspec": {
   "display_name": "Python 3 (ipykernel)",
   "language": "python",
   "name": "python3"
  },
  "language_info": {
   "codemirror_mode": {
    "name": "ipython",
    "version": 3
   },
   "file_extension": ".py",
   "mimetype": "text/x-python",
   "name": "python",
   "nbconvert_exporter": "python",
   "pygments_lexer": "ipython3",
   "version": "3.9.7"
  }
 },
 "nbformat": 4,
 "nbformat_minor": 5
}
