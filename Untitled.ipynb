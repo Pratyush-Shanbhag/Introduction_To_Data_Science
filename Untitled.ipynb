{
 "cells": [
  {
   "cell_type": "code",
   "execution_count": 1,
   "id": "4bc39d34",
   "metadata": {},
   "outputs": [],
   "source": [
    "# Import modules here\n",
    "import pandas as pd\n",
    "import numpy as np\n",
    "import matplotlib.pyplot as plt\n",
    "%matplotlib inline"
   ]
  },
  {
   "cell_type": "code",
   "execution_count": 11,
   "id": "653167b9",
   "metadata": {},
   "outputs": [
    {
     "name": "stdout",
     "output_type": "stream",
     "text": [
      "[[ 1  2  3  4]\n",
      " [ 5  6  7  8]\n",
      " [ 9 10 11 12]\n",
      " [13 14 15 16]]\n",
      "\n",
      "[[ 9 10 11 12]\n",
      " [13 14 15 16]]\n",
      "13\n",
      "[[ 9 10 11 12]\n",
      " [50 14 15 16]]\n",
      "\n",
      "[[ 1  2  3  4]\n",
      " [ 5  6  7  8]\n",
      " [ 9 10 11 12]\n",
      " [50 14 15 16]]\n"
     ]
    }
   ],
   "source": [
    "a = np.array([[1, 2, 3, 4], [5, 6, 7, 8], [9, 10, 11, 12], [13, 14, 15, 16]])\n",
    "b = a[-2:]\n",
    "print(a)\n",
    "print()\n",
    "print(b)\n",
    "print(b[1, 0])\n",
    "b[1, 0] = 50\n",
    "print(b)\n",
    "print()\n",
    "print(a)"
   ]
  },
  {
   "cell_type": "code",
   "execution_count": 15,
   "id": "c2677960",
   "metadata": {},
   "outputs": [
    {
     "name": "stdout",
     "output_type": "stream",
     "text": [
      "(2, 4)\n",
      "2\n"
     ]
    }
   ],
   "source": [
    "print(b.shape)\n",
    "print(b.shape[0])"
   ]
  },
  {
   "cell_type": "code",
   "execution_count": 22,
   "id": "2b1d68c8",
   "metadata": {},
   "outputs": [
    {
     "name": "stdout",
     "output_type": "stream",
     "text": [
      "[[1 2 3 4]\n",
      " [5 6 7 8]]\n"
     ]
    }
   ],
   "source": [
    "c = a[ : a.shape[0] // 2]\n",
    "print(c)"
   ]
  },
  {
   "cell_type": "code",
   "execution_count": 23,
   "id": "00c32af1",
   "metadata": {},
   "outputs": [
    {
     "name": "stdout",
     "output_type": "stream",
     "text": [
      "[[100 200 300 400]\n",
      " [500 600 700 800]]\n"
     ]
    }
   ],
   "source": [
    "c *= 100\n",
    "print(c)"
   ]
  },
  {
   "cell_type": "code",
   "execution_count": 29,
   "id": "db6205f4",
   "metadata": {},
   "outputs": [
    {
     "name": "stdout",
     "output_type": "stream",
     "text": [
      "[[100 200 300 400]\n",
      " [500 600   1 800]]\n",
      "[2 0 1 3]\n"
     ]
    }
   ],
   "source": [
    "c[1, 2] = 1\n",
    "print(c)\n",
    "x = c[1]\n",
    "d = np.argsort(x)\n",
    "print(d)"
   ]
  },
  {
   "cell_type": "code",
   "execution_count": 46,
   "id": "a991660a",
   "metadata": {},
   "outputs": [
    {
     "name": "stdout",
     "output_type": "stream",
     "text": [
      "1\n",
      "(4,)\n",
      "800\n",
      "<class 'numpy.ndarray'>\n"
     ]
    }
   ],
   "source": [
    "print(x[d[0]])\n",
    "print(x.shape)\n",
    "print(x[d[-1]])\n",
    "w = np.array([x[d[0]], x[d[-1]]])\n",
    "print(type(w))"
   ]
  },
  {
   "cell_type": "code",
   "execution_count": 58,
   "id": "82ad487b",
   "metadata": {},
   "outputs": [
    {
     "name": "stdout",
     "output_type": "stream",
     "text": [
      "Dataframe columns: Index(['Col1_Category', 'Col2_Color'], dtype='object')\n",
      "Dataframe columns: Index(['Category', 'Color'], dtype='object')\n"
     ]
    }
   ],
   "source": [
    "data = {'Col1_Category': ['Dog', 'Cat', 'Rabbit', 'Parrot'],\n",
    "       'Col2_Color': ['brown', 'brown', 'white', 'green']}\n",
    "df = pd.DataFrame(data)\n",
    "# print dataframe columns\n",
    "print(\"Dataframe columns:\", df.columns)\n",
    "# change column names to the string after the _\n",
    "df = df.rename(columns=lambda x: x.split(\"_\")[1])\n",
    "# print dataframe columns\n",
    "print(\"Dataframe columns:\", df.columns)\n",
    "#print(df.isna().any())"
   ]
  },
  {
   "cell_type": "code",
   "execution_count": 57,
   "id": "22237c27",
   "metadata": {},
   "outputs": [
    {
     "name": "stdout",
     "output_type": "stream",
     "text": [
      "True\n",
      "False\n"
     ]
    }
   ],
   "source": [
    "if df.isna().any().any() == 0:\n",
    "    print(\"True\")\n",
    "print(df.isna().any().any() != 0)"
   ]
  },
  {
   "cell_type": "code",
   "execution_count": 59,
   "id": "2bf375bc",
   "metadata": {},
   "outputs": [
    {
     "name": "stdout",
     "output_type": "stream",
     "text": [
      "['brown' 'white' 'green']\n"
     ]
    }
   ],
   "source": [
    "print(df[\"Color\"].unique())"
   ]
  },
  {
   "cell_type": "code",
   "execution_count": null,
   "id": "7d26612e",
   "metadata": {},
   "outputs": [],
   "source": []
  }
 ],
 "metadata": {
  "kernelspec": {
   "display_name": "Python 3 (ipykernel)",
   "language": "python",
   "name": "python3"
  },
  "language_info": {
   "codemirror_mode": {
    "name": "ipython",
    "version": 3
   },
   "file_extension": ".py",
   "mimetype": "text/x-python",
   "name": "python",
   "nbconvert_exporter": "python",
   "pygments_lexer": "ipython3",
   "version": "3.9.7"
  }
 },
 "nbformat": 4,
 "nbformat_minor": 5
}
