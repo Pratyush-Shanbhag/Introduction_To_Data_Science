{
 "cells": [
  {
   "cell_type": "markdown",
   "metadata": {},
   "source": [
    "## CIS 9\n",
    "## Pandas, Data Analysis, Data Cleaning"
   ]
  },
  {
   "cell_type": "markdown",
   "metadata": {},
   "source": [
    "Reading\n",
    "<br>Python Data Science Handbook Chapter 3\n",
    "- Introducing Pandas Objects\n",
    "- Data Indexing and Selection\n",
    "- Handling Missing Data, section on NaN\n",
    "- Combining Datasets: Concat and Append, section on concat\n",
    "- Aggregation and Grouping, section on groupby\n",
    "- Vectorized String Operations, up to but not including the Example Recipe Database"
   ]
  },
  {
   "cell_type": "markdown",
   "metadata": {},
   "source": [
    "Comparison of different data storage:\n",
    "- A _Python list_ can store different types of data and can change size, but the flexibility makes indexing and calculation of data in a list slow.\n",
    "- A _numpy array_ can only store only one data type and has fixed size, therefore indexing and calculation of data in a numpy array is very fast.\n",
    "- A _pandas data structure_ can store different types of data, so indexing data is a little slower than numpy but still faster than a list, and when calculations are done with numeric data, they are done using numpy and are very fast. \n",
    "<br>For data analysis purpose, this is best of both worlds! We get some of the flexibility and all the calculation speed.\n",
    "<br><br>A pandas DataFrame (a 2D structure) is the workhorse of data analysis."
   ]
  },
  {
   "cell_type": "markdown",
   "metadata": {},
   "source": [
    "Import libraries"
   ]
  },
  {
   "cell_type": "code",
   "execution_count": 34,
   "metadata": {},
   "outputs": [],
   "source": [
    "import pandas as pd\n",
    "import numpy as np   \n",
    "# Pandas doesn't need importing of numpy, this import is for when we need numpy directly."
   ]
  },
  {
   "cell_type": "markdown",
   "metadata": {},
   "source": [
    "Pandas __Series__: 1D sequence of data"
   ]
  },
  {
   "cell_type": "code",
   "execution_count": 35,
   "metadata": {},
   "outputs": [
    {
     "name": "stdout",
     "output_type": "stream",
     "text": [
      "0    1\n",
      "1    5\n",
      "2    2\n",
      "3    8\n",
      "4    3\n",
      "dtype: int64\n"
     ]
    },
    {
     "data": {
      "text/plain": [
       "0    1\n",
       "1    5\n",
       "2    2\n",
       "3    8\n",
       "4    3\n",
       "dtype: int64"
      ]
     },
     "execution_count": 35,
     "metadata": {},
     "output_type": "execute_result"
    }
   ],
   "source": [
    "# 1. A Series is similar to a Python list, with data and indices\n",
    "\n",
    "nums = pd.Series([1,5,2,8,3])\n",
    "print(nums)\n",
    "nums"
   ]
  },
  {
   "cell_type": "code",
   "execution_count": 36,
   "metadata": {},
   "outputs": [
    {
     "name": "stdout",
     "output_type": "stream",
     "text": [
      "nums.values: [1 5 2 8 3] \n",
      "\n",
      "nums.index: RangeIndex(start=0, stop=5, step=1) \n",
      "\n",
      "using index value 0: 1 \n",
      "\n",
      "using a slice:\n"
     ]
    },
    {
     "data": {
      "text/plain": [
       "0    1\n",
       "1    5\n",
       "2    2\n",
       "dtype: int64"
      ]
     },
     "execution_count": 36,
     "metadata": {},
     "output_type": "execute_result"
    }
   ],
   "source": [
    "# accessing data in a Series\n",
    "\n",
    "print(\"nums.values:\", nums.values, '\\n')\n",
    "print(\"nums.index:\", nums.index, '\\n')\n",
    "print(\"using index value 0:\", nums[0], '\\n')\n",
    "print(\"using a slice:\")\n",
    "nums[:3]\n",
    "\n",
    "# Note that there is no negative indexing in pandas"
   ]
  },
  {
   "cell_type": "code",
   "execution_count": 37,
   "metadata": {},
   "outputs": [
    {
     "name": "stdout",
     "output_type": "stream",
     "text": [
      "<class 'numpy.float64'>\n"
     ]
    },
    {
     "data": {
      "text/plain": [
       "7.8"
      ]
     },
     "execution_count": 37,
     "metadata": {},
     "output_type": "execute_result"
    }
   ],
   "source": [
    "# 2. Internally, numeric data are stored in a numpy array\n",
    "\n",
    "nums = pd.Series([0, -2.5, 8, -.7, 3])\n",
    "print(type(nums[0]))\n",
    "\n",
    "# and numpy operations can be used with Series that have numeric data\n",
    "np.sum(nums)     "
   ]
  },
  {
   "cell_type": "code",
   "execution_count": 38,
   "metadata": {},
   "outputs": [
    {
     "name": "stdout",
     "output_type": "stream",
     "text": [
      "quiz1    99\n",
      "quiz2    85\n",
      "quiz3    72\n",
      "quiz4    89\n",
      "dtype: int64 \n",
      "\n",
      "Quiz 1: 99\n",
      "Quiz 1: 99\n"
     ]
    }
   ],
   "source": [
    "# 3. A Series is more flexible than a Python list because we can customize the indices.\n",
    "# In this way, a Series behaves similarly to a Python dictionary\n",
    "\n",
    "nums = pd.Series([99, 85, 72, 89], index=['quiz1', 'quiz2', 'quiz3', 'quiz4'])\n",
    "print(nums, '\\n')\n",
    "print(\"Quiz 1:\", nums['quiz1'])\n",
    "\n",
    "# Pandas provides an easier way to type when accessing a column\n",
    "# if the column name is a text string:\n",
    "print(\"Quiz 1:\", nums.quiz1)"
   ]
  },
  {
   "cell_type": "code",
   "execution_count": 39,
   "metadata": {},
   "outputs": [
    {
     "name": "stdout",
     "output_type": "stream",
     "text": [
      "dictionary: {'A': 65, 'B': 66, 'C': 67, 'D': 68, 'E': 69} \n",
      "\n",
      "A    65\n",
      "B    66\n",
      "C    67\n",
      "D    68\n",
      "E    69\n",
      "dtype: int64 \n",
      "\n"
     ]
    }
   ],
   "source": [
    "# 4. In addition to creating a Series from a Python list, we can create a Series\n",
    "# from a Python dictionary\n",
    "\n",
    "d = {c:ord(c) for c in \"ABCDE\"}\n",
    "print(\"dictionary:\", d, \"\\n\")\n",
    "\n",
    "letters = pd.Series(d)\n",
    "print(letters, '\\n')"
   ]
  },
  {
   "cell_type": "code",
   "execution_count": 40,
   "metadata": {},
   "outputs": [
    {
     "name": "stdout",
     "output_type": "stream",
     "text": [
      "selecting index A: 65 \n",
      "\n",
      "65 \n",
      "\n",
      "selecting a slice:\n",
      "C    67\n",
      "D    68\n",
      "E    69\n",
      "dtype: int64 \n",
      "\n",
      "Selecting with a list:\n",
      "A    65\n",
      "D    68\n",
      "dtype: int64\n"
     ]
    }
   ],
   "source": [
    "# Use indices that are strings in the same way as with numeric indices\n",
    "\n",
    "print(\"selecting index A:\", letters.A, '\\n')\n",
    "\n",
    "# what's a second syntax to select index A?\n",
    "## letters[\"A\"]\n",
    "print(letters[\"A\"], \"\\n\")\n",
    "\n",
    "print(\"selecting a slice:\")\n",
    "print(letters['C':'E'], '\\n')\n",
    "\n",
    "print(\"Selecting with a list:\")\n",
    "print(letters[['A','D']])"
   ]
  },
  {
   "cell_type": "markdown",
   "metadata": {},
   "source": [
    "---"
   ]
  },
  {
   "cell_type": "markdown",
   "metadata": {},
   "source": [
    "Pandas __Dataframe__: 2D table"
   ]
  },
  {
   "cell_type": "code",
   "execution_count": 41,
   "metadata": {},
   "outputs": [
    {
     "name": "stdout",
     "output_type": "stream",
     "text": [
      "    0   1\n",
      "0  90  92\n",
      "1  73  82\n",
      "2  79  80\n",
      "3  97  95 \n",
      "\n"
     ]
    },
    {
     "data": {
      "text/html": [
       "<div>\n",
       "<style scoped>\n",
       "    .dataframe tbody tr th:only-of-type {\n",
       "        vertical-align: middle;\n",
       "    }\n",
       "\n",
       "    .dataframe tbody tr th {\n",
       "        vertical-align: top;\n",
       "    }\n",
       "\n",
       "    .dataframe thead th {\n",
       "        text-align: right;\n",
       "    }\n",
       "</style>\n",
       "<table border=\"1\" class=\"dataframe\">\n",
       "  <thead>\n",
       "    <tr style=\"text-align: right;\">\n",
       "      <th></th>\n",
       "      <th>0</th>\n",
       "      <th>1</th>\n",
       "    </tr>\n",
       "  </thead>\n",
       "  <tbody>\n",
       "    <tr>\n",
       "      <th>0</th>\n",
       "      <td>90</td>\n",
       "      <td>92</td>\n",
       "    </tr>\n",
       "    <tr>\n",
       "      <th>1</th>\n",
       "      <td>73</td>\n",
       "      <td>82</td>\n",
       "    </tr>\n",
       "    <tr>\n",
       "      <th>2</th>\n",
       "      <td>79</td>\n",
       "      <td>80</td>\n",
       "    </tr>\n",
       "    <tr>\n",
       "      <th>3</th>\n",
       "      <td>97</td>\n",
       "      <td>95</td>\n",
       "    </tr>\n",
       "  </tbody>\n",
       "</table>\n",
       "</div>"
      ],
      "text/plain": [
       "    0   1\n",
       "0  90  92\n",
       "1  73  82\n",
       "2  79  80\n",
       "3  97  95"
      ]
     },
     "execution_count": 41,
     "metadata": {},
     "output_type": "execute_result"
    }
   ],
   "source": [
    "# 5. A DataFrame is a 2D table with rows and columns, similar to a Python list of lists or\n",
    "# a numpy 2D array\n",
    "df = pd.DataFrame([ [90, 92], [73, 82],[79, 80], [97, 95] ])\n",
    "print(df, \"\\n\")\n",
    "df                    # Note the Python print() vs the Jupyter notebook print"
   ]
  },
  {
   "cell_type": "markdown",
   "metadata": {},
   "source": [
    "The 0 and 1 at the top of each column are the _column labels_<br>\n",
    "The 0, 1, 2, 3 on the left of each row are the _row indices_<br>\n",
    "The column labels and row indices are how we select a particular row and column"
   ]
  },
  {
   "cell_type": "code",
   "execution_count": 42,
   "metadata": {},
   "outputs": [
    {
     "name": "stdout",
     "output_type": "stream",
     "text": [
      "column labels: RangeIndex(start=0, stop=2, step=1)\n",
      "[0 1]\n",
      "\n",
      "row indices: RangeIndex(start=0, stop=4, step=1)\n",
      "[0 1 2 3]\n"
     ]
    }
   ],
   "source": [
    "print(\"column labels:\", df.columns)\n",
    "print(df.columns.values)\n",
    "print()\n",
    "print(\"row indices:\", df.index)\n",
    "print(df.index.values)"
   ]
  },
  {
   "cell_type": "code",
   "execution_count": 43,
   "metadata": {},
   "outputs": [
    {
     "name": "stdout",
     "output_type": "stream",
     "text": [
      "<class 'pandas.core.series.Series'> <class 'pandas.core.series.Series'>\n"
     ]
    }
   ],
   "source": [
    "# Internally, a DataFrame is made up of multiple Series,\n",
    "# each column is a Series\n",
    "\n",
    "print(type(df[0]), type(df[1]))"
   ]
  },
  {
   "cell_type": "code",
   "execution_count": 44,
   "metadata": {},
   "outputs": [
    {
     "name": "stdout",
     "output_type": "stream",
     "text": [
      "<class 'pandas.core.frame.DataFrame'>\n"
     ]
    },
    {
     "data": {
      "text/html": [
       "<div>\n",
       "<style scoped>\n",
       "    .dataframe tbody tr th:only-of-type {\n",
       "        vertical-align: middle;\n",
       "    }\n",
       "\n",
       "    .dataframe tbody tr th {\n",
       "        vertical-align: top;\n",
       "    }\n",
       "\n",
       "    .dataframe thead th {\n",
       "        text-align: right;\n",
       "    }\n",
       "</style>\n",
       "<table border=\"1\" class=\"dataframe\">\n",
       "  <thead>\n",
       "    <tr style=\"text-align: right;\">\n",
       "      <th></th>\n",
       "      <th>0</th>\n",
       "    </tr>\n",
       "  </thead>\n",
       "  <tbody>\n",
       "    <tr>\n",
       "      <th>A</th>\n",
       "      <td>65</td>\n",
       "    </tr>\n",
       "    <tr>\n",
       "      <th>B</th>\n",
       "      <td>66</td>\n",
       "    </tr>\n",
       "    <tr>\n",
       "      <th>C</th>\n",
       "      <td>67</td>\n",
       "    </tr>\n",
       "    <tr>\n",
       "      <th>D</th>\n",
       "      <td>68</td>\n",
       "    </tr>\n",
       "    <tr>\n",
       "      <th>E</th>\n",
       "      <td>69</td>\n",
       "    </tr>\n",
       "  </tbody>\n",
       "</table>\n",
       "</div>"
      ],
      "text/plain": [
       "    0\n",
       "A  65\n",
       "B  66\n",
       "C  67\n",
       "D  68\n",
       "E  69"
      ]
     },
     "execution_count": 44,
     "metadata": {},
     "output_type": "execute_result"
    }
   ],
   "source": [
    "# A DataFrame can be created from a Series\n",
    "\n",
    "newDF = letters.to_frame()    # letters Series from #4 above\n",
    "print(type(newDF))\n",
    "newDF"
   ]
  },
  {
   "cell_type": "code",
   "execution_count": 45,
   "metadata": {},
   "outputs": [
    {
     "name": "stdout",
     "output_type": "stream",
     "text": [
      "   quiz1  quiz2\n",
      "0     90     92\n",
      "1     73     82\n",
      "2     79     80\n",
      "3     97     95 \n",
      "\n",
      "median of quiz 2: 87.0\n"
     ]
    }
   ],
   "source": [
    "# 6. Just like with Series, we can customize the column labels.\n",
    "\n",
    "df = pd.DataFrame(columns=[\"quiz1\", \"quiz2\"],\n",
    "                  data=[ [90, 92], [73, 82],[79, 80], [97, 95] ])\n",
    "print(df, '\\n')   \n",
    "\n",
    "print(\"median of quiz 2:\", np.median(df.quiz2))\n",
    "\n",
    "# Why do numpy operations work on a column of a DataFrame?\n",
    "## Columns of a DataFrame are similar to a 1D numpy array."
   ]
  },
  {
   "cell_type": "code",
   "execution_count": 46,
   "metadata": {
    "scrolled": true
   },
   "outputs": [
    {
     "data": {
      "text/html": [
       "<div>\n",
       "<style scoped>\n",
       "    .dataframe tbody tr th:only-of-type {\n",
       "        vertical-align: middle;\n",
       "    }\n",
       "\n",
       "    .dataframe tbody tr th {\n",
       "        vertical-align: top;\n",
       "    }\n",
       "\n",
       "    .dataframe thead th {\n",
       "        text-align: right;\n",
       "    }\n",
       "</style>\n",
       "<table border=\"1\" class=\"dataframe\">\n",
       "  <thead>\n",
       "    <tr style=\"text-align: right;\">\n",
       "      <th></th>\n",
       "      <th>Names</th>\n",
       "      <th>quiz1</th>\n",
       "      <th>quiz2</th>\n",
       "    </tr>\n",
       "  </thead>\n",
       "  <tbody>\n",
       "    <tr>\n",
       "      <th>0</th>\n",
       "      <td>Fred</td>\n",
       "      <td>90</td>\n",
       "      <td>92.5</td>\n",
       "    </tr>\n",
       "    <tr>\n",
       "      <th>1</th>\n",
       "      <td>Wilma</td>\n",
       "      <td>73</td>\n",
       "      <td>82.0</td>\n",
       "    </tr>\n",
       "    <tr>\n",
       "      <th>2</th>\n",
       "      <td>Barney</td>\n",
       "      <td>79</td>\n",
       "      <td>80.0</td>\n",
       "    </tr>\n",
       "    <tr>\n",
       "      <th>3</th>\n",
       "      <td>Betty</td>\n",
       "      <td>90</td>\n",
       "      <td>95.0</td>\n",
       "    </tr>\n",
       "  </tbody>\n",
       "</table>\n",
       "</div>"
      ],
      "text/plain": [
       "    Names  quiz1  quiz2\n",
       "0    Fred     90   92.5\n",
       "1   Wilma     73   82.0\n",
       "2  Barney     79   80.0\n",
       "3   Betty     90   95.0"
      ]
     },
     "execution_count": 46,
     "metadata": {},
     "output_type": "execute_result"
    }
   ],
   "source": [
    "# 7. An advantage of a DataFrame is that each column can have its own type of data\n",
    "\n",
    "df = pd.DataFrame(columns=[\"Names\", \"quiz1\", \"quiz2\"],\n",
    "                  data=[ [\"Fred\",90,92.5], [\"Wilma\",73,82],[\"Barney\",79,80], [\"Betty\",90,95] ])\n",
    "df\n",
    "# The Names column contains strings, the quiz1 column contains ints, \n",
    "# the quiz2 column contains floats\n",
    "\n",
    "# Why does quiz2 contain floats while quiz1 contains ints?\n",
    "## Since the quiz2 value for row 0 is a float, all other values in the quiz2 column are assumed to be floats and not ints."
   ]
  },
  {
   "cell_type": "code",
   "execution_count": 47,
   "metadata": {},
   "outputs": [
    {
     "data": {
      "text/html": [
       "<div>\n",
       "<style scoped>\n",
       "    .dataframe tbody tr th:only-of-type {\n",
       "        vertical-align: middle;\n",
       "    }\n",
       "\n",
       "    .dataframe tbody tr th {\n",
       "        vertical-align: top;\n",
       "    }\n",
       "\n",
       "    .dataframe thead th {\n",
       "        text-align: right;\n",
       "    }\n",
       "</style>\n",
       "<table border=\"1\" class=\"dataframe\">\n",
       "  <thead>\n",
       "    <tr style=\"text-align: right;\">\n",
       "      <th></th>\n",
       "      <th>Names</th>\n",
       "      <th>quiz1</th>\n",
       "      <th>quiz2</th>\n",
       "    </tr>\n",
       "  </thead>\n",
       "  <tbody>\n",
       "    <tr>\n",
       "      <th>0</th>\n",
       "      <td>Fred</td>\n",
       "      <td>90</td>\n",
       "      <td>92.5</td>\n",
       "    </tr>\n",
       "    <tr>\n",
       "      <th>1</th>\n",
       "      <td>Wilma</td>\n",
       "      <td>73</td>\n",
       "      <td>82.0</td>\n",
       "    </tr>\n",
       "    <tr>\n",
       "      <th>2</th>\n",
       "      <td>Barney</td>\n",
       "      <td>79</td>\n",
       "      <td>80.0</td>\n",
       "    </tr>\n",
       "    <tr>\n",
       "      <th>3</th>\n",
       "      <td>Betty</td>\n",
       "      <td>90</td>\n",
       "      <td>95.0</td>\n",
       "    </tr>\n",
       "  </tbody>\n",
       "</table>\n",
       "</div>"
      ],
      "text/plain": [
       "    Names  quiz1  quiz2\n",
       "0    Fred     90   92.5\n",
       "1   Wilma     73   82.0\n",
       "2  Barney     79   80.0\n",
       "3   Betty     90   95.0"
      ]
     },
     "execution_count": 47,
     "metadata": {},
     "output_type": "execute_result"
    }
   ],
   "source": [
    "# In the above example, a DataFrame is created from a list of lists, where each inner list is a row\n",
    "# A DataFrame can also be created from a dictionary, where each dictionary value (a list) is a column\n",
    "\n",
    "df = pd.DataFrame({\"Names\":\"Fred Wilma Barney Betty\".split(),\n",
    "                   \"quiz1\":[90, 73, 79, 90],\n",
    "                   \"quiz2\":[92.5, 82, 80, 95] })\n",
    "df"
   ]
  },
  {
   "cell_type": "markdown",
   "metadata": {},
   "source": [
    "__Accessing__ data"
   ]
  },
  {
   "cell_type": "code",
   "execution_count": 48,
   "metadata": {},
   "outputs": [
    {
     "name": "stdout",
     "output_type": "stream",
     "text": [
      "0    90\n",
      "1    73\n",
      "2    79\n",
      "3    90\n",
      "Name: quiz1, dtype: int64 \n",
      "\n",
      "0    90\n",
      "1    73\n",
      "2    79\n",
      "3    90\n",
      "Name: quiz1, dtype: int64 \n",
      "\n",
      "selecting columns at index 1 and 2: Index(['quiz1', 'quiz2'], dtype='object')\n",
      "   quiz1  quiz2\n",
      "0     90   92.5\n",
      "1     73   82.0\n",
      "2     79   80.0\n",
      "3     90   95.0 \n",
      "\n"
     ]
    }
   ],
   "source": [
    "# 8. Selecting columns\n",
    "\n",
    "# We've seen the . (dot) notation to index a column:\n",
    "print(df.quiz1, '\\n')\n",
    "# or [] notation to index a column:\n",
    "print(df[\"quiz1\"], '\\n')\n",
    "\n",
    "# To select a slice of column labels that are strings,\n",
    "# Use the .columns attribute \n",
    "\n",
    "print(\"selecting columns at index 1 and 2:\", df.columns[1:3])\n",
    "# now use the selected column to get the data\n",
    "print(df[df.columns[1:3]], '\\n')"
   ]
  },
  {
   "cell_type": "code",
   "execution_count": 49,
   "metadata": {},
   "outputs": [
    {
     "data": {
      "text/html": [
       "<div>\n",
       "<style scoped>\n",
       "    .dataframe tbody tr th:only-of-type {\n",
       "        vertical-align: middle;\n",
       "    }\n",
       "\n",
       "    .dataframe tbody tr th {\n",
       "        vertical-align: top;\n",
       "    }\n",
       "\n",
       "    .dataframe thead th {\n",
       "        text-align: right;\n",
       "    }\n",
       "</style>\n",
       "<table border=\"1\" class=\"dataframe\">\n",
       "  <thead>\n",
       "    <tr style=\"text-align: right;\">\n",
       "      <th></th>\n",
       "      <th>Names</th>\n",
       "      <th>quiz1</th>\n",
       "      <th>quiz2</th>\n",
       "    </tr>\n",
       "  </thead>\n",
       "  <tbody>\n",
       "    <tr>\n",
       "      <th>0</th>\n",
       "      <td>Fred</td>\n",
       "      <td>90</td>\n",
       "      <td>92.5</td>\n",
       "    </tr>\n",
       "    <tr>\n",
       "      <th>1</th>\n",
       "      <td>Wilma</td>\n",
       "      <td>73</td>\n",
       "      <td>82.0</td>\n",
       "    </tr>\n",
       "    <tr>\n",
       "      <th>2</th>\n",
       "      <td>Barney</td>\n",
       "      <td>79</td>\n",
       "      <td>80.0</td>\n",
       "    </tr>\n",
       "    <tr>\n",
       "      <th>3</th>\n",
       "      <td>Betty</td>\n",
       "      <td>90</td>\n",
       "      <td>95.0</td>\n",
       "    </tr>\n",
       "  </tbody>\n",
       "</table>\n",
       "</div>"
      ],
      "text/plain": [
       "    Names  quiz1  quiz2\n",
       "0    Fred     90   92.5\n",
       "1   Wilma     73   82.0\n",
       "2  Barney     79   80.0\n",
       "3   Betty     90   95.0"
      ]
     },
     "execution_count": 49,
     "metadata": {},
     "output_type": "execute_result"
    }
   ],
   "source": [
    "df"
   ]
  },
  {
   "cell_type": "code",
   "execution_count": 50,
   "metadata": {},
   "outputs": [
    {
     "name": "stdout",
     "output_type": "stream",
     "text": [
      "first row:\n",
      "Names    Fred\n",
      "quiz1      90\n",
      "quiz2    92.5\n",
      "Name: 0, dtype: object \n",
      "\n",
      "rows with index 1,2,3:\n",
      "    Names  quiz1  quiz2\n",
      "1   Wilma     73   82.0\n",
      "2  Barney     79   80.0\n",
      "3   Betty     90   95.0 \n",
      "\n",
      "all rows, with selected columns:\n",
      "   quiz1  quiz2\n",
      "0     90   92.5\n",
      "1     73   82.0\n",
      "2     79   80.0\n",
      "3     90   95.0 \n",
      "\n",
      "one row and column, or 1 element:\n",
      "quiz1    79\n",
      "Name: 2, dtype: object \n",
      "\n",
      "better way to access one element: 79 \n",
      "\n"
     ]
    }
   ],
   "source": [
    "# Selecting rows\n",
    "# There is no df.rows, this is because a DataFrame is made of multiple Series\n",
    "# that are columns\n",
    "\n",
    "# To select rows, use the .loc attribute:\n",
    "print(\"first row:\")\n",
    "print(df.loc[0], '\\n')\n",
    "\n",
    "print(\"rows with index 1,2,3:\")\n",
    "print(df.loc[1:3], '\\n')     # Note the *inclusive ending* for .loc\n",
    "\n",
    "print(\"all rows, with selected columns:\")\n",
    "print(df.loc[:,['quiz1','quiz2']],'\\n')\n",
    "\n",
    "print(\"one row and column, or 1 element:\")\n",
    "print(df.loc[2,['quiz1']],'\\n')\n",
    "\n",
    "# When accessing a single element, it's faster to use .at:\n",
    "print(\"better way to access one element:\", df.at[2,'quiz1'],'\\n')"
   ]
  },
  {
   "cell_type": "code",
   "execution_count": 51,
   "metadata": {},
   "outputs": [
    {
     "data": {
      "text/html": [
       "<div>\n",
       "<style scoped>\n",
       "    .dataframe tbody tr th:only-of-type {\n",
       "        vertical-align: middle;\n",
       "    }\n",
       "\n",
       "    .dataframe tbody tr th {\n",
       "        vertical-align: top;\n",
       "    }\n",
       "\n",
       "    .dataframe thead th {\n",
       "        text-align: right;\n",
       "    }\n",
       "</style>\n",
       "<table border=\"1\" class=\"dataframe\">\n",
       "  <thead>\n",
       "    <tr style=\"text-align: right;\">\n",
       "      <th></th>\n",
       "      <th>Names</th>\n",
       "      <th>quiz1</th>\n",
       "      <th>quiz2</th>\n",
       "    </tr>\n",
       "  </thead>\n",
       "  <tbody>\n",
       "    <tr>\n",
       "      <th>0</th>\n",
       "      <td>Fred</td>\n",
       "      <td>90</td>\n",
       "      <td>92.5</td>\n",
       "    </tr>\n",
       "    <tr>\n",
       "      <th>1</th>\n",
       "      <td>Wilma</td>\n",
       "      <td>73</td>\n",
       "      <td>82.0</td>\n",
       "    </tr>\n",
       "    <tr>\n",
       "      <th>2</th>\n",
       "      <td>Barney</td>\n",
       "      <td>79</td>\n",
       "      <td>80.0</td>\n",
       "    </tr>\n",
       "    <tr>\n",
       "      <th>3</th>\n",
       "      <td>Betty</td>\n",
       "      <td>90</td>\n",
       "      <td>95.0</td>\n",
       "    </tr>\n",
       "  </tbody>\n",
       "</table>\n",
       "</div>"
      ],
      "text/plain": [
       "    Names  quiz1  quiz2\n",
       "0    Fred     90   92.5\n",
       "1   Wilma     73   82.0\n",
       "2  Barney     79   80.0\n",
       "3   Betty     90   95.0"
      ]
     },
     "execution_count": 51,
     "metadata": {},
     "output_type": "execute_result"
    }
   ],
   "source": [
    "df"
   ]
  },
  {
   "cell_type": "code",
   "execution_count": 52,
   "metadata": {
    "scrolled": true
   },
   "outputs": [
    {
     "name": "stdout",
     "output_type": "stream",
     "text": [
      "   Names  quiz1  quiz2\n",
      "0   Fred     90   92.5\n",
      "3  Betty     90   95.0 \n",
      "\n",
      "    Names  quiz1  quiz2\n",
      "1   Wilma     73   82.0\n",
      "2  Barney     79   80.0 \n",
      "\n",
      "   Names  quiz1  quiz2\n",
      "3  Betty     90   95.0 \n",
      "\n",
      "0     Fred\n",
      "3    Betty\n",
      "Name: Names, dtype: object\n"
     ]
    }
   ],
   "source": [
    "# 9. Boolean indexing:\n",
    "\n",
    "print(df[df.quiz1 == 90], '\\n')\n",
    "\n",
    "print(df[df.quiz2 < 90],'\\n')\n",
    "\n",
    "print(df[df.Names == \"Betty\"],'\\n')\n",
    "\n",
    "# Write 1 print statement to print the names of students        ** EC **\n",
    "# with quiz2 score greater than 90\n",
    "print(df[df.quiz2 > 90].Names)"
   ]
  },
  {
   "cell_type": "code",
   "execution_count": 53,
   "metadata": {},
   "outputs": [
    {
     "name": "stdout",
     "output_type": "stream",
     "text": [
      "   Names  quiz1  quiz2\n",
      "0   Fred     90   92.5\n",
      "3  Betty     90   95.0\n",
      "\n",
      "   Names  quiz1  quiz2\n",
      "0   Fred     90   92.5\n",
      "1  Wilma     73   82.0\n",
      "3  Betty     90   95.0\n"
     ]
    }
   ],
   "source": [
    "# Accessing data with 2 conditions\n",
    "\n",
    "print(df[(df.quiz1>=90) & (df.quiz2>=90)])\n",
    "print()\n",
    "print(df[(df.quiz1>=90) | (df.quiz2>80)])"
   ]
  },
  {
   "cell_type": "code",
   "execution_count": 54,
   "metadata": {},
   "outputs": [
    {
     "data": {
      "text/html": [
       "<div>\n",
       "<style scoped>\n",
       "    .dataframe tbody tr th:only-of-type {\n",
       "        vertical-align: middle;\n",
       "    }\n",
       "\n",
       "    .dataframe tbody tr th {\n",
       "        vertical-align: top;\n",
       "    }\n",
       "\n",
       "    .dataframe thead th {\n",
       "        text-align: right;\n",
       "    }\n",
       "</style>\n",
       "<table border=\"1\" class=\"dataframe\">\n",
       "  <thead>\n",
       "    <tr style=\"text-align: right;\">\n",
       "      <th></th>\n",
       "      <th>Names</th>\n",
       "      <th>quiz1</th>\n",
       "      <th>quiz2</th>\n",
       "    </tr>\n",
       "  </thead>\n",
       "  <tbody>\n",
       "    <tr>\n",
       "      <th>0</th>\n",
       "      <td>Fred</td>\n",
       "      <td>90</td>\n",
       "      <td>92.5</td>\n",
       "    </tr>\n",
       "    <tr>\n",
       "      <th>1</th>\n",
       "      <td>Wilma</td>\n",
       "      <td>73</td>\n",
       "      <td>82.0</td>\n",
       "    </tr>\n",
       "    <tr>\n",
       "      <th>2</th>\n",
       "      <td>Barney</td>\n",
       "      <td>79</td>\n",
       "      <td>80.0</td>\n",
       "    </tr>\n",
       "    <tr>\n",
       "      <th>3</th>\n",
       "      <td>Betty</td>\n",
       "      <td>90</td>\n",
       "      <td>95.0</td>\n",
       "    </tr>\n",
       "  </tbody>\n",
       "</table>\n",
       "</div>"
      ],
      "text/plain": [
       "    Names  quiz1  quiz2\n",
       "0    Fred     90   92.5\n",
       "1   Wilma     73   82.0\n",
       "2  Barney     79   80.0\n",
       "3   Betty     90   95.0"
      ]
     },
     "execution_count": 54,
     "metadata": {},
     "output_type": "execute_result"
    }
   ],
   "source": [
    "df"
   ]
  },
  {
   "cell_type": "code",
   "execution_count": 55,
   "metadata": {},
   "outputs": [
    {
     "name": "stdout",
     "output_type": "stream",
     "text": [
      "unique data in quiz1: [90 73 79]\n",
      "\n",
      "count of occurrences in quiz1:\n",
      "90    2\n",
      "73    1\n",
      "79    1\n",
      "Name: quiz1, dtype: int64\n"
     ]
    }
   ],
   "source": [
    "# 10. Getting unique values (no duplicates) in a column\n",
    "print(\"unique data in quiz1:\", df.quiz1.unique())\n",
    "print()\n",
    "\n",
    "# count the number of occurrences of data in a column\n",
    "print(\"count of occurrences in quiz1:\")\n",
    "print(df.quiz1.value_counts())"
   ]
  },
  {
   "cell_type": "markdown",
   "metadata": {},
   "source": [
    "---"
   ]
  },
  {
   "cell_type": "markdown",
   "metadata": {},
   "source": [
    "__Reading__ from files"
   ]
  },
  {
   "cell_type": "code",
   "execution_count": 56,
   "metadata": {},
   "outputs": [
    {
     "name": "stdout",
     "output_type": "stream",
     "text": [
      "   quiz1\n",
      "0     43\n",
      "1     33\n",
      "2     48\n",
      "3     40\n",
      "4     46\n",
      "5     48\n",
      "6     38\n",
      "7     41 \n",
      "\n"
     ]
    }
   ],
   "source": [
    "# 11. If the file is a column of data, it will be read into a Series\n",
    "\n",
    "quiz1 = pd.read_csv(\"quiz_scores.csv\")\n",
    "print(quiz1, '\\n')"
   ]
  },
  {
   "cell_type": "code",
   "execution_count": 57,
   "metadata": {},
   "outputs": [
    {
     "name": "stdout",
     "output_type": "stream",
     "text": [
      "row index: RangeIndex(start=0, stop=8, step=1)\n"
     ]
    },
    {
     "data": {
      "text/html": [
       "<div>\n",
       "<style scoped>\n",
       "    .dataframe tbody tr th:only-of-type {\n",
       "        vertical-align: middle;\n",
       "    }\n",
       "\n",
       "    .dataframe tbody tr th {\n",
       "        vertical-align: top;\n",
       "    }\n",
       "\n",
       "    .dataframe thead th {\n",
       "        text-align: right;\n",
       "    }\n",
       "</style>\n",
       "<table border=\"1\" class=\"dataframe\">\n",
       "  <thead>\n",
       "    <tr style=\"text-align: right;\">\n",
       "      <th></th>\n",
       "      <th>Student</th>\n",
       "      <th>quiz1</th>\n",
       "      <th>midterm</th>\n",
       "      <th>quiz2</th>\n",
       "      <th>final</th>\n",
       "    </tr>\n",
       "  </thead>\n",
       "  <tbody>\n",
       "    <tr>\n",
       "      <th>0</th>\n",
       "      <td>Sleepy</td>\n",
       "      <td>43</td>\n",
       "      <td>34.0</td>\n",
       "      <td>34</td>\n",
       "      <td>35</td>\n",
       "    </tr>\n",
       "    <tr>\n",
       "      <th>1</th>\n",
       "      <td>Happy</td>\n",
       "      <td>33</td>\n",
       "      <td>18.0</td>\n",
       "      <td>23</td>\n",
       "      <td>50</td>\n",
       "    </tr>\n",
       "    <tr>\n",
       "      <th>2</th>\n",
       "      <td>Doc</td>\n",
       "      <td>48</td>\n",
       "      <td>42.0</td>\n",
       "      <td>36</td>\n",
       "      <td>37</td>\n",
       "    </tr>\n",
       "    <tr>\n",
       "      <th>3</th>\n",
       "      <td>Grumpy</td>\n",
       "      <td>40</td>\n",
       "      <td>23.5</td>\n",
       "      <td>40</td>\n",
       "      <td>45</td>\n",
       "    </tr>\n",
       "    <tr>\n",
       "      <th>4</th>\n",
       "      <td>Bashful</td>\n",
       "      <td>46</td>\n",
       "      <td>42.5</td>\n",
       "      <td>46</td>\n",
       "      <td>41</td>\n",
       "    </tr>\n",
       "    <tr>\n",
       "      <th>5</th>\n",
       "      <td>Sneezy</td>\n",
       "      <td>48</td>\n",
       "      <td>39.5</td>\n",
       "      <td>48</td>\n",
       "      <td>43</td>\n",
       "    </tr>\n",
       "    <tr>\n",
       "      <th>6</th>\n",
       "      <td>Dopey</td>\n",
       "      <td>38</td>\n",
       "      <td>45.0</td>\n",
       "      <td>39</td>\n",
       "      <td>32</td>\n",
       "    </tr>\n",
       "    <tr>\n",
       "      <th>7</th>\n",
       "      <td>Snow White</td>\n",
       "      <td>41</td>\n",
       "      <td>44.0</td>\n",
       "      <td>39</td>\n",
       "      <td>41</td>\n",
       "    </tr>\n",
       "  </tbody>\n",
       "</table>\n",
       "</div>"
      ],
      "text/plain": [
       "      Student  quiz1  midterm  quiz2  final\n",
       "0      Sleepy     43     34.0     34     35\n",
       "1       Happy     33     18.0     23     50\n",
       "2         Doc     48     42.0     36     37\n",
       "3      Grumpy     40     23.5     40     45\n",
       "4     Bashful     46     42.5     46     41\n",
       "5      Sneezy     48     39.5     48     43\n",
       "6       Dopey     38     45.0     39     32\n",
       "7  Snow White     41     44.0     39     41"
      ]
     },
     "execution_count": 57,
     "metadata": {},
     "output_type": "execute_result"
    }
   ],
   "source": [
    "# If the file is a csv file with rows and columns, it will be read into a DataFrame\n",
    "\n",
    "gradebook = pd.read_csv(\"scores.csv\")\n",
    "print(\"row index:\", gradebook.index)\n",
    "gradebook"
   ]
  },
  {
   "cell_type": "code",
   "execution_count": 58,
   "metadata": {},
   "outputs": [
    {
     "name": "stdout",
     "output_type": "stream",
     "text": [
      "row index: Index(['Sleepy', 'Happy', 'Doc', 'Grumpy', 'Bashful', 'Sneezy', 'Dopey',\n",
      "       'Snow White'],\n",
      "      dtype='object', name='Student')\n"
     ]
    },
    {
     "data": {
      "text/html": [
       "<div>\n",
       "<style scoped>\n",
       "    .dataframe tbody tr th:only-of-type {\n",
       "        vertical-align: middle;\n",
       "    }\n",
       "\n",
       "    .dataframe tbody tr th {\n",
       "        vertical-align: top;\n",
       "    }\n",
       "\n",
       "    .dataframe thead th {\n",
       "        text-align: right;\n",
       "    }\n",
       "</style>\n",
       "<table border=\"1\" class=\"dataframe\">\n",
       "  <thead>\n",
       "    <tr style=\"text-align: right;\">\n",
       "      <th></th>\n",
       "      <th>quiz1</th>\n",
       "      <th>midterm</th>\n",
       "      <th>quiz2</th>\n",
       "      <th>final</th>\n",
       "    </tr>\n",
       "    <tr>\n",
       "      <th>Student</th>\n",
       "      <th></th>\n",
       "      <th></th>\n",
       "      <th></th>\n",
       "      <th></th>\n",
       "    </tr>\n",
       "  </thead>\n",
       "  <tbody>\n",
       "    <tr>\n",
       "      <th>Sleepy</th>\n",
       "      <td>43</td>\n",
       "      <td>34.0</td>\n",
       "      <td>34</td>\n",
       "      <td>35</td>\n",
       "    </tr>\n",
       "    <tr>\n",
       "      <th>Happy</th>\n",
       "      <td>33</td>\n",
       "      <td>18.0</td>\n",
       "      <td>23</td>\n",
       "      <td>50</td>\n",
       "    </tr>\n",
       "    <tr>\n",
       "      <th>Doc</th>\n",
       "      <td>48</td>\n",
       "      <td>42.0</td>\n",
       "      <td>36</td>\n",
       "      <td>37</td>\n",
       "    </tr>\n",
       "    <tr>\n",
       "      <th>Grumpy</th>\n",
       "      <td>40</td>\n",
       "      <td>23.5</td>\n",
       "      <td>40</td>\n",
       "      <td>45</td>\n",
       "    </tr>\n",
       "    <tr>\n",
       "      <th>Bashful</th>\n",
       "      <td>46</td>\n",
       "      <td>42.5</td>\n",
       "      <td>46</td>\n",
       "      <td>41</td>\n",
       "    </tr>\n",
       "    <tr>\n",
       "      <th>Sneezy</th>\n",
       "      <td>48</td>\n",
       "      <td>39.5</td>\n",
       "      <td>48</td>\n",
       "      <td>43</td>\n",
       "    </tr>\n",
       "    <tr>\n",
       "      <th>Dopey</th>\n",
       "      <td>38</td>\n",
       "      <td>45.0</td>\n",
       "      <td>39</td>\n",
       "      <td>32</td>\n",
       "    </tr>\n",
       "    <tr>\n",
       "      <th>Snow White</th>\n",
       "      <td>41</td>\n",
       "      <td>44.0</td>\n",
       "      <td>39</td>\n",
       "      <td>41</td>\n",
       "    </tr>\n",
       "  </tbody>\n",
       "</table>\n",
       "</div>"
      ],
      "text/plain": [
       "            quiz1  midterm  quiz2  final\n",
       "Student                                 \n",
       "Sleepy         43     34.0     34     35\n",
       "Happy          33     18.0     23     50\n",
       "Doc            48     42.0     36     37\n",
       "Grumpy         40     23.5     40     45\n",
       "Bashful        46     42.5     46     41\n",
       "Sneezy         48     39.5     48     43\n",
       "Dopey          38     45.0     39     32\n",
       "Snow White     41     44.0     39     41"
      ]
     },
     "execution_count": 58,
     "metadata": {},
     "output_type": "execute_result"
    }
   ],
   "source": [
    "gradebook = pd.read_csv(\"scores.csv\", index_col='Student')\n",
    "print(\"row index:\", gradebook.index)\n",
    "gradebook"
   ]
  },
  {
   "cell_type": "code",
   "execution_count": 59,
   "metadata": {},
   "outputs": [
    {
     "data": {
      "text/html": [
       "<div>\n",
       "<style scoped>\n",
       "    .dataframe tbody tr th:only-of-type {\n",
       "        vertical-align: middle;\n",
       "    }\n",
       "\n",
       "    .dataframe tbody tr th {\n",
       "        vertical-align: top;\n",
       "    }\n",
       "\n",
       "    .dataframe thead th {\n",
       "        text-align: right;\n",
       "    }\n",
       "</style>\n",
       "<table border=\"1\" class=\"dataframe\">\n",
       "  <thead>\n",
       "    <tr style=\"text-align: right;\">\n",
       "      <th></th>\n",
       "      <th>name</th>\n",
       "      <th>q1</th>\n",
       "      <th>midt</th>\n",
       "      <th>q2</th>\n",
       "      <th>fin</th>\n",
       "    </tr>\n",
       "  </thead>\n",
       "  <tbody>\n",
       "    <tr>\n",
       "      <th>0</th>\n",
       "      <td>Sleepy</td>\n",
       "      <td>43</td>\n",
       "      <td>34.0</td>\n",
       "      <td>34</td>\n",
       "      <td>35</td>\n",
       "    </tr>\n",
       "    <tr>\n",
       "      <th>1</th>\n",
       "      <td>Happy</td>\n",
       "      <td>33</td>\n",
       "      <td>18.0</td>\n",
       "      <td>23</td>\n",
       "      <td>50</td>\n",
       "    </tr>\n",
       "    <tr>\n",
       "      <th>2</th>\n",
       "      <td>Doc</td>\n",
       "      <td>48</td>\n",
       "      <td>42.0</td>\n",
       "      <td>36</td>\n",
       "      <td>37</td>\n",
       "    </tr>\n",
       "    <tr>\n",
       "      <th>3</th>\n",
       "      <td>Grumpy</td>\n",
       "      <td>40</td>\n",
       "      <td>23.5</td>\n",
       "      <td>40</td>\n",
       "      <td>45</td>\n",
       "    </tr>\n",
       "    <tr>\n",
       "      <th>4</th>\n",
       "      <td>Bashful</td>\n",
       "      <td>46</td>\n",
       "      <td>42.5</td>\n",
       "      <td>46</td>\n",
       "      <td>41</td>\n",
       "    </tr>\n",
       "    <tr>\n",
       "      <th>5</th>\n",
       "      <td>Sneezy</td>\n",
       "      <td>48</td>\n",
       "      <td>39.5</td>\n",
       "      <td>48</td>\n",
       "      <td>43</td>\n",
       "    </tr>\n",
       "    <tr>\n",
       "      <th>6</th>\n",
       "      <td>Dopey</td>\n",
       "      <td>38</td>\n",
       "      <td>45.0</td>\n",
       "      <td>39</td>\n",
       "      <td>32</td>\n",
       "    </tr>\n",
       "    <tr>\n",
       "      <th>7</th>\n",
       "      <td>Snow White</td>\n",
       "      <td>41</td>\n",
       "      <td>44.0</td>\n",
       "      <td>39</td>\n",
       "      <td>41</td>\n",
       "    </tr>\n",
       "  </tbody>\n",
       "</table>\n",
       "</div>"
      ],
      "text/plain": [
       "         name  q1  midt  q2  fin\n",
       "0      Sleepy  43  34.0  34   35\n",
       "1       Happy  33  18.0  23   50\n",
       "2         Doc  48  42.0  36   37\n",
       "3      Grumpy  40  23.5  40   45\n",
       "4     Bashful  46  42.5  46   41\n",
       "5      Sneezy  48  39.5  48   43\n",
       "6       Dopey  38  45.0  39   32\n",
       "7  Snow White  41  44.0  39   41"
      ]
     },
     "execution_count": 59,
     "metadata": {},
     "output_type": "execute_result"
    }
   ],
   "source": [
    "# what's different about how the file is read in here?\n",
    "# \n",
    "\n",
    "gradebook = pd.read_csv(\"scores.csv\", header=0, names=[\"name\",\"q1\",\"midt\",\"q2\",\"fin\"])\n",
    "gradebook"
   ]
  },
  {
   "cell_type": "code",
   "execution_count": 60,
   "metadata": {},
   "outputs": [
    {
     "data": {
      "text/html": [
       "<div>\n",
       "<style scoped>\n",
       "    .dataframe tbody tr th:only-of-type {\n",
       "        vertical-align: middle;\n",
       "    }\n",
       "\n",
       "    .dataframe tbody tr th {\n",
       "        vertical-align: top;\n",
       "    }\n",
       "\n",
       "    .dataframe thead th {\n",
       "        text-align: right;\n",
       "    }\n",
       "</style>\n",
       "<table border=\"1\" class=\"dataframe\">\n",
       "  <thead>\n",
       "    <tr style=\"text-align: right;\">\n",
       "      <th></th>\n",
       "      <th>q1</th>\n",
       "      <th>midt</th>\n",
       "      <th>q2</th>\n",
       "      <th>fin</th>\n",
       "    </tr>\n",
       "  </thead>\n",
       "  <tbody>\n",
       "    <tr>\n",
       "      <th>Sleepy</th>\n",
       "      <td>43</td>\n",
       "      <td>34.0</td>\n",
       "      <td>34</td>\n",
       "      <td>35</td>\n",
       "    </tr>\n",
       "    <tr>\n",
       "      <th>Happy</th>\n",
       "      <td>33</td>\n",
       "      <td>18.0</td>\n",
       "      <td>23</td>\n",
       "      <td>50</td>\n",
       "    </tr>\n",
       "    <tr>\n",
       "      <th>Doc</th>\n",
       "      <td>48</td>\n",
       "      <td>42.0</td>\n",
       "      <td>36</td>\n",
       "      <td>37</td>\n",
       "    </tr>\n",
       "    <tr>\n",
       "      <th>Grumpy</th>\n",
       "      <td>40</td>\n",
       "      <td>23.5</td>\n",
       "      <td>40</td>\n",
       "      <td>45</td>\n",
       "    </tr>\n",
       "    <tr>\n",
       "      <th>Bashful</th>\n",
       "      <td>46</td>\n",
       "      <td>42.5</td>\n",
       "      <td>46</td>\n",
       "      <td>41</td>\n",
       "    </tr>\n",
       "    <tr>\n",
       "      <th>Sneezy</th>\n",
       "      <td>48</td>\n",
       "      <td>39.5</td>\n",
       "      <td>48</td>\n",
       "      <td>43</td>\n",
       "    </tr>\n",
       "    <tr>\n",
       "      <th>Dopey</th>\n",
       "      <td>38</td>\n",
       "      <td>45.0</td>\n",
       "      <td>39</td>\n",
       "      <td>32</td>\n",
       "    </tr>\n",
       "    <tr>\n",
       "      <th>Snow White</th>\n",
       "      <td>41</td>\n",
       "      <td>44.0</td>\n",
       "      <td>39</td>\n",
       "      <td>41</td>\n",
       "    </tr>\n",
       "  </tbody>\n",
       "</table>\n",
       "</div>"
      ],
      "text/plain": [
       "            q1  midt  q2  fin\n",
       "Sleepy      43  34.0  34   35\n",
       "Happy       33  18.0  23   50\n",
       "Doc         48  42.0  36   37\n",
       "Grumpy      40  23.5  40   45\n",
       "Bashful     46  42.5  46   41\n",
       "Sneezy      48  39.5  48   43\n",
       "Dopey       38  45.0  39   32\n",
       "Snow White  41  44.0  39   41"
      ]
     },
     "execution_count": 60,
     "metadata": {},
     "output_type": "execute_result"
    }
   ],
   "source": [
    "# what about this way of reading in the file?\n",
    "# \n",
    "\n",
    "gradebook = pd.read_csv(\"scores.csv\", header=0, names=[\"q1\",\"midt\",\"q2\",\"fin\"])\n",
    "gradebook"
   ]
  },
  {
   "cell_type": "code",
   "execution_count": 61,
   "metadata": {},
   "outputs": [
    {
     "data": {
      "text/html": [
       "<div>\n",
       "<style scoped>\n",
       "    .dataframe tbody tr th:only-of-type {\n",
       "        vertical-align: middle;\n",
       "    }\n",
       "\n",
       "    .dataframe tbody tr th {\n",
       "        vertical-align: top;\n",
       "    }\n",
       "\n",
       "    .dataframe thead th {\n",
       "        text-align: right;\n",
       "    }\n",
       "</style>\n",
       "<table border=\"1\" class=\"dataframe\">\n",
       "  <thead>\n",
       "    <tr style=\"text-align: right;\">\n",
       "      <th></th>\n",
       "      <th>Student</th>\n",
       "      <th>quiz1</th>\n",
       "      <th>midterm</th>\n",
       "      <th>quiz2</th>\n",
       "      <th>final</th>\n",
       "    </tr>\n",
       "  </thead>\n",
       "  <tbody>\n",
       "    <tr>\n",
       "      <th>0</th>\n",
       "      <td>Sleepy</td>\n",
       "      <td>43</td>\n",
       "      <td>34.0</td>\n",
       "      <td>34</td>\n",
       "      <td>35</td>\n",
       "    </tr>\n",
       "    <tr>\n",
       "      <th>1</th>\n",
       "      <td>Happy</td>\n",
       "      <td>33</td>\n",
       "      <td>20.0</td>\n",
       "      <td>23</td>\n",
       "      <td>49</td>\n",
       "    </tr>\n",
       "    <tr>\n",
       "      <th>2</th>\n",
       "      <td>Doc</td>\n",
       "      <td>48</td>\n",
       "      <td>32.0</td>\n",
       "      <td>36</td>\n",
       "      <td>37</td>\n",
       "    </tr>\n",
       "    <tr>\n",
       "      <th>3</th>\n",
       "      <td>Grumpy</td>\n",
       "      <td>40</td>\n",
       "      <td>23.5</td>\n",
       "      <td>40</td>\n",
       "      <td>45</td>\n",
       "    </tr>\n",
       "    <tr>\n",
       "      <th>4</th>\n",
       "      <td>Bashful</td>\n",
       "      <td>46</td>\n",
       "      <td>42.5</td>\n",
       "      <td>46</td>\n",
       "      <td>31</td>\n",
       "    </tr>\n",
       "    <tr>\n",
       "      <th>5</th>\n",
       "      <td>Sneezy</td>\n",
       "      <td>48</td>\n",
       "      <td>38.5</td>\n",
       "      <td>48</td>\n",
       "      <td>43</td>\n",
       "    </tr>\n",
       "    <tr>\n",
       "      <th>6</th>\n",
       "      <td>Dopey</td>\n",
       "      <td>38</td>\n",
       "      <td>45.0</td>\n",
       "      <td>39</td>\n",
       "      <td>32</td>\n",
       "    </tr>\n",
       "    <tr>\n",
       "      <th>7</th>\n",
       "      <td>Snow White</td>\n",
       "      <td>41</td>\n",
       "      <td>48.0</td>\n",
       "      <td>39</td>\n",
       "      <td>41</td>\n",
       "    </tr>\n",
       "  </tbody>\n",
       "</table>\n",
       "</div>"
      ],
      "text/plain": [
       "      Student  quiz1  midterm  quiz2  final\n",
       "0      Sleepy     43     34.0     34     35\n",
       "1       Happy     33     20.0     23     49\n",
       "2         Doc     48     32.0     36     37\n",
       "3      Grumpy     40     23.5     40     45\n",
       "4     Bashful     46     42.5     46     31\n",
       "5      Sneezy     48     38.5     48     43\n",
       "6       Dopey     38     45.0     39     32\n",
       "7  Snow White     41     48.0     39     41"
      ]
     },
     "execution_count": 61,
     "metadata": {},
     "output_type": "execute_result"
    }
   ],
   "source": [
    "# We can also read from Excel files (among many other common types: HTML, JSON, SQL, etc.)\n",
    "\n",
    "gradebook = pd.read_excel(\"scores.xlsx\")\n",
    "gradebook"
   ]
  },
  {
   "cell_type": "code",
   "execution_count": 62,
   "metadata": {},
   "outputs": [
    {
     "data": {
      "text/html": [
       "<div>\n",
       "<style scoped>\n",
       "    .dataframe tbody tr th:only-of-type {\n",
       "        vertical-align: middle;\n",
       "    }\n",
       "\n",
       "    .dataframe tbody tr th {\n",
       "        vertical-align: top;\n",
       "    }\n",
       "\n",
       "    .dataframe thead th {\n",
       "        text-align: right;\n",
       "    }\n",
       "</style>\n",
       "<table border=\"1\" class=\"dataframe\">\n",
       "  <thead>\n",
       "    <tr style=\"text-align: right;\">\n",
       "      <th></th>\n",
       "      <th>quiz1</th>\n",
       "      <th>midterm</th>\n",
       "      <th>quiz2</th>\n",
       "      <th>final</th>\n",
       "    </tr>\n",
       "    <tr>\n",
       "      <th>Student</th>\n",
       "      <th></th>\n",
       "      <th></th>\n",
       "      <th></th>\n",
       "      <th></th>\n",
       "    </tr>\n",
       "  </thead>\n",
       "  <tbody>\n",
       "    <tr>\n",
       "      <th>Sleepy</th>\n",
       "      <td>43</td>\n",
       "      <td>34.0</td>\n",
       "      <td>34</td>\n",
       "      <td>35</td>\n",
       "    </tr>\n",
       "    <tr>\n",
       "      <th>Happy</th>\n",
       "      <td>33</td>\n",
       "      <td>20.0</td>\n",
       "      <td>23</td>\n",
       "      <td>49</td>\n",
       "    </tr>\n",
       "    <tr>\n",
       "      <th>Doc</th>\n",
       "      <td>48</td>\n",
       "      <td>32.0</td>\n",
       "      <td>36</td>\n",
       "      <td>37</td>\n",
       "    </tr>\n",
       "    <tr>\n",
       "      <th>Grumpy</th>\n",
       "      <td>40</td>\n",
       "      <td>23.5</td>\n",
       "      <td>40</td>\n",
       "      <td>45</td>\n",
       "    </tr>\n",
       "    <tr>\n",
       "      <th>Bashful</th>\n",
       "      <td>46</td>\n",
       "      <td>42.5</td>\n",
       "      <td>46</td>\n",
       "      <td>31</td>\n",
       "    </tr>\n",
       "    <tr>\n",
       "      <th>Sneezy</th>\n",
       "      <td>48</td>\n",
       "      <td>38.5</td>\n",
       "      <td>48</td>\n",
       "      <td>43</td>\n",
       "    </tr>\n",
       "    <tr>\n",
       "      <th>Dopey</th>\n",
       "      <td>38</td>\n",
       "      <td>45.0</td>\n",
       "      <td>39</td>\n",
       "      <td>32</td>\n",
       "    </tr>\n",
       "    <tr>\n",
       "      <th>Snow White</th>\n",
       "      <td>41</td>\n",
       "      <td>48.0</td>\n",
       "      <td>39</td>\n",
       "      <td>41</td>\n",
       "    </tr>\n",
       "  </tbody>\n",
       "</table>\n",
       "</div>"
      ],
      "text/plain": [
       "            quiz1  midterm  quiz2  final\n",
       "Student                                 \n",
       "Sleepy         43     34.0     34     35\n",
       "Happy          33     20.0     23     49\n",
       "Doc            48     32.0     36     37\n",
       "Grumpy         40     23.5     40     45\n",
       "Bashful        46     42.5     46     31\n",
       "Sneezy         48     38.5     48     43\n",
       "Dopey          38     45.0     39     32\n",
       "Snow White     41     48.0     39     41"
      ]
     },
     "execution_count": 62,
     "metadata": {},
     "output_type": "execute_result"
    }
   ],
   "source": [
    "gradebook = pd.read_excel(\"scores.xlsx\", index_col='Student')\n",
    "gradebook"
   ]
  },
  {
   "cell_type": "code",
   "execution_count": 63,
   "metadata": {},
   "outputs": [
    {
     "name": "stdout",
     "output_type": "stream",
     "text": [
      "      Student  quiz1  midterm  quiz2  final\n",
      "0      Sleepy     43     34.0     34     35\n",
      "1       Happy     33     20.0     23     49\n",
      "2         Doc     48     32.0     36     37\n",
      "3      Grumpy     40     23.5     40     45\n",
      "4     Bashful     46     42.5     46     31\n",
      "5      Sneezy     48     38.5     48     43\n",
      "6       Dopey     38     45.0     39     32\n",
      "7  Snow White     41     48.0     39     41 \n",
      "\n"
     ]
    },
    {
     "data": {
      "text/html": [
       "<div>\n",
       "<style scoped>\n",
       "    .dataframe tbody tr th:only-of-type {\n",
       "        vertical-align: middle;\n",
       "    }\n",
       "\n",
       "    .dataframe tbody tr th {\n",
       "        vertical-align: top;\n",
       "    }\n",
       "\n",
       "    .dataframe thead th {\n",
       "        text-align: right;\n",
       "    }\n",
       "</style>\n",
       "<table border=\"1\" class=\"dataframe\">\n",
       "  <thead>\n",
       "    <tr style=\"text-align: right;\">\n",
       "      <th></th>\n",
       "      <th>quiz1</th>\n",
       "      <th>midterm</th>\n",
       "      <th>quiz2</th>\n",
       "      <th>final</th>\n",
       "    </tr>\n",
       "    <tr>\n",
       "      <th>Student</th>\n",
       "      <th></th>\n",
       "      <th></th>\n",
       "      <th></th>\n",
       "      <th></th>\n",
       "    </tr>\n",
       "  </thead>\n",
       "  <tbody>\n",
       "    <tr>\n",
       "      <th>Sleepy</th>\n",
       "      <td>43</td>\n",
       "      <td>34.0</td>\n",
       "      <td>34</td>\n",
       "      <td>35</td>\n",
       "    </tr>\n",
       "    <tr>\n",
       "      <th>Happy</th>\n",
       "      <td>33</td>\n",
       "      <td>20.0</td>\n",
       "      <td>23</td>\n",
       "      <td>49</td>\n",
       "    </tr>\n",
       "    <tr>\n",
       "      <th>Doc</th>\n",
       "      <td>48</td>\n",
       "      <td>32.0</td>\n",
       "      <td>36</td>\n",
       "      <td>37</td>\n",
       "    </tr>\n",
       "    <tr>\n",
       "      <th>Grumpy</th>\n",
       "      <td>40</td>\n",
       "      <td>23.5</td>\n",
       "      <td>40</td>\n",
       "      <td>45</td>\n",
       "    </tr>\n",
       "    <tr>\n",
       "      <th>Bashful</th>\n",
       "      <td>46</td>\n",
       "      <td>42.5</td>\n",
       "      <td>46</td>\n",
       "      <td>31</td>\n",
       "    </tr>\n",
       "    <tr>\n",
       "      <th>Sneezy</th>\n",
       "      <td>48</td>\n",
       "      <td>38.5</td>\n",
       "      <td>48</td>\n",
       "      <td>43</td>\n",
       "    </tr>\n",
       "    <tr>\n",
       "      <th>Dopey</th>\n",
       "      <td>38</td>\n",
       "      <td>45.0</td>\n",
       "      <td>39</td>\n",
       "      <td>32</td>\n",
       "    </tr>\n",
       "    <tr>\n",
       "      <th>Snow White</th>\n",
       "      <td>41</td>\n",
       "      <td>48.0</td>\n",
       "      <td>39</td>\n",
       "      <td>41</td>\n",
       "    </tr>\n",
       "  </tbody>\n",
       "</table>\n",
       "</div>"
      ],
      "text/plain": [
       "            quiz1  midterm  quiz2  final\n",
       "Student                                 \n",
       "Sleepy         43     34.0     34     35\n",
       "Happy          33     20.0     23     49\n",
       "Doc            48     32.0     36     37\n",
       "Grumpy         40     23.5     40     45\n",
       "Bashful        46     42.5     46     31\n",
       "Sneezy         48     38.5     48     43\n",
       "Dopey          38     45.0     39     32\n",
       "Snow White     41     48.0     39     41"
      ]
     },
     "execution_count": 63,
     "metadata": {},
     "output_type": "execute_result"
    }
   ],
   "source": [
    "# 12. It's possible to set and reset the row index \n",
    "gradebook = pd.read_excel(\"scores.xlsx\")\n",
    "print(gradebook, \"\\n\")\n",
    "\n",
    "nameIndex = gradebook.set_index(\"Student\")\n",
    "nameIndex"
   ]
  },
  {
   "cell_type": "code",
   "execution_count": 64,
   "metadata": {},
   "outputs": [
    {
     "data": {
      "text/plain": [
       "quiz1      48.0\n",
       "midterm    32.0\n",
       "quiz2      36.0\n",
       "final      37.0\n",
       "Name: Doc, dtype: float64"
      ]
     },
     "execution_count": 64,
     "metadata": {},
     "output_type": "execute_result"
    }
   ],
   "source": [
    "nameIndex.loc[\"Doc\"]"
   ]
  },
  {
   "cell_type": "code",
   "execution_count": 65,
   "metadata": {},
   "outputs": [
    {
     "data": {
      "text/html": [
       "<div>\n",
       "<style scoped>\n",
       "    .dataframe tbody tr th:only-of-type {\n",
       "        vertical-align: middle;\n",
       "    }\n",
       "\n",
       "    .dataframe tbody tr th {\n",
       "        vertical-align: top;\n",
       "    }\n",
       "\n",
       "    .dataframe thead th {\n",
       "        text-align: right;\n",
       "    }\n",
       "</style>\n",
       "<table border=\"1\" class=\"dataframe\">\n",
       "  <thead>\n",
       "    <tr style=\"text-align: right;\">\n",
       "      <th></th>\n",
       "      <th>Student</th>\n",
       "      <th>quiz1</th>\n",
       "      <th>midterm</th>\n",
       "      <th>quiz2</th>\n",
       "      <th>final</th>\n",
       "    </tr>\n",
       "  </thead>\n",
       "  <tbody>\n",
       "    <tr>\n",
       "      <th>0</th>\n",
       "      <td>Sleepy</td>\n",
       "      <td>43</td>\n",
       "      <td>34.0</td>\n",
       "      <td>34</td>\n",
       "      <td>35</td>\n",
       "    </tr>\n",
       "    <tr>\n",
       "      <th>1</th>\n",
       "      <td>Happy</td>\n",
       "      <td>33</td>\n",
       "      <td>20.0</td>\n",
       "      <td>23</td>\n",
       "      <td>49</td>\n",
       "    </tr>\n",
       "    <tr>\n",
       "      <th>2</th>\n",
       "      <td>Doc</td>\n",
       "      <td>48</td>\n",
       "      <td>32.0</td>\n",
       "      <td>36</td>\n",
       "      <td>37</td>\n",
       "    </tr>\n",
       "    <tr>\n",
       "      <th>3</th>\n",
       "      <td>Grumpy</td>\n",
       "      <td>40</td>\n",
       "      <td>23.5</td>\n",
       "      <td>40</td>\n",
       "      <td>45</td>\n",
       "    </tr>\n",
       "    <tr>\n",
       "      <th>4</th>\n",
       "      <td>Bashful</td>\n",
       "      <td>46</td>\n",
       "      <td>42.5</td>\n",
       "      <td>46</td>\n",
       "      <td>31</td>\n",
       "    </tr>\n",
       "    <tr>\n",
       "      <th>5</th>\n",
       "      <td>Sneezy</td>\n",
       "      <td>48</td>\n",
       "      <td>38.5</td>\n",
       "      <td>48</td>\n",
       "      <td>43</td>\n",
       "    </tr>\n",
       "    <tr>\n",
       "      <th>6</th>\n",
       "      <td>Dopey</td>\n",
       "      <td>38</td>\n",
       "      <td>45.0</td>\n",
       "      <td>39</td>\n",
       "      <td>32</td>\n",
       "    </tr>\n",
       "    <tr>\n",
       "      <th>7</th>\n",
       "      <td>Snow White</td>\n",
       "      <td>41</td>\n",
       "      <td>48.0</td>\n",
       "      <td>39</td>\n",
       "      <td>41</td>\n",
       "    </tr>\n",
       "  </tbody>\n",
       "</table>\n",
       "</div>"
      ],
      "text/plain": [
       "      Student  quiz1  midterm  quiz2  final\n",
       "0      Sleepy     43     34.0     34     35\n",
       "1       Happy     33     20.0     23     49\n",
       "2         Doc     48     32.0     36     37\n",
       "3      Grumpy     40     23.5     40     45\n",
       "4     Bashful     46     42.5     46     31\n",
       "5      Sneezy     48     38.5     48     43\n",
       "6       Dopey     38     45.0     39     32\n",
       "7  Snow White     41     48.0     39     41"
      ]
     },
     "execution_count": 65,
     "metadata": {},
     "output_type": "execute_result"
    }
   ],
   "source": [
    "gb = nameIndex.reset_index()\n",
    "gb"
   ]
  },
  {
   "cell_type": "code",
   "execution_count": 66,
   "metadata": {},
   "outputs": [
    {
     "data": {
      "text/plain": [
       "Student     Doc\n",
       "quiz1        48\n",
       "midterm    32.0\n",
       "quiz2        36\n",
       "final        37\n",
       "Name: 2, dtype: object"
      ]
     },
     "execution_count": 66,
     "metadata": {},
     "output_type": "execute_result"
    }
   ],
   "source": [
    "gb.loc[2]"
   ]
  },
  {
   "cell_type": "code",
   "execution_count": 67,
   "metadata": {},
   "outputs": [
    {
     "ename": "KeyError",
     "evalue": "'Dopey'",
     "output_type": "error",
     "traceback": [
      "\u001b[0;31m---------------------------------------------------------------------------\u001b[0m",
      "\u001b[0;31mKeyError\u001b[0m                                  Traceback (most recent call last)",
      "\u001b[0;32m/var/folders/vn/h1ydhq9x7dg0y10vn8c2db040000gn/T/ipykernel_99327/2681877562.py\u001b[0m in \u001b[0;36m<module>\u001b[0;34m\u001b[0m\n\u001b[1;32m      2\u001b[0m \u001b[0;31m# print Dopey's quiz1 and quiz2 values?\u001b[0m\u001b[0;34m\u001b[0m\u001b[0;34m\u001b[0m\u001b[0m\n\u001b[1;32m      3\u001b[0m \u001b[0;34m\u001b[0m\u001b[0m\n\u001b[0;32m----> 4\u001b[0;31m \u001b[0mprint\u001b[0m\u001b[0;34m(\u001b[0m\u001b[0mgradebook\u001b[0m\u001b[0;34m.\u001b[0m\u001b[0mloc\u001b[0m\u001b[0;34m[\u001b[0m\u001b[0;34m'Dopey'\u001b[0m\u001b[0;34m,\u001b[0m\u001b[0;34m[\u001b[0m\u001b[0;34m'quiz1'\u001b[0m\u001b[0;34m,\u001b[0m \u001b[0;34m'quiz2'\u001b[0m\u001b[0;34m]\u001b[0m\u001b[0;34m]\u001b[0m\u001b[0;34m)\u001b[0m\u001b[0;34m\u001b[0m\u001b[0;34m\u001b[0m\u001b[0m\n\u001b[0m",
      "\u001b[0;32m~/opt/anaconda3/lib/python3.9/site-packages/pandas/core/indexing.py\u001b[0m in \u001b[0;36m__getitem__\u001b[0;34m(self, key)\u001b[0m\n\u001b[1;32m    923\u001b[0m                 \u001b[0;32mwith\u001b[0m \u001b[0msuppress\u001b[0m\u001b[0;34m(\u001b[0m\u001b[0mKeyError\u001b[0m\u001b[0;34m,\u001b[0m \u001b[0mIndexError\u001b[0m\u001b[0;34m)\u001b[0m\u001b[0;34m:\u001b[0m\u001b[0;34m\u001b[0m\u001b[0;34m\u001b[0m\u001b[0m\n\u001b[1;32m    924\u001b[0m                     \u001b[0;32mreturn\u001b[0m \u001b[0mself\u001b[0m\u001b[0;34m.\u001b[0m\u001b[0mobj\u001b[0m\u001b[0;34m.\u001b[0m\u001b[0m_get_value\u001b[0m\u001b[0;34m(\u001b[0m\u001b[0;34m*\u001b[0m\u001b[0mkey\u001b[0m\u001b[0;34m,\u001b[0m \u001b[0mtakeable\u001b[0m\u001b[0;34m=\u001b[0m\u001b[0mself\u001b[0m\u001b[0;34m.\u001b[0m\u001b[0m_takeable\u001b[0m\u001b[0;34m)\u001b[0m\u001b[0;34m\u001b[0m\u001b[0;34m\u001b[0m\u001b[0m\n\u001b[0;32m--> 925\u001b[0;31m             \u001b[0;32mreturn\u001b[0m \u001b[0mself\u001b[0m\u001b[0;34m.\u001b[0m\u001b[0m_getitem_tuple\u001b[0m\u001b[0;34m(\u001b[0m\u001b[0mkey\u001b[0m\u001b[0;34m)\u001b[0m\u001b[0;34m\u001b[0m\u001b[0;34m\u001b[0m\u001b[0m\n\u001b[0m\u001b[1;32m    926\u001b[0m         \u001b[0;32melse\u001b[0m\u001b[0;34m:\u001b[0m\u001b[0;34m\u001b[0m\u001b[0;34m\u001b[0m\u001b[0m\n\u001b[1;32m    927\u001b[0m             \u001b[0;31m# we by definition only have the 0th axis\u001b[0m\u001b[0;34m\u001b[0m\u001b[0;34m\u001b[0m\u001b[0m\n",
      "\u001b[0;32m~/opt/anaconda3/lib/python3.9/site-packages/pandas/core/indexing.py\u001b[0m in \u001b[0;36m_getitem_tuple\u001b[0;34m(self, tup)\u001b[0m\n\u001b[1;32m   1098\u001b[0m     \u001b[0;32mdef\u001b[0m \u001b[0m_getitem_tuple\u001b[0m\u001b[0;34m(\u001b[0m\u001b[0mself\u001b[0m\u001b[0;34m,\u001b[0m \u001b[0mtup\u001b[0m\u001b[0;34m:\u001b[0m \u001b[0mtuple\u001b[0m\u001b[0;34m)\u001b[0m\u001b[0;34m:\u001b[0m\u001b[0;34m\u001b[0m\u001b[0;34m\u001b[0m\u001b[0m\n\u001b[1;32m   1099\u001b[0m         \u001b[0;32mwith\u001b[0m \u001b[0msuppress\u001b[0m\u001b[0;34m(\u001b[0m\u001b[0mIndexingError\u001b[0m\u001b[0;34m)\u001b[0m\u001b[0;34m:\u001b[0m\u001b[0;34m\u001b[0m\u001b[0;34m\u001b[0m\u001b[0m\n\u001b[0;32m-> 1100\u001b[0;31m             \u001b[0;32mreturn\u001b[0m \u001b[0mself\u001b[0m\u001b[0;34m.\u001b[0m\u001b[0m_getitem_lowerdim\u001b[0m\u001b[0;34m(\u001b[0m\u001b[0mtup\u001b[0m\u001b[0;34m)\u001b[0m\u001b[0;34m\u001b[0m\u001b[0;34m\u001b[0m\u001b[0m\n\u001b[0m\u001b[1;32m   1101\u001b[0m \u001b[0;34m\u001b[0m\u001b[0m\n\u001b[1;32m   1102\u001b[0m         \u001b[0;31m# no multi-index, so validate all of the indexers\u001b[0m\u001b[0;34m\u001b[0m\u001b[0;34m\u001b[0m\u001b[0m\n",
      "\u001b[0;32m~/opt/anaconda3/lib/python3.9/site-packages/pandas/core/indexing.py\u001b[0m in \u001b[0;36m_getitem_lowerdim\u001b[0;34m(self, tup)\u001b[0m\n\u001b[1;32m    836\u001b[0m                 \u001b[0;31m# We don't need to check for tuples here because those are\u001b[0m\u001b[0;34m\u001b[0m\u001b[0;34m\u001b[0m\u001b[0m\n\u001b[1;32m    837\u001b[0m                 \u001b[0;31m#  caught by the _is_nested_tuple_indexer check above.\u001b[0m\u001b[0;34m\u001b[0m\u001b[0;34m\u001b[0m\u001b[0m\n\u001b[0;32m--> 838\u001b[0;31m                 \u001b[0msection\u001b[0m \u001b[0;34m=\u001b[0m \u001b[0mself\u001b[0m\u001b[0;34m.\u001b[0m\u001b[0m_getitem_axis\u001b[0m\u001b[0;34m(\u001b[0m\u001b[0mkey\u001b[0m\u001b[0;34m,\u001b[0m \u001b[0maxis\u001b[0m\u001b[0;34m=\u001b[0m\u001b[0mi\u001b[0m\u001b[0;34m)\u001b[0m\u001b[0;34m\u001b[0m\u001b[0;34m\u001b[0m\u001b[0m\n\u001b[0m\u001b[1;32m    839\u001b[0m \u001b[0;34m\u001b[0m\u001b[0m\n\u001b[1;32m    840\u001b[0m                 \u001b[0;31m# We should never have a scalar section here, because\u001b[0m\u001b[0;34m\u001b[0m\u001b[0;34m\u001b[0m\u001b[0m\n",
      "\u001b[0;32m~/opt/anaconda3/lib/python3.9/site-packages/pandas/core/indexing.py\u001b[0m in \u001b[0;36m_getitem_axis\u001b[0;34m(self, key, axis)\u001b[0m\n\u001b[1;32m   1162\u001b[0m         \u001b[0;31m# fall thru to straight lookup\u001b[0m\u001b[0;34m\u001b[0m\u001b[0;34m\u001b[0m\u001b[0m\n\u001b[1;32m   1163\u001b[0m         \u001b[0mself\u001b[0m\u001b[0;34m.\u001b[0m\u001b[0m_validate_key\u001b[0m\u001b[0;34m(\u001b[0m\u001b[0mkey\u001b[0m\u001b[0;34m,\u001b[0m \u001b[0maxis\u001b[0m\u001b[0;34m)\u001b[0m\u001b[0;34m\u001b[0m\u001b[0;34m\u001b[0m\u001b[0m\n\u001b[0;32m-> 1164\u001b[0;31m         \u001b[0;32mreturn\u001b[0m \u001b[0mself\u001b[0m\u001b[0;34m.\u001b[0m\u001b[0m_get_label\u001b[0m\u001b[0;34m(\u001b[0m\u001b[0mkey\u001b[0m\u001b[0;34m,\u001b[0m \u001b[0maxis\u001b[0m\u001b[0;34m=\u001b[0m\u001b[0maxis\u001b[0m\u001b[0;34m)\u001b[0m\u001b[0;34m\u001b[0m\u001b[0;34m\u001b[0m\u001b[0m\n\u001b[0m\u001b[1;32m   1165\u001b[0m \u001b[0;34m\u001b[0m\u001b[0m\n\u001b[1;32m   1166\u001b[0m     \u001b[0;32mdef\u001b[0m \u001b[0m_get_slice_axis\u001b[0m\u001b[0;34m(\u001b[0m\u001b[0mself\u001b[0m\u001b[0;34m,\u001b[0m \u001b[0mslice_obj\u001b[0m\u001b[0;34m:\u001b[0m \u001b[0mslice\u001b[0m\u001b[0;34m,\u001b[0m \u001b[0maxis\u001b[0m\u001b[0;34m:\u001b[0m \u001b[0mint\u001b[0m\u001b[0;34m)\u001b[0m\u001b[0;34m:\u001b[0m\u001b[0;34m\u001b[0m\u001b[0;34m\u001b[0m\u001b[0m\n",
      "\u001b[0;32m~/opt/anaconda3/lib/python3.9/site-packages/pandas/core/indexing.py\u001b[0m in \u001b[0;36m_get_label\u001b[0;34m(self, label, axis)\u001b[0m\n\u001b[1;32m   1111\u001b[0m     \u001b[0;32mdef\u001b[0m \u001b[0m_get_label\u001b[0m\u001b[0;34m(\u001b[0m\u001b[0mself\u001b[0m\u001b[0;34m,\u001b[0m \u001b[0mlabel\u001b[0m\u001b[0;34m,\u001b[0m \u001b[0maxis\u001b[0m\u001b[0;34m:\u001b[0m \u001b[0mint\u001b[0m\u001b[0;34m)\u001b[0m\u001b[0;34m:\u001b[0m\u001b[0;34m\u001b[0m\u001b[0;34m\u001b[0m\u001b[0m\n\u001b[1;32m   1112\u001b[0m         \u001b[0;31m# GH#5667 this will fail if the label is not present in the axis.\u001b[0m\u001b[0;34m\u001b[0m\u001b[0;34m\u001b[0m\u001b[0m\n\u001b[0;32m-> 1113\u001b[0;31m         \u001b[0;32mreturn\u001b[0m \u001b[0mself\u001b[0m\u001b[0;34m.\u001b[0m\u001b[0mobj\u001b[0m\u001b[0;34m.\u001b[0m\u001b[0mxs\u001b[0m\u001b[0;34m(\u001b[0m\u001b[0mlabel\u001b[0m\u001b[0;34m,\u001b[0m \u001b[0maxis\u001b[0m\u001b[0;34m=\u001b[0m\u001b[0maxis\u001b[0m\u001b[0;34m)\u001b[0m\u001b[0;34m\u001b[0m\u001b[0;34m\u001b[0m\u001b[0m\n\u001b[0m\u001b[1;32m   1114\u001b[0m \u001b[0;34m\u001b[0m\u001b[0m\n\u001b[1;32m   1115\u001b[0m     \u001b[0;32mdef\u001b[0m \u001b[0m_handle_lowerdim_multi_index_axis0\u001b[0m\u001b[0;34m(\u001b[0m\u001b[0mself\u001b[0m\u001b[0;34m,\u001b[0m \u001b[0mtup\u001b[0m\u001b[0;34m:\u001b[0m \u001b[0mtuple\u001b[0m\u001b[0;34m)\u001b[0m\u001b[0;34m:\u001b[0m\u001b[0;34m\u001b[0m\u001b[0;34m\u001b[0m\u001b[0m\n",
      "\u001b[0;32m~/opt/anaconda3/lib/python3.9/site-packages/pandas/core/generic.py\u001b[0m in \u001b[0;36mxs\u001b[0;34m(self, key, axis, level, drop_level)\u001b[0m\n\u001b[1;32m   3774\u001b[0m                 \u001b[0;32mraise\u001b[0m \u001b[0mTypeError\u001b[0m\u001b[0;34m(\u001b[0m\u001b[0;34mf\"Expected label or tuple of labels, got {key}\"\u001b[0m\u001b[0;34m)\u001b[0m \u001b[0;32mfrom\u001b[0m \u001b[0me\u001b[0m\u001b[0;34m\u001b[0m\u001b[0;34m\u001b[0m\u001b[0m\n\u001b[1;32m   3775\u001b[0m         \u001b[0;32melse\u001b[0m\u001b[0;34m:\u001b[0m\u001b[0;34m\u001b[0m\u001b[0;34m\u001b[0m\u001b[0m\n\u001b[0;32m-> 3776\u001b[0;31m             \u001b[0mloc\u001b[0m \u001b[0;34m=\u001b[0m \u001b[0mindex\u001b[0m\u001b[0;34m.\u001b[0m\u001b[0mget_loc\u001b[0m\u001b[0;34m(\u001b[0m\u001b[0mkey\u001b[0m\u001b[0;34m)\u001b[0m\u001b[0;34m\u001b[0m\u001b[0;34m\u001b[0m\u001b[0m\n\u001b[0m\u001b[1;32m   3777\u001b[0m \u001b[0;34m\u001b[0m\u001b[0m\n\u001b[1;32m   3778\u001b[0m             \u001b[0;32mif\u001b[0m \u001b[0misinstance\u001b[0m\u001b[0;34m(\u001b[0m\u001b[0mloc\u001b[0m\u001b[0;34m,\u001b[0m \u001b[0mnp\u001b[0m\u001b[0;34m.\u001b[0m\u001b[0mndarray\u001b[0m\u001b[0;34m)\u001b[0m\u001b[0;34m:\u001b[0m\u001b[0;34m\u001b[0m\u001b[0;34m\u001b[0m\u001b[0m\n",
      "\u001b[0;32m~/opt/anaconda3/lib/python3.9/site-packages/pandas/core/indexes/range.py\u001b[0m in \u001b[0;36mget_loc\u001b[0;34m(self, key, method, tolerance)\u001b[0m\n\u001b[1;32m    386\u001b[0m                 \u001b[0;32mexcept\u001b[0m \u001b[0mValueError\u001b[0m \u001b[0;32mas\u001b[0m \u001b[0merr\u001b[0m\u001b[0;34m:\u001b[0m\u001b[0;34m\u001b[0m\u001b[0;34m\u001b[0m\u001b[0m\n\u001b[1;32m    387\u001b[0m                     \u001b[0;32mraise\u001b[0m \u001b[0mKeyError\u001b[0m\u001b[0;34m(\u001b[0m\u001b[0mkey\u001b[0m\u001b[0;34m)\u001b[0m \u001b[0;32mfrom\u001b[0m \u001b[0merr\u001b[0m\u001b[0;34m\u001b[0m\u001b[0;34m\u001b[0m\u001b[0m\n\u001b[0;32m--> 388\u001b[0;31m             \u001b[0;32mraise\u001b[0m \u001b[0mKeyError\u001b[0m\u001b[0;34m(\u001b[0m\u001b[0mkey\u001b[0m\u001b[0;34m)\u001b[0m\u001b[0;34m\u001b[0m\u001b[0;34m\u001b[0m\u001b[0m\n\u001b[0m\u001b[1;32m    389\u001b[0m         \u001b[0;32mreturn\u001b[0m \u001b[0msuper\u001b[0m\u001b[0;34m(\u001b[0m\u001b[0;34m)\u001b[0m\u001b[0;34m.\u001b[0m\u001b[0mget_loc\u001b[0m\u001b[0;34m(\u001b[0m\u001b[0mkey\u001b[0m\u001b[0;34m,\u001b[0m \u001b[0mmethod\u001b[0m\u001b[0;34m=\u001b[0m\u001b[0mmethod\u001b[0m\u001b[0;34m,\u001b[0m \u001b[0mtolerance\u001b[0m\u001b[0;34m=\u001b[0m\u001b[0mtolerance\u001b[0m\u001b[0;34m)\u001b[0m\u001b[0;34m\u001b[0m\u001b[0;34m\u001b[0m\u001b[0m\n\u001b[1;32m    390\u001b[0m \u001b[0;34m\u001b[0m\u001b[0m\n",
      "\u001b[0;31mKeyError\u001b[0m: 'Dopey'"
     ]
    }
   ],
   "source": [
    "# 13. From the gradebook in the cell above:\n",
    "# print Dopey's quiz1 and quiz2 values?\n",
    "\n",
    "print(gradebook.loc['Dopey',['quiz1', 'quiz2']])"
   ]
  },
  {
   "cell_type": "markdown",
   "metadata": {},
   "source": [
    "Show __attributes__ of the DataFrame"
   ]
  },
  {
   "cell_type": "code",
   "execution_count": 68,
   "metadata": {},
   "outputs": [
    {
     "name": "stdout",
     "output_type": "stream",
     "text": [
      "index:\n",
      "RangeIndex(start=0, stop=8, step=1)\n",
      "[0 1 2 3 4 5 6 7]\n",
      "\n",
      "labels:\n",
      "Index(['Student', 'quiz1', 'midterm', 'quiz2', 'final'], dtype='object')\n",
      "['Student' 'quiz1' 'midterm' 'quiz2' 'final']\n",
      "\n",
      "shape: (8, 5)\n",
      "size: 40\n",
      "len: 8\n",
      "\n",
      "first part:    Student  quiz1  midterm  quiz2  final\n",
      "0   Sleepy     43     34.0     34     35\n",
      "1    Happy     33     20.0     23     49\n",
      "2      Doc     48     32.0     36     37\n",
      "3   Grumpy     40     23.5     40     45\n",
      "4  Bashful     46     42.5     46     31 \n",
      "\n",
      "last part:       Student  quiz1  midterm  quiz2  final\n",
      "5      Sneezy     48     38.5     48     43\n",
      "6       Dopey     38     45.0     39     32\n",
      "7  Snow White     41     48.0     39     41\n"
     ]
    }
   ],
   "source": [
    "# 14. We've already seen the column labels and row indices\n",
    "print(\"index:\")\n",
    "print(gradebook.index)          \n",
    "print(gradebook.index.values)\n",
    "print()\n",
    "print(\"labels:\")\n",
    "print(gradebook.columns)  \n",
    "print(gradebook.columns.values)\n",
    "print()\n",
    "print(\"shape:\", gradebook.shape)\n",
    "print(\"size:\", gradebook.size)\n",
    "print(\"len:\", len(gradebook))\n",
    "print()\n",
    "print(\"first part:\", gradebook.head(), '\\n')\n",
    "print(\"last part:\", gradebook.tail(3))\n",
    "\n",
    "# what's the difference between no input argument for head() or tail()\n",
    "# and having a number as input argument?\n",
    "# "
   ]
  },
  {
   "cell_type": "markdown",
   "metadata": {},
   "source": [
    "---"
   ]
  },
  {
   "cell_type": "markdown",
   "metadata": {},
   "source": [
    "### Data Analysis"
   ]
  },
  {
   "cell_type": "markdown",
   "metadata": {},
   "source": [
    "Basic __statistics__"
   ]
  },
  {
   "cell_type": "code",
   "execution_count": 69,
   "metadata": {},
   "outputs": [
    {
     "data": {
      "text/html": [
       "<div>\n",
       "<style scoped>\n",
       "    .dataframe tbody tr th:only-of-type {\n",
       "        vertical-align: middle;\n",
       "    }\n",
       "\n",
       "    .dataframe tbody tr th {\n",
       "        vertical-align: top;\n",
       "    }\n",
       "\n",
       "    .dataframe thead th {\n",
       "        text-align: right;\n",
       "    }\n",
       "</style>\n",
       "<table border=\"1\" class=\"dataframe\">\n",
       "  <thead>\n",
       "    <tr style=\"text-align: right;\">\n",
       "      <th></th>\n",
       "      <th>quiz1</th>\n",
       "      <th>midterm</th>\n",
       "      <th>quiz2</th>\n",
       "      <th>final</th>\n",
       "    </tr>\n",
       "  </thead>\n",
       "  <tbody>\n",
       "    <tr>\n",
       "      <th>count</th>\n",
       "      <td>8.000000</td>\n",
       "      <td>8.000000</td>\n",
       "      <td>8.000000</td>\n",
       "      <td>8.000000</td>\n",
       "    </tr>\n",
       "    <tr>\n",
       "      <th>mean</th>\n",
       "      <td>42.125000</td>\n",
       "      <td>35.437500</td>\n",
       "      <td>38.125000</td>\n",
       "      <td>39.125000</td>\n",
       "    </tr>\n",
       "    <tr>\n",
       "      <th>std</th>\n",
       "      <td>5.221863</td>\n",
       "      <td>10.022965</td>\n",
       "      <td>7.698562</td>\n",
       "      <td>6.424006</td>\n",
       "    </tr>\n",
       "    <tr>\n",
       "      <th>min</th>\n",
       "      <td>33.000000</td>\n",
       "      <td>20.000000</td>\n",
       "      <td>23.000000</td>\n",
       "      <td>31.000000</td>\n",
       "    </tr>\n",
       "    <tr>\n",
       "      <th>25%</th>\n",
       "      <td>39.500000</td>\n",
       "      <td>29.875000</td>\n",
       "      <td>35.500000</td>\n",
       "      <td>34.250000</td>\n",
       "    </tr>\n",
       "    <tr>\n",
       "      <th>50%</th>\n",
       "      <td>42.000000</td>\n",
       "      <td>36.250000</td>\n",
       "      <td>39.000000</td>\n",
       "      <td>39.000000</td>\n",
       "    </tr>\n",
       "    <tr>\n",
       "      <th>75%</th>\n",
       "      <td>46.500000</td>\n",
       "      <td>43.125000</td>\n",
       "      <td>41.500000</td>\n",
       "      <td>43.500000</td>\n",
       "    </tr>\n",
       "    <tr>\n",
       "      <th>max</th>\n",
       "      <td>48.000000</td>\n",
       "      <td>48.000000</td>\n",
       "      <td>48.000000</td>\n",
       "      <td>49.000000</td>\n",
       "    </tr>\n",
       "  </tbody>\n",
       "</table>\n",
       "</div>"
      ],
      "text/plain": [
       "           quiz1    midterm      quiz2      final\n",
       "count   8.000000   8.000000   8.000000   8.000000\n",
       "mean   42.125000  35.437500  38.125000  39.125000\n",
       "std     5.221863  10.022965   7.698562   6.424006\n",
       "min    33.000000  20.000000  23.000000  31.000000\n",
       "25%    39.500000  29.875000  35.500000  34.250000\n",
       "50%    42.000000  36.250000  39.000000  39.000000\n",
       "75%    46.500000  43.125000  41.500000  43.500000\n",
       "max    48.000000  48.000000  48.000000  49.000000"
      ]
     },
     "execution_count": 69,
     "metadata": {},
     "output_type": "execute_result"
    }
   ],
   "source": [
    "# 15. We can get all the basic stats in one method\n",
    "gradebook.describe()\n",
    "\n",
    "# Review statistics and data analysis:            ** EC **\n",
    "# You are the teacher for this class, and as a good teacher, you want to improve your \n",
    "# class material.\n",
    "# Run the cell so you can see the statistics for the exams: quiz1, midterm, quiz2, final\n",
    "# Using the statistics, you will need to improve the class material for which exam?\n",
    "# Explain your choice by citing specific statistic values to explain how they show the \n",
    "# the need to improve.\n",
    "## I will need to improve the class material for the midterm. This is because out of all the exams, the mean percentage,\n",
    "## found by dividing the mean of the scores for an exam by the max possible score, is the lowest compared to the other exams."
   ]
  },
  {
   "cell_type": "code",
   "execution_count": 70,
   "metadata": {
    "scrolled": true
   },
   "outputs": [
    {
     "name": "stdout",
     "output_type": "stream",
     "text": [
      "42.0\n",
      "38.125 \n",
      "\n",
      "38.125 \n",
      "\n"
     ]
    },
    {
     "data": {
      "text/plain": [
       "count     8.000000\n",
       "mean     38.125000\n",
       "std       7.698562\n",
       "min      23.000000\n",
       "25%      35.500000\n",
       "50%      39.000000\n",
       "75%      41.500000\n",
       "max      48.000000\n",
       "Name: quiz2, dtype: float64"
      ]
     },
     "execution_count": 70,
     "metadata": {},
     "output_type": "execute_result"
    }
   ],
   "source": [
    "# 16. To get a specific statistic for a specific column, we use numpy\n",
    "\n",
    "print(np.median(gradebook.quiz1))\n",
    "print(np.mean(gradebook.quiz2), '\\n')\n",
    "\n",
    "# or pandas\n",
    "print(gradebook.quiz2.mean(), '\\n')\n",
    "\n",
    "# We can also get all statistics of one column\n",
    "gradebook.quiz2.describe()"
   ]
  },
  {
   "cell_type": "code",
   "execution_count": 71,
   "metadata": {},
   "outputs": [
    {
     "name": "stdout",
     "output_type": "stream",
     "text": [
      "  Student  quiz1  midterm  quiz2  final\n",
      "1   Happy     33     20.0     23     49 \n",
      "\n",
      "      Student  quiz1  midterm  quiz2  final\n",
      "1       Happy     33     20.0     23     49\n",
      "3      Grumpy     40     23.5     40     45\n",
      "5      Sneezy     48     38.5     48     43\n",
      "7  Snow White     41     48.0     39     41 \n",
      "\n"
     ]
    }
   ],
   "source": [
    "# 17. # For data analysis purpose, all scores in the examples below are out of 50 pts.\n",
    "\n",
    "# Show students who earned more than 90% in their final\n",
    "print(gradebook[gradebook.final > 50*.9], '\\n')\n",
    "\n",
    "# Show students who earned more than 90% in their final\n",
    "print(gradebook[gradebook.final > 50*.8], '\\n')\n",
    "\n",
    "# Show the number of students who earned more than 80% in their final?\n"
   ]
  },
  {
   "cell_type": "markdown",
   "metadata": {
    "collapsed": true
   },
   "source": [
    "Basic __Calculations__"
   ]
  },
  {
   "cell_type": "code",
   "execution_count": 72,
   "metadata": {},
   "outputs": [
    {
     "name": "stdout",
     "output_type": "stream",
     "text": [
      "weighted average:\n",
      "0    36.10\n",
      "1    31.90\n",
      "2    37.50\n",
      "3    36.55\n",
      "4    40.45\n",
      "5    43.65\n",
      "6    38.50\n",
      "7    42.70\n",
      "dtype: float64\n"
     ]
    }
   ],
   "source": [
    "# 18. Assume the midterm and final are each worth 30% of the grade, and quiz1 and quiz2 \n",
    "# are each worth 20% of the grade. \n",
    "# This means 60% of the grade comes from the midterm and final, and 40% of the grade \n",
    "# comes from the quizzes.\n",
    "\n",
    "# We want to calculate the weighted average of the exams. \n",
    "# and we want the score to be out of 100 to make it easier to see the percentage.\n",
    "\n",
    "wtAvg=(.2 * gradebook.quiz1 + .2 * gradebook.quiz2 + \n",
    "       .3 * gradebook.midterm + .3 * gradebook.final)\n",
    "print(\"weighted average:\")\n",
    "print(wtAvg)\n",
    "\n",
    "# For each student, show the wtAvg above as a percentage?           ** EC **\n",
    "# Recall that the scores are out of 50, so someone with a weighted average\n",
    "# of 25 would be at 50%\n"
   ]
  },
  {
   "cell_type": "markdown",
   "metadata": {},
   "source": [
    "**Sorting**"
   ]
  },
  {
   "cell_type": "code",
   "execution_count": null,
   "metadata": {},
   "outputs": [],
   "source": [
    "# 19. Sort by a column\n",
    "\n",
    "print(gradebook, '\\n')\n",
    "print(gradebook.sort_values(by=\"quiz1\"), '\\n')\n",
    "print(gradebook.sort_values(by=\"quiz1\", ascending=False), '\\n')"
   ]
  },
  {
   "cell_type": "markdown",
   "metadata": {},
   "source": [
    "**Changing shape**"
   ]
  },
  {
   "cell_type": "code",
   "execution_count": null,
   "metadata": {},
   "outputs": [],
   "source": [
    "# 20. Remove rows\n",
    "gradebook = pd.read_excel(\"scores.xlsx\", index_col='Student')\n",
    "print(gradebook,'\\n')\n",
    "\n",
    "print(\"remove rows:\")\n",
    "print(gradebook.drop([\"Sneezy\",\"Happy\"]),'\\n')\n",
    "print(gradebook,'\\n')\n",
    "\n",
    "gradebook.drop([\"Sneezy\",\"Happy\"], inplace=True)\n",
    "print(gradebook,'\\n')"
   ]
  },
  {
   "cell_type": "code",
   "execution_count": null,
   "metadata": {},
   "outputs": [],
   "source": [
    "# Remove columns\n",
    "gradebook.drop(columns=['quiz2'], inplace=True),'\\n'\n",
    "gradebook"
   ]
  },
  {
   "cell_type": "code",
   "execution_count": null,
   "metadata": {},
   "outputs": [],
   "source": [
    "# 21. Adding from another DataFrame along the rows\n",
    "\n",
    "gradebook = pd.read_excel(\"scores.xlsx\", index_col='Student')\n",
    "print(gradebook, \"\\n\")\n",
    "stInfo = pd.read_excel(\"ids.xlsx\", index_col='Student')\n",
    "print(stInfo, \"\\n\")\n",
    "\n",
    "print(\"Concatenating:\")\n",
    "data = pd.concat([stInfo, gradebook], axis=1)\n",
    "data\n",
    "#data = pd.concat([stInfo, gradebook])  # axis=0\n",
    "#data\n",
    "\n",
    "# the row indices have to be identical to concatenate 2 DataFrames"
   ]
  },
  {
   "cell_type": "code",
   "execution_count": null,
   "metadata": {},
   "outputs": [],
   "source": [
    "# 22. Adding from another DataFrame along the columns\n",
    "\n",
    "gradebook = pd.read_excel(\"scores.xlsx\")\n",
    "print(gradebook, \"\\n\")\n",
    "newrow = pd.DataFrame(columns=['Student','quiz1','midterm','quiz2','final'],\n",
    "                      data=[ [\"New Kid\",30,30,30,30] ])\n",
    "print(newrow, \"\\n\")\n",
    "\n",
    "print(\"Appending:\")\n",
    "gradebook = gradebook.append(newrow, ignore_index=True)\n",
    "gradebook"
   ]
  },
  {
   "cell_type": "code",
   "execution_count": null,
   "metadata": {},
   "outputs": [],
   "source": [
    "# append a dictionary\n",
    "\n",
    "#gradebook = pd.read_excel(\"scores.xlsx\")\n",
    "d = dict(zip(['Student','quiz1','midterm','quiz2','final'],[\"New Kid2\",30,30,30,30]))\n",
    "print(d)\n",
    "gradebook = gradebook.append(d, ignore_index=True)\n",
    "gradebook"
   ]
  },
  {
   "cell_type": "markdown",
   "metadata": {},
   "source": [
    "__groupby__ for data aggregation"
   ]
  },
  {
   "cell_type": "code",
   "execution_count": null,
   "metadata": {},
   "outputs": [],
   "source": [
    "# 23. groupby can be used to group data together when there are specific \n",
    "# categories in a column\n",
    "\n",
    "print(data, \"\\n\")\n",
    "print(\"groupby object:\", data.groupby(\"year\"), \"\\n\")\n",
    "print(data.groupby(\"year\").mean(), '\\n')\n",
    "\n",
    "# The above output shows the mean of the id's, which doesn't make sense.\n",
    "# Show the mean of the exams only?\n"
   ]
  },
  {
   "cell_type": "markdown",
   "metadata": {},
   "source": [
    "### Data Cleaning"
   ]
  },
  {
   "cell_type": "markdown",
   "metadata": {},
   "source": [
    "Missing data or __NaN__"
   ]
  },
  {
   "cell_type": "code",
   "execution_count": 73,
   "metadata": {},
   "outputs": [
    {
     "name": "stdout",
     "output_type": "stream",
     "text": [
      "original data:\n",
      "    Class Days     Time  Number of Units  Number of Students Location\n",
      "0    CIS3   MW   9:30am              4.0                45.0  De Anza\n",
      "1  CIS22A   MW  11:30am              4.5                 NaN  De Anza\n",
      "2  CIS41A  TTH   9:30am              4.5                47.0  De Anza\n",
      "3  CIS18B   MW   1:30pm              4.5                 NaN  De Anza \n",
      "\n",
      "drop NaN:\n",
      "    Class Days    Time  Number of Units  Number of Students Location\n",
      "0    CIS3   MW  9:30am              4.0                45.0  De Anza\n",
      "2  CIS41A  TTH  9:30am              4.5                47.0  De Anza \n",
      "\n",
      "Replace NaN:\n",
      "    Class Days     Time  Number of Units  Number of Students Location\n",
      "0    CIS3   MW   9:30am              4.0                45.0  De Anza\n",
      "1  CIS22A   MW  11:30am              4.5                 0.0  De Anza\n",
      "2  CIS41A  TTH   9:30am              4.5                47.0  De Anza\n",
      "3  CIS18B   MW   1:30pm              4.5                 0.0  De Anza \n",
      "\n",
      "check for NaN:\n",
      "    Class Days     Time  Number of Units  Number of Students Location\n",
      "1  CIS22A   MW  11:30am              4.5                 NaN  De Anza\n",
      "3  CIS18B   MW   1:30pm              4.5                 NaN  De Anza \n",
      "\n",
      "Class                 0\n",
      "Days                  0\n",
      "Time                  0\n",
      "Number of Units       0\n",
      "Number of Students    2\n",
      "Location              0\n",
      "dtype: int64\n"
     ]
    }
   ],
   "source": [
    "# 24. When data is read in to a DataFrame and some values are missing, the missing values \n",
    "# appear as NaN values in the DataFrame. NaN is the IEEE defined value for Not a Number.\n",
    "data = pd.read_csv(\"classes.csv\")   # empty field in CSV file\n",
    "print(\"original data:\")\n",
    "print(data, '\\n')\n",
    "\n",
    "# remove data records (rows) with NaN\n",
    "cleanedData = data.dropna()\n",
    "print(\"drop NaN:\")\n",
    "print(cleanedData, '\\n')\n",
    "\n",
    "# replace NaN with some default value\n",
    "subbedData = data.fillna(0)\n",
    "print(\"Replace NaN:\")\n",
    "print(subbedData, '\\n')\n",
    "\n",
    "# check for NaN in the DataFrame\n",
    "print(\"check for NaN:\")\n",
    "print(data[data.isna().any(axis=1)], \"\\n\")\n",
    "print(data.isna().sum())"
   ]
  },
  {
   "cell_type": "code",
   "execution_count": 74,
   "metadata": {},
   "outputs": [
    {
     "name": "stdout",
     "output_type": "stream",
     "text": [
      "numpy:\n",
      "nan\n",
      "46.0 \n",
      "\n",
      "pandas:\n",
      "46.0\n"
     ]
    }
   ],
   "source": [
    "# 25. NaN with numpy\n",
    "print(\"numpy:\")\n",
    "print(np.median(data['Number of Students']))\n",
    "print(np.median(cleanedData['Number of Students']), '\\n')\n",
    "\n",
    "# NaN with pandas\n",
    "print(\"pandas:\")\n",
    "print(data['Number of Students'].median())"
   ]
  },
  {
   "cell_type": "markdown",
   "metadata": {},
   "source": [
    "Change column labels: __string vectorization__"
   ]
  },
  {
   "cell_type": "code",
   "execution_count": 75,
   "metadata": {},
   "outputs": [
    {
     "data": {
      "text/html": [
       "<div>\n",
       "<style scoped>\n",
       "    .dataframe tbody tr th:only-of-type {\n",
       "        vertical-align: middle;\n",
       "    }\n",
       "\n",
       "    .dataframe tbody tr th {\n",
       "        vertical-align: top;\n",
       "    }\n",
       "\n",
       "    .dataframe thead th {\n",
       "        text-align: right;\n",
       "    }\n",
       "</style>\n",
       "<table border=\"1\" class=\"dataframe\">\n",
       "  <thead>\n",
       "    <tr style=\"text-align: right;\">\n",
       "      <th></th>\n",
       "      <th>class</th>\n",
       "      <th>days</th>\n",
       "      <th>time</th>\n",
       "      <th>number of units</th>\n",
       "      <th>number of students</th>\n",
       "      <th>location</th>\n",
       "    </tr>\n",
       "  </thead>\n",
       "  <tbody>\n",
       "    <tr>\n",
       "      <th>0</th>\n",
       "      <td>CIS3</td>\n",
       "      <td>MW</td>\n",
       "      <td>9:30am</td>\n",
       "      <td>4.0</td>\n",
       "      <td>45.0</td>\n",
       "      <td>De Anza</td>\n",
       "    </tr>\n",
       "    <tr>\n",
       "      <th>1</th>\n",
       "      <td>CIS22A</td>\n",
       "      <td>MW</td>\n",
       "      <td>11:30am</td>\n",
       "      <td>4.5</td>\n",
       "      <td>NaN</td>\n",
       "      <td>De Anza</td>\n",
       "    </tr>\n",
       "    <tr>\n",
       "      <th>2</th>\n",
       "      <td>CIS41A</td>\n",
       "      <td>TTH</td>\n",
       "      <td>9:30am</td>\n",
       "      <td>4.5</td>\n",
       "      <td>47.0</td>\n",
       "      <td>De Anza</td>\n",
       "    </tr>\n",
       "    <tr>\n",
       "      <th>3</th>\n",
       "      <td>CIS18B</td>\n",
       "      <td>MW</td>\n",
       "      <td>1:30pm</td>\n",
       "      <td>4.5</td>\n",
       "      <td>NaN</td>\n",
       "      <td>De Anza</td>\n",
       "    </tr>\n",
       "  </tbody>\n",
       "</table>\n",
       "</div>"
      ],
      "text/plain": [
       "    class days     time  number of units  number of students location\n",
       "0    CIS3   MW   9:30am              4.0                45.0  De Anza\n",
       "1  CIS22A   MW  11:30am              4.5                 NaN  De Anza\n",
       "2  CIS41A  TTH   9:30am              4.5                47.0  De Anza\n",
       "3  CIS18B   MW   1:30pm              4.5                 NaN  De Anza"
      ]
     },
     "execution_count": 75,
     "metadata": {},
     "output_type": "execute_result"
    }
   ],
   "source": [
    "# 26. As seen from the cell above, it's more convenient to have a shorter column label.\n",
    "# Simplify the data.columns (column labels) so it's easier to type.\n",
    "# a. change the column labels so they're all lowercase\n",
    "\n",
    "data.columns = data.columns.str.lower()\n",
    "data"
   ]
  },
  {
   "cell_type": "code",
   "execution_count": 76,
   "metadata": {},
   "outputs": [
    {
     "data": {
      "text/html": [
       "<div>\n",
       "<style scoped>\n",
       "    .dataframe tbody tr th:only-of-type {\n",
       "        vertical-align: middle;\n",
       "    }\n",
       "\n",
       "    .dataframe tbody tr th {\n",
       "        vertical-align: top;\n",
       "    }\n",
       "\n",
       "    .dataframe thead th {\n",
       "        text-align: right;\n",
       "    }\n",
       "</style>\n",
       "<table border=\"1\" class=\"dataframe\">\n",
       "  <thead>\n",
       "    <tr style=\"text-align: right;\">\n",
       "      <th></th>\n",
       "      <th>class</th>\n",
       "      <th>days</th>\n",
       "      <th>time</th>\n",
       "      <th>units</th>\n",
       "      <th>students</th>\n",
       "      <th>location</th>\n",
       "    </tr>\n",
       "  </thead>\n",
       "  <tbody>\n",
       "    <tr>\n",
       "      <th>0</th>\n",
       "      <td>CIS3</td>\n",
       "      <td>MW</td>\n",
       "      <td>9:30am</td>\n",
       "      <td>4.0</td>\n",
       "      <td>45.0</td>\n",
       "      <td>De Anza</td>\n",
       "    </tr>\n",
       "    <tr>\n",
       "      <th>1</th>\n",
       "      <td>CIS22A</td>\n",
       "      <td>MW</td>\n",
       "      <td>11:30am</td>\n",
       "      <td>4.5</td>\n",
       "      <td>NaN</td>\n",
       "      <td>De Anza</td>\n",
       "    </tr>\n",
       "    <tr>\n",
       "      <th>2</th>\n",
       "      <td>CIS41A</td>\n",
       "      <td>TTH</td>\n",
       "      <td>9:30am</td>\n",
       "      <td>4.5</td>\n",
       "      <td>47.0</td>\n",
       "      <td>De Anza</td>\n",
       "    </tr>\n",
       "    <tr>\n",
       "      <th>3</th>\n",
       "      <td>CIS18B</td>\n",
       "      <td>MW</td>\n",
       "      <td>1:30pm</td>\n",
       "      <td>4.5</td>\n",
       "      <td>NaN</td>\n",
       "      <td>De Anza</td>\n",
       "    </tr>\n",
       "  </tbody>\n",
       "</table>\n",
       "</div>"
      ],
      "text/plain": [
       "    class days     time  units  students location\n",
       "0    CIS3   MW   9:30am    4.0      45.0  De Anza\n",
       "1  CIS22A   MW  11:30am    4.5       NaN  De Anza\n",
       "2  CIS41A  TTH   9:30am    4.5      47.0  De Anza\n",
       "3  CIS18B   MW   1:30pm    4.5       NaN  De Anza"
      ]
     },
     "execution_count": 76,
     "metadata": {},
     "output_type": "execute_result"
    }
   ],
   "source": [
    "# b. change column labels to 1 word: class, days, time, units, students ?\n",
    "# You'll need to do the reading for this answer\n",
    "\n",
    "data.columns = data.columns.str.extract('([a-z]+)$',expand=False)\n",
    "data"
   ]
  },
  {
   "cell_type": "markdown",
   "metadata": {},
   "source": [
    "Remove unnecessary columns"
   ]
  },
  {
   "cell_type": "code",
   "execution_count": 79,
   "metadata": {},
   "outputs": [
    {
     "ename": "KeyError",
     "evalue": "'location'",
     "output_type": "error",
     "traceback": [
      "\u001b[0;31m---------------------------------------------------------------------------\u001b[0m",
      "\u001b[0;31mKeyError\u001b[0m                                  Traceback (most recent call last)",
      "\u001b[0;32m~/opt/anaconda3/lib/python3.9/site-packages/pandas/core/indexes/base.py\u001b[0m in \u001b[0;36mget_loc\u001b[0;34m(self, key, method, tolerance)\u001b[0m\n\u001b[1;32m   3360\u001b[0m             \u001b[0;32mtry\u001b[0m\u001b[0;34m:\u001b[0m\u001b[0;34m\u001b[0m\u001b[0;34m\u001b[0m\u001b[0m\n\u001b[0;32m-> 3361\u001b[0;31m                 \u001b[0;32mreturn\u001b[0m \u001b[0mself\u001b[0m\u001b[0;34m.\u001b[0m\u001b[0m_engine\u001b[0m\u001b[0;34m.\u001b[0m\u001b[0mget_loc\u001b[0m\u001b[0;34m(\u001b[0m\u001b[0mcasted_key\u001b[0m\u001b[0;34m)\u001b[0m\u001b[0;34m\u001b[0m\u001b[0;34m\u001b[0m\u001b[0m\n\u001b[0m\u001b[1;32m   3362\u001b[0m             \u001b[0;32mexcept\u001b[0m \u001b[0mKeyError\u001b[0m \u001b[0;32mas\u001b[0m \u001b[0merr\u001b[0m\u001b[0;34m:\u001b[0m\u001b[0;34m\u001b[0m\u001b[0;34m\u001b[0m\u001b[0m\n",
      "\u001b[0;32m~/opt/anaconda3/lib/python3.9/site-packages/pandas/_libs/index.pyx\u001b[0m in \u001b[0;36mpandas._libs.index.IndexEngine.get_loc\u001b[0;34m()\u001b[0m\n",
      "\u001b[0;32m~/opt/anaconda3/lib/python3.9/site-packages/pandas/_libs/index.pyx\u001b[0m in \u001b[0;36mpandas._libs.index.IndexEngine.get_loc\u001b[0;34m()\u001b[0m\n",
      "\u001b[0;32mpandas/_libs/hashtable_class_helper.pxi\u001b[0m in \u001b[0;36mpandas._libs.hashtable.PyObjectHashTable.get_item\u001b[0;34m()\u001b[0m\n",
      "\u001b[0;32mpandas/_libs/hashtable_class_helper.pxi\u001b[0m in \u001b[0;36mpandas._libs.hashtable.PyObjectHashTable.get_item\u001b[0;34m()\u001b[0m\n",
      "\u001b[0;31mKeyError\u001b[0m: 'location'",
      "\nThe above exception was the direct cause of the following exception:\n",
      "\u001b[0;31mKeyError\u001b[0m                                  Traceback (most recent call last)",
      "\u001b[0;32m/var/folders/vn/h1ydhq9x7dg0y10vn8c2db040000gn/T/ipykernel_99327/3145730996.py\u001b[0m in \u001b[0;36m<module>\u001b[0;34m\u001b[0m\n\u001b[1;32m      3\u001b[0m \u001b[0;31m## location\u001b[0m\u001b[0;34m\u001b[0m\u001b[0;34m\u001b[0m\u001b[0m\n\u001b[1;32m      4\u001b[0m \u001b[0;31m# Write code to remove this column ?\u001b[0m\u001b[0;34m\u001b[0m\u001b[0;34m\u001b[0m\u001b[0m\n\u001b[0;32m----> 5\u001b[0;31m \u001b[0mdata\u001b[0m\u001b[0;34m.\u001b[0m\u001b[0mpop\u001b[0m\u001b[0;34m(\u001b[0m\u001b[0;34m\"location\"\u001b[0m\u001b[0;34m)\u001b[0m\u001b[0;34m\u001b[0m\u001b[0;34m\u001b[0m\u001b[0m\n\u001b[0m\u001b[1;32m      6\u001b[0m \u001b[0mdata\u001b[0m\u001b[0;34m\u001b[0m\u001b[0;34m\u001b[0m\u001b[0m\n",
      "\u001b[0;32m~/opt/anaconda3/lib/python3.9/site-packages/pandas/core/frame.py\u001b[0m in \u001b[0;36mpop\u001b[0;34m(self, item)\u001b[0m\n\u001b[1;32m   5224\u001b[0m         \u001b[0;36m3\u001b[0m  \u001b[0mmonkey\u001b[0m        \u001b[0mNaN\u001b[0m\u001b[0;34m\u001b[0m\u001b[0;34m\u001b[0m\u001b[0m\n\u001b[1;32m   5225\u001b[0m         \"\"\"\n\u001b[0;32m-> 5226\u001b[0;31m         \u001b[0;32mreturn\u001b[0m \u001b[0msuper\u001b[0m\u001b[0;34m(\u001b[0m\u001b[0;34m)\u001b[0m\u001b[0;34m.\u001b[0m\u001b[0mpop\u001b[0m\u001b[0;34m(\u001b[0m\u001b[0mitem\u001b[0m\u001b[0;34m=\u001b[0m\u001b[0mitem\u001b[0m\u001b[0;34m)\u001b[0m\u001b[0;34m\u001b[0m\u001b[0;34m\u001b[0m\u001b[0m\n\u001b[0m\u001b[1;32m   5227\u001b[0m \u001b[0;34m\u001b[0m\u001b[0m\n\u001b[1;32m   5228\u001b[0m     \u001b[0;34m@\u001b[0m\u001b[0mdoc\u001b[0m\u001b[0;34m(\u001b[0m\u001b[0mNDFrame\u001b[0m\u001b[0;34m.\u001b[0m\u001b[0mreplace\u001b[0m\u001b[0;34m,\u001b[0m \u001b[0;34m**\u001b[0m\u001b[0m_shared_doc_kwargs\u001b[0m\u001b[0;34m)\u001b[0m\u001b[0;34m\u001b[0m\u001b[0;34m\u001b[0m\u001b[0m\n",
      "\u001b[0;32m~/opt/anaconda3/lib/python3.9/site-packages/pandas/core/generic.py\u001b[0m in \u001b[0;36mpop\u001b[0;34m(self, item)\u001b[0m\n\u001b[1;32m    868\u001b[0m \u001b[0;34m\u001b[0m\u001b[0m\n\u001b[1;32m    869\u001b[0m     \u001b[0;32mdef\u001b[0m \u001b[0mpop\u001b[0m\u001b[0;34m(\u001b[0m\u001b[0mself\u001b[0m\u001b[0;34m,\u001b[0m \u001b[0mitem\u001b[0m\u001b[0;34m:\u001b[0m \u001b[0mHashable\u001b[0m\u001b[0;34m)\u001b[0m \u001b[0;34m->\u001b[0m \u001b[0mSeries\u001b[0m \u001b[0;34m|\u001b[0m \u001b[0mAny\u001b[0m\u001b[0;34m:\u001b[0m\u001b[0;34m\u001b[0m\u001b[0;34m\u001b[0m\u001b[0m\n\u001b[0;32m--> 870\u001b[0;31m         \u001b[0mresult\u001b[0m \u001b[0;34m=\u001b[0m \u001b[0mself\u001b[0m\u001b[0;34m[\u001b[0m\u001b[0mitem\u001b[0m\u001b[0;34m]\u001b[0m\u001b[0;34m\u001b[0m\u001b[0;34m\u001b[0m\u001b[0m\n\u001b[0m\u001b[1;32m    871\u001b[0m         \u001b[0;32mdel\u001b[0m \u001b[0mself\u001b[0m\u001b[0;34m[\u001b[0m\u001b[0mitem\u001b[0m\u001b[0;34m]\u001b[0m\u001b[0;34m\u001b[0m\u001b[0;34m\u001b[0m\u001b[0m\n\u001b[1;32m    872\u001b[0m \u001b[0;34m\u001b[0m\u001b[0m\n",
      "\u001b[0;32m~/opt/anaconda3/lib/python3.9/site-packages/pandas/core/frame.py\u001b[0m in \u001b[0;36m__getitem__\u001b[0;34m(self, key)\u001b[0m\n\u001b[1;32m   3456\u001b[0m             \u001b[0;32mif\u001b[0m \u001b[0mself\u001b[0m\u001b[0;34m.\u001b[0m\u001b[0mcolumns\u001b[0m\u001b[0;34m.\u001b[0m\u001b[0mnlevels\u001b[0m \u001b[0;34m>\u001b[0m \u001b[0;36m1\u001b[0m\u001b[0;34m:\u001b[0m\u001b[0;34m\u001b[0m\u001b[0;34m\u001b[0m\u001b[0m\n\u001b[1;32m   3457\u001b[0m                 \u001b[0;32mreturn\u001b[0m \u001b[0mself\u001b[0m\u001b[0;34m.\u001b[0m\u001b[0m_getitem_multilevel\u001b[0m\u001b[0;34m(\u001b[0m\u001b[0mkey\u001b[0m\u001b[0;34m)\u001b[0m\u001b[0;34m\u001b[0m\u001b[0;34m\u001b[0m\u001b[0m\n\u001b[0;32m-> 3458\u001b[0;31m             \u001b[0mindexer\u001b[0m \u001b[0;34m=\u001b[0m \u001b[0mself\u001b[0m\u001b[0;34m.\u001b[0m\u001b[0mcolumns\u001b[0m\u001b[0;34m.\u001b[0m\u001b[0mget_loc\u001b[0m\u001b[0;34m(\u001b[0m\u001b[0mkey\u001b[0m\u001b[0;34m)\u001b[0m\u001b[0;34m\u001b[0m\u001b[0;34m\u001b[0m\u001b[0m\n\u001b[0m\u001b[1;32m   3459\u001b[0m             \u001b[0;32mif\u001b[0m \u001b[0mis_integer\u001b[0m\u001b[0;34m(\u001b[0m\u001b[0mindexer\u001b[0m\u001b[0;34m)\u001b[0m\u001b[0;34m:\u001b[0m\u001b[0;34m\u001b[0m\u001b[0;34m\u001b[0m\u001b[0m\n\u001b[1;32m   3460\u001b[0m                 \u001b[0mindexer\u001b[0m \u001b[0;34m=\u001b[0m \u001b[0;34m[\u001b[0m\u001b[0mindexer\u001b[0m\u001b[0;34m]\u001b[0m\u001b[0;34m\u001b[0m\u001b[0;34m\u001b[0m\u001b[0m\n",
      "\u001b[0;32m~/opt/anaconda3/lib/python3.9/site-packages/pandas/core/indexes/base.py\u001b[0m in \u001b[0;36mget_loc\u001b[0;34m(self, key, method, tolerance)\u001b[0m\n\u001b[1;32m   3361\u001b[0m                 \u001b[0;32mreturn\u001b[0m \u001b[0mself\u001b[0m\u001b[0;34m.\u001b[0m\u001b[0m_engine\u001b[0m\u001b[0;34m.\u001b[0m\u001b[0mget_loc\u001b[0m\u001b[0;34m(\u001b[0m\u001b[0mcasted_key\u001b[0m\u001b[0;34m)\u001b[0m\u001b[0;34m\u001b[0m\u001b[0;34m\u001b[0m\u001b[0m\n\u001b[1;32m   3362\u001b[0m             \u001b[0;32mexcept\u001b[0m \u001b[0mKeyError\u001b[0m \u001b[0;32mas\u001b[0m \u001b[0merr\u001b[0m\u001b[0;34m:\u001b[0m\u001b[0;34m\u001b[0m\u001b[0;34m\u001b[0m\u001b[0m\n\u001b[0;32m-> 3363\u001b[0;31m                 \u001b[0;32mraise\u001b[0m \u001b[0mKeyError\u001b[0m\u001b[0;34m(\u001b[0m\u001b[0mkey\u001b[0m\u001b[0;34m)\u001b[0m \u001b[0;32mfrom\u001b[0m \u001b[0merr\u001b[0m\u001b[0;34m\u001b[0m\u001b[0;34m\u001b[0m\u001b[0m\n\u001b[0m\u001b[1;32m   3364\u001b[0m \u001b[0;34m\u001b[0m\u001b[0m\n\u001b[1;32m   3365\u001b[0m         \u001b[0;32mif\u001b[0m \u001b[0mis_scalar\u001b[0m\u001b[0;34m(\u001b[0m\u001b[0mkey\u001b[0m\u001b[0;34m)\u001b[0m \u001b[0;32mand\u001b[0m \u001b[0misna\u001b[0m\u001b[0;34m(\u001b[0m\u001b[0mkey\u001b[0m\u001b[0;34m)\u001b[0m \u001b[0;32mand\u001b[0m \u001b[0;32mnot\u001b[0m \u001b[0mself\u001b[0m\u001b[0;34m.\u001b[0m\u001b[0mhasnans\u001b[0m\u001b[0;34m:\u001b[0m\u001b[0;34m\u001b[0m\u001b[0;34m\u001b[0m\u001b[0m\n",
      "\u001b[0;31mKeyError\u001b[0m: 'location'"
     ]
    }
   ],
   "source": [
    "# 27. One of the columns doesn't really give us any info about the classes.    ** EC **\n",
    "# Which column is it?\n",
    "## location\n",
    "# Write code to remove this column ?\n",
    "data.pop(\"location\")\n",
    "data"
   ]
  },
  {
   "cell_type": "markdown",
   "metadata": {},
   "source": [
    "Convert a DataFrame to a numpy array"
   ]
  },
  {
   "cell_type": "code",
   "execution_count": null,
   "metadata": {},
   "outputs": [],
   "source": [
    "# 28. A DataFrame can be converted to a numpy array\n",
    "# This is useful only if data are numbers\n",
    "\n",
    "gradebook = pd.read_csv(\"scores.csv\", header=0, names=[\"q1\",\"midt\",\"q2\",\"final\"])\n",
    "print(gradebook, '\\n')\n",
    "\n",
    "arr = gradebook.values\n",
    "print(type(arr))\n",
    "arr"
   ]
  },
  {
   "cell_type": "markdown",
   "metadata": {},
   "source": [
    "Replace data in a column"
   ]
  },
  {
   "cell_type": "code",
   "execution_count": null,
   "metadata": {},
   "outputs": [],
   "source": [
    "# 29. To replace data in a column, create a dictionary\n",
    "# of old_data:new_data for the key:value \n",
    "\n",
    "gradebook = pd.read_csv(\"scores.csv\")\n",
    "print(gradebook, '\\n')\n",
    "\n",
    "Student = {'Sleepy':11,'Happy':12,'Doc':13,'Grumpy':14,\n",
    "           'Bashful':15,'Sneezy':16,'Dopey':17,'Snow White':18 }\n",
    "gradebook.replace(Student, inplace=True)\n",
    "gradebook"
   ]
  },
  {
   "cell_type": "code",
   "execution_count": null,
   "metadata": {},
   "outputs": [],
   "source": []
  }
 ],
 "metadata": {
  "kernelspec": {
   "display_name": "Python 3 (ipykernel)",
   "language": "python",
   "name": "python3"
  },
  "language_info": {
   "codemirror_mode": {
    "name": "ipython",
    "version": 3
   },
   "file_extension": ".py",
   "mimetype": "text/x-python",
   "name": "python",
   "nbconvert_exporter": "python",
   "pygments_lexer": "ipython3",
   "version": "3.9.7"
  }
 },
 "nbformat": 4,
 "nbformat_minor": 2
}
