{
 "cells": [
  {
   "cell_type": "markdown",
   "metadata": {},
   "source": [
    "## CIS 9\n",
    "## Pandas, Data Analysis, Data Cleaning"
   ]
  },
  {
   "cell_type": "markdown",
   "metadata": {},
   "source": [
    "Reading\n",
    "<br>Python Data Science Handbook Chapter 3\n",
    "- Introducing Pandas Objects\n",
    "- Data Indexing and Selection\n",
    "- Handling Missing Data, section on NaN\n",
    "- Combining Datasets: Concat and Append, section on concat\n",
    "- Aggregation and Grouping, section on groupby\n",
    "- Vectorized String Operations, up to but not including the Example Recipe Database"
   ]
  },
  {
   "cell_type": "markdown",
   "metadata": {},
   "source": [
    "Comparison of different data storage:\n",
    "- A _Python list_ can store different types of data and can change size, but the flexibility makes indexing and calculation of data in a list slow.\n",
    "- A _numpy array_ can only store only one data type and has fixed size, therefore indexing and calculation of data in a numpy array is very fast.\n",
    "- A _pandas data structure_ can store different types of data, so indexing data is a little slower than numpy but still faster than a list, and when calculations are done with numeric data, they are done using numpy and are very fast. \n",
    "<br>For data analysis purpose, this is best of both worlds! We get some of the flexibility and all the calculation speed.\n",
    "<br><br>A pandas DataFrame (a 2D structure) is the workhorse of data analysis."
   ]
  },
  {
   "cell_type": "markdown",
   "metadata": {},
   "source": [
    "Import libraries"
   ]
  },
  {
   "cell_type": "code",
   "execution_count": null,
   "metadata": {},
   "outputs": [],
   "source": [
    "import pandas as pd\n",
    "import numpy as np   \n",
    "# Pandas doesn't need importing of numpy, this import is for when we need numpy directly."
   ]
  },
  {
   "cell_type": "markdown",
   "metadata": {},
   "source": [
    "Pandas __Series__: 1D sequence of data"
   ]
  },
  {
   "cell_type": "code",
   "execution_count": null,
   "metadata": {},
   "outputs": [],
   "source": [
    "# 1. A Series is similar to a Python list, with data and indices\n",
    "\n",
    "nums = pd.Series([1,5,2,8,3])\n",
    "print(nums)\n",
    "nums"
   ]
  },
  {
   "cell_type": "code",
   "execution_count": null,
   "metadata": {},
   "outputs": [],
   "source": [
    "# accessing data in a Series\n",
    "\n",
    "print(\"nums.values:\", nums.values, '\\n')\n",
    "print(\"nums.index:\", nums.index, '\\n')\n",
    "print(\"using index value 0:\", nums[0], '\\n')\n",
    "print(\"using a slice:\")\n",
    "nums[:3]\n",
    "\n",
    "# Note that there is no negative indexing in pandas"
   ]
  },
  {
   "cell_type": "code",
   "execution_count": null,
   "metadata": {},
   "outputs": [],
   "source": [
    "# 2. Internally, numeric data are stored in a numpy array\n",
    "\n",
    "nums = pd.Series([0, -2.5, 8, -.7, 3])\n",
    "print(type(nums[0]))\n",
    "\n",
    "# and numpy operations can be used with Series that have numeric data\n",
    "np.sum(nums)     "
   ]
  },
  {
   "cell_type": "code",
   "execution_count": null,
   "metadata": {},
   "outputs": [],
   "source": [
    "# 3. A Series is more flexible than a Python list because we can customize the indices.\n",
    "# In this way, a Series behaves similarly to a Python dictionary\n",
    "\n",
    "nums = pd.Series([99, 85, 72, 89], index=['quiz1', 'quiz2', 'quiz3', 'quiz4'])\n",
    "print(nums, '\\n')\n",
    "print(\"Quiz 1:\", nums['quiz1'])\n",
    "\n",
    "# Pandas provides an easier way to type when accessing a column\n",
    "# if the column name is a text string:\n",
    "print(\"Quiz 1:\", nums.quiz1)"
   ]
  },
  {
   "cell_type": "code",
   "execution_count": null,
   "metadata": {},
   "outputs": [],
   "source": [
    "# 4. In addition to creating a Series from a Python list, we can create a Series\n",
    "# from a Python dictionary\n",
    "\n",
    "d = {c:ord(c) for c in \"ABCDE\"}\n",
    "print(\"dictionary:\", d, \"\\n\")\n",
    "\n",
    "letters = pd.Series(d)\n",
    "print(letters, '\\n')"
   ]
  },
  {
   "cell_type": "code",
   "execution_count": null,
   "metadata": {},
   "outputs": [],
   "source": [
    "# Use indices that are strings in the same way as with numeric indices\n",
    "\n",
    "print(\"selecting index A:\", letters.A, '\\n')\n",
    "\n",
    "# what's a second syntax to select index A?\n",
    "\n",
    "\n",
    "print(\"selecting a slice:\")\n",
    "print(letters['C':'E'], '\\n')\n",
    "\n",
    "print(\"Selecting with a list:\")\n",
    "print(letters[['A','D']])"
   ]
  },
  {
   "cell_type": "markdown",
   "metadata": {},
   "source": [
    "---"
   ]
  },
  {
   "cell_type": "markdown",
   "metadata": {},
   "source": [
    "Pandas __Dataframe__: 2D table"
   ]
  },
  {
   "cell_type": "code",
   "execution_count": null,
   "metadata": {},
   "outputs": [],
   "source": [
    "# 5. A DataFrame is a 2D table with rows and columns, similar to a Python list of lists or\n",
    "# a numpy 2D array\n",
    "df = pd.DataFrame([ [90, 92], [73, 82],[79, 80], [97, 95] ])\n",
    "print(df, \"\\n\")\n",
    "df                    # Note the Python print() vs the Jupyter notebook print"
   ]
  },
  {
   "cell_type": "markdown",
   "metadata": {},
   "source": [
    "The 0 and 1 at the top of each column are the _column labels_<br>\n",
    "The 0, 1, 2, 3 on the left of each row are the _row indices_<br>\n",
    "The column labels and row indices are how we select a particular row and column"
   ]
  },
  {
   "cell_type": "code",
   "execution_count": null,
   "metadata": {},
   "outputs": [],
   "source": [
    "print(\"column labels:\", df.columns)\n",
    "print(df.columns.values)\n",
    "print()\n",
    "print(\"row indices:\", df.index)\n",
    "print(df.index.values)"
   ]
  },
  {
   "cell_type": "code",
   "execution_count": null,
   "metadata": {},
   "outputs": [],
   "source": [
    "# Internally, a DataFrame is made up of multiple Series,\n",
    "# each column is a Series\n",
    "\n",
    "print(type(df[0]), type(df[1]))"
   ]
  },
  {
   "cell_type": "code",
   "execution_count": null,
   "metadata": {},
   "outputs": [],
   "source": [
    "# A DataFrame can be created from a Series\n",
    "\n",
    "newDF = letters.to_frame()    # letters Series from #4 above\n",
    "print(type(newDF))\n",
    "newDF"
   ]
  },
  {
   "cell_type": "code",
   "execution_count": null,
   "metadata": {},
   "outputs": [],
   "source": [
    "# 6. Just like with Series, we can customize the column labels.\n",
    "\n",
    "df = pd.DataFrame(columns=[\"quiz1\", \"quiz2\"],\n",
    "                  data=[ [90, 92], [73, 82],[79, 80], [97, 95] ])\n",
    "print(df, '\\n')   \n",
    "\n",
    "print(\"median of quiz 2:\", np.median(df.quiz2))\n",
    "\n",
    "# Why do numpy operations work on a column of a DataFrame?\n",
    "# "
   ]
  },
  {
   "cell_type": "code",
   "execution_count": null,
   "metadata": {
    "scrolled": true
   },
   "outputs": [],
   "source": [
    "# 7. An advantage of a DataFrame is that each column can have its own type of data\n",
    "\n",
    "df = pd.DataFrame(columns=[\"Names\", \"quiz1\", \"quiz2\"],\n",
    "                  data=[ [\"Fred\",90,92.5], [\"Wilma\",73,82],[\"Barney\",79,80], [\"Betty\",90,95] ])\n",
    "df\n",
    "# The Names column contains strings, the quiz1 column contains ints, \n",
    "# the quiz2 column contains floats\n",
    "\n",
    "# Why does quiz2 contain floats while quiz1 contains ints?\n",
    "# "
   ]
  },
  {
   "cell_type": "code",
   "execution_count": null,
   "metadata": {},
   "outputs": [],
   "source": [
    "# In the above example, a DataFrame is created from a list of lists, where each inner list is a row\n",
    "# A DataFrame can also be created from a dictionary, where each dictionary value (a list) is a column\n",
    "\n",
    "df = pd.DataFrame({\"Names\":\"Fred Wilma Barney Betty\".split(),\n",
    "                   \"quiz1\":[90, 73, 79, 90],\n",
    "                   \"quiz2\":[92.5, 82, 80, 95] })\n",
    "df"
   ]
  },
  {
   "cell_type": "markdown",
   "metadata": {},
   "source": [
    "__Accessing__ data"
   ]
  },
  {
   "cell_type": "code",
   "execution_count": null,
   "metadata": {},
   "outputs": [],
   "source": [
    "# 8. Selecting columns\n",
    "\n",
    "# We've seen the . (dot) notation to index a column:\n",
    "print(df.quiz1, '\\n')\n",
    "# or [] notation to index a column:\n",
    "print(df[\"quiz1\"], '\\n')\n",
    "\n",
    "# To select a slice of column labels that are strings,\n",
    "# Use the .columns attribute \n",
    "\n",
    "print(\"selecting columns at index 1 and 2:\", df.columns[1:3])\n",
    "# now use the selected column to get the data\n",
    "print(df[df.columns[1:3]], '\\n')"
   ]
  },
  {
   "cell_type": "code",
   "execution_count": null,
   "metadata": {},
   "outputs": [],
   "source": [
    "df"
   ]
  },
  {
   "cell_type": "code",
   "execution_count": null,
   "metadata": {},
   "outputs": [],
   "source": [
    "# Selecting rows\n",
    "# There is no df.rows, this is because a DataFrame is made of multiple Series\n",
    "# that are columns\n",
    "\n",
    "# To select rows, use the .loc attribute:\n",
    "print(\"first row:\")\n",
    "print(df.loc[0], '\\n')\n",
    "\n",
    "print(\"rows with index 1,2,3:\")\n",
    "print(df.loc[1:3], '\\n')     # Note the *inclusive ending* for .loc\n",
    "\n",
    "print(\"all rows, with selected columns:\")\n",
    "print(df.loc[:,['quiz1','quiz2']],'\\n')\n",
    "\n",
    "print(\"one row and column, or 1 element:\")\n",
    "print(df.loc[2,['quiz1']],'\\n')\n",
    "\n",
    "# When accessing a single element, it's faster to use .at:\n",
    "print(\"better way to access one element:\", df.at[2,'quiz1'],'\\n')"
   ]
  },
  {
   "cell_type": "code",
   "execution_count": null,
   "metadata": {},
   "outputs": [],
   "source": [
    "df"
   ]
  },
  {
   "cell_type": "code",
   "execution_count": null,
   "metadata": {},
   "outputs": [],
   "source": [
    "# 9. Boolean indexing:\n",
    "\n",
    "print(df[df.quiz1 == 90], '\\n')\n",
    "\n",
    "print(df[df.quiz2 < 90],'\\n')\n",
    "\n",
    "print(df[df.Names == \"Betty\"],'\\n')\n",
    "\n",
    "# Write 1 print statement to print the names of students        ** EC **\n",
    "# with quiz2 score greater than 90\n"
   ]
  },
  {
   "cell_type": "code",
   "execution_count": null,
   "metadata": {},
   "outputs": [],
   "source": [
    "# Accessing data with 2 conditions\n",
    "\n",
    "print(df[(df.quiz1>=90) & (df.quiz2>=90)])\n",
    "print()\n",
    "print(df[(df.quiz1>=90) | (df.quiz2>80)])"
   ]
  },
  {
   "cell_type": "code",
   "execution_count": null,
   "metadata": {},
   "outputs": [],
   "source": [
    "df"
   ]
  },
  {
   "cell_type": "code",
   "execution_count": null,
   "metadata": {},
   "outputs": [],
   "source": [
    "# 10. Getting unique values (no duplicates) in a column\n",
    "print(\"unique data in quiz1:\", df.quiz1.unique())\n",
    "print()\n",
    "\n",
    "# count the number of occurrences of data in a column\n",
    "print(\"count of occurrences in quiz1:\")\n",
    "print(df.quiz1.value_counts())"
   ]
  },
  {
   "cell_type": "markdown",
   "metadata": {},
   "source": [
    "---"
   ]
  },
  {
   "cell_type": "markdown",
   "metadata": {},
   "source": [
    "__Reading__ from files"
   ]
  },
  {
   "cell_type": "code",
   "execution_count": null,
   "metadata": {},
   "outputs": [],
   "source": [
    "# 11. If the file is a column of data, it will be read into a Series\n",
    "\n",
    "quiz1 = pd.read_csv(\"quiz_scores.csv\")\n",
    "print(quiz1, '\\n')"
   ]
  },
  {
   "cell_type": "code",
   "execution_count": null,
   "metadata": {},
   "outputs": [],
   "source": [
    "# If the file is a csv file with rows and columns, it will be read into a DataFrame\n",
    "\n",
    "gradebook = pd.read_csv(\"scores.csv\")\n",
    "print(\"row index:\", gradebook.index)\n",
    "gradebook"
   ]
  },
  {
   "cell_type": "code",
   "execution_count": null,
   "metadata": {},
   "outputs": [],
   "source": [
    "gradebook = pd.read_csv(\"scores.csv\", index_col='Student')\n",
    "print(\"row index:\", gradebook.index)\n",
    "gradebook"
   ]
  },
  {
   "cell_type": "code",
   "execution_count": null,
   "metadata": {},
   "outputs": [],
   "source": [
    "# what's different about how the file is read in here?\n",
    "# \n",
    "\n",
    "gradebook = pd.read_csv(\"scores.csv\", header=0, names=[\"name\",\"q1\",\"midt\",\"q2\",\"fin\"])\n",
    "gradebook"
   ]
  },
  {
   "cell_type": "code",
   "execution_count": null,
   "metadata": {},
   "outputs": [],
   "source": [
    "# what about this way of reading in the file?\n",
    "# \n",
    "\n",
    "gradebook = pd.read_csv(\"scores.csv\", header=0, names=[\"q1\",\"midt\",\"q2\",\"fin\"])\n",
    "gradebook"
   ]
  },
  {
   "cell_type": "code",
   "execution_count": null,
   "metadata": {},
   "outputs": [],
   "source": [
    "# We can also read from Excel files (among many other common types: HTML, JSON, SQL, etc.)\n",
    "\n",
    "gradebook = pd.read_excel(\"scores.xlsx\")\n",
    "gradebook"
   ]
  },
  {
   "cell_type": "code",
   "execution_count": null,
   "metadata": {},
   "outputs": [],
   "source": [
    "gradebook = pd.read_excel(\"scores.xlsx\", index_col='Student')\n",
    "gradebook"
   ]
  },
  {
   "cell_type": "code",
   "execution_count": null,
   "metadata": {},
   "outputs": [],
   "source": [
    "# 12. It's possible to set and reset the row index \n",
    "gradebook = pd.read_excel(\"scores.xlsx\")\n",
    "print(gradebook, \"\\n\")\n",
    "\n",
    "nameIndex = gradebook.set_index(\"Student\")\n",
    "nameIndex"
   ]
  },
  {
   "cell_type": "code",
   "execution_count": null,
   "metadata": {},
   "outputs": [],
   "source": [
    "nameIndex.loc[\"Doc\"]"
   ]
  },
  {
   "cell_type": "code",
   "execution_count": null,
   "metadata": {},
   "outputs": [],
   "source": [
    "gb = nameIndex.reset_index()\n",
    "gb"
   ]
  },
  {
   "cell_type": "code",
   "execution_count": null,
   "metadata": {},
   "outputs": [],
   "source": [
    "gb.loc[2]"
   ]
  },
  {
   "cell_type": "code",
   "execution_count": null,
   "metadata": {},
   "outputs": [],
   "source": [
    "# 13. From the gradebook in the cell above:\n",
    "# print Dopey's quiz1 and quiz2 values?\n",
    "\n",
    "print(gradebook.loc['Dopey',['quiz1', 'quiz2']])"
   ]
  },
  {
   "cell_type": "markdown",
   "metadata": {},
   "source": [
    "Show __attributes__ of the DataFrame"
   ]
  },
  {
   "cell_type": "code",
   "execution_count": null,
   "metadata": {},
   "outputs": [],
   "source": [
    "# 14. We've already seen the column labels and row indices\n",
    "print(\"index:\")\n",
    "print(gradebook.index)          \n",
    "print(gradebook.index.values)\n",
    "print()\n",
    "print(\"labels:\")\n",
    "print(gradebook.columns)  \n",
    "print(gradebook.columns.values)\n",
    "print()\n",
    "print(\"shape:\", gradebook.shape)\n",
    "print(\"size:\", gradebook.size)\n",
    "print(\"len:\", len(gradebook))\n",
    "print()\n",
    "print(\"first part:\", gradebook.head(), '\\n')\n",
    "print(\"last part:\", gradebook.tail(3))\n",
    "\n",
    "# what's the difference between no input argument for head() or tail()\n",
    "# and having a number as input argument?\n",
    "# "
   ]
  },
  {
   "cell_type": "markdown",
   "metadata": {},
   "source": [
    "---"
   ]
  },
  {
   "cell_type": "markdown",
   "metadata": {},
   "source": [
    "### Data Analysis"
   ]
  },
  {
   "cell_type": "markdown",
   "metadata": {},
   "source": [
    "Basic __statistics__"
   ]
  },
  {
   "cell_type": "code",
   "execution_count": null,
   "metadata": {},
   "outputs": [],
   "source": [
    "# 15. We can get all the basic stats in one method\n",
    "gradebook.describe()\n",
    "\n",
    "# Review statistics and data analysis:            ** EC **\n",
    "# You are the teacher for this class, and as a good teacher, you want to improve your \n",
    "# class material.\n",
    "# Run the cell so you can see the statistics for the exams: quiz1, midterm, quiz2, final\n",
    "# Using the statistics, you will need to improve the class material for which exam?\n",
    "# Explain your choice by citing specific statistic values to explain how they show the \n",
    "# the need to improve.\n"
   ]
  },
  {
   "cell_type": "code",
   "execution_count": null,
   "metadata": {
    "scrolled": true
   },
   "outputs": [],
   "source": [
    "# 16. To get a specific statistic for a specific column, we use numpy\n",
    "\n",
    "print(np.median(gradebook.quiz1))\n",
    "print(np.mean(gradebook.quiz2), '\\n')\n",
    "\n",
    "# or pandas\n",
    "print(gradebook.quiz2.mean(), '\\n')\n",
    "\n",
    "# We can also get all statistics of one column\n",
    "gradebook.quiz2.describe()"
   ]
  },
  {
   "cell_type": "code",
   "execution_count": null,
   "metadata": {},
   "outputs": [],
   "source": [
    "# 17. # For data analysis purpose, all scores in the examples below are out of 50 pts.\n",
    "\n",
    "# Show students who earned more than 90% in their final\n",
    "print(gradebook[gradebook.final > 50*.9], '\\n')\n",
    "\n",
    "# Show students who earned more than 90% in their final\n",
    "print(gradebook[gradebook.final > 50*.8], '\\n')\n",
    "\n",
    "# Show the number of students who earned more than 80% in their final?\n"
   ]
  },
  {
   "cell_type": "markdown",
   "metadata": {
    "collapsed": true
   },
   "source": [
    "Basic __Calculations__"
   ]
  },
  {
   "cell_type": "code",
   "execution_count": null,
   "metadata": {},
   "outputs": [],
   "source": [
    "# 18. Assume the midterm and final are each worth 30% of the grade, and quiz1 and quiz2 \n",
    "# are each worth 20% of the grade. \n",
    "# This means 60% of the grade comes from the midterm and final, and 40% of the grade \n",
    "# comes from the quizzes.\n",
    "\n",
    "# We want to calculate the weighted average of the exams. \n",
    "# and we want the score to be out of 100 to make it easier to see the percentage.\n",
    "\n",
    "wtAvg=(.2 * gradebook.quiz1 + .2 * gradebook.quiz2 + \n",
    "       .3 * gradebook.midterm + .3 * gradebook.final)\n",
    "print(\"weighted average:\")\n",
    "print(wtAvg)\n",
    "\n",
    "# For each student, show the wtAvg above as a percentage?           ** EC **\n",
    "# Recall that the scores are out of 50, so someone with a weighted average\n",
    "# of 25 would be at 50%\n"
   ]
  },
  {
   "cell_type": "markdown",
   "metadata": {},
   "source": [
    "**Sorting**"
   ]
  },
  {
   "cell_type": "code",
   "execution_count": null,
   "metadata": {},
   "outputs": [],
   "source": [
    "# 19. Sort by a column\n",
    "\n",
    "print(gradebook, '\\n')\n",
    "print(gradebook.sort_values(by=\"quiz1\"), '\\n')\n",
    "print(gradebook.sort_values(by=\"quiz1\", ascending=False), '\\n')"
   ]
  },
  {
   "cell_type": "markdown",
   "metadata": {},
   "source": [
    "**Changing shape**"
   ]
  },
  {
   "cell_type": "code",
   "execution_count": null,
   "metadata": {},
   "outputs": [],
   "source": [
    "# 20. Remove rows\n",
    "gradebook = pd.read_excel(\"scores.xlsx\", index_col='Student')\n",
    "print(gradebook,'\\n')\n",
    "\n",
    "print(\"remove rows:\")\n",
    "print(gradebook.drop([\"Sneezy\",\"Happy\"]),'\\n')\n",
    "print(gradebook,'\\n')\n",
    "\n",
    "gradebook.drop([\"Sneezy\",\"Happy\"], inplace=True)\n",
    "print(gradebook,'\\n')"
   ]
  },
  {
   "cell_type": "code",
   "execution_count": null,
   "metadata": {},
   "outputs": [],
   "source": [
    "# Remove columns\n",
    "gradebook.drop(columns=['quiz2'], inplace=True),'\\n'\n",
    "gradebook"
   ]
  },
  {
   "cell_type": "code",
   "execution_count": null,
   "metadata": {},
   "outputs": [],
   "source": [
    "# 21. Adding from another DataFrame along the rows\n",
    "\n",
    "gradebook = pd.read_excel(\"scores.xlsx\", index_col='Student')\n",
    "print(gradebook, \"\\n\")\n",
    "stInfo = pd.read_excel(\"ids.xlsx\", index_col='Student')\n",
    "print(stInfo, \"\\n\")\n",
    "\n",
    "print(\"Concatenating:\")\n",
    "data = pd.concat([stInfo, gradebook], axis=1)\n",
    "data\n",
    "#data = pd.concat([stInfo, gradebook])  # axis=0\n",
    "#data\n",
    "\n",
    "# the row indices have to be identical to concatenate 2 DataFrames"
   ]
  },
  {
   "cell_type": "code",
   "execution_count": null,
   "metadata": {},
   "outputs": [],
   "source": [
    "# 22. Adding from another DataFrame along the columns\n",
    "\n",
    "gradebook = pd.read_excel(\"scores.xlsx\")\n",
    "print(gradebook, \"\\n\")\n",
    "newrow = pd.DataFrame(columns=['Student','quiz1','midterm','quiz2','final'],\n",
    "                      data=[ [\"New Kid\",30,30,30,30] ])\n",
    "print(newrow, \"\\n\")\n",
    "\n",
    "print(\"Appending:\")\n",
    "gradebook = gradebook.append(newrow, ignore_index=True)\n",
    "gradebook"
   ]
  },
  {
   "cell_type": "code",
   "execution_count": null,
   "metadata": {},
   "outputs": [],
   "source": [
    "# append a dictionary\n",
    "\n",
    "#gradebook = pd.read_excel(\"scores.xlsx\")\n",
    "d = dict(zip(['Student','quiz1','midterm','quiz2','final'],[\"New Kid2\",30,30,30,30]))\n",
    "print(d)\n",
    "gradebook = gradebook.append(d, ignore_index=True)\n",
    "gradebook"
   ]
  },
  {
   "cell_type": "markdown",
   "metadata": {},
   "source": [
    "__groupby__ for data aggregation"
   ]
  },
  {
   "cell_type": "code",
   "execution_count": null,
   "metadata": {},
   "outputs": [],
   "source": [
    "# 23. groupby can be used to group data together when there are specific \n",
    "# categories in a column\n",
    "\n",
    "print(data, \"\\n\")\n",
    "print(\"groupby object:\", data.groupby(\"year\"), \"\\n\")\n",
    "print(data.groupby(\"year\").mean(), '\\n')\n",
    "\n",
    "# The above output shows the mean of the id's, which doesn't make sense.\n",
    "# Show the mean of the exams only?\n"
   ]
  },
  {
   "cell_type": "markdown",
   "metadata": {},
   "source": [
    "### Data Cleaning"
   ]
  },
  {
   "cell_type": "markdown",
   "metadata": {},
   "source": [
    "Missing data or __NaN__"
   ]
  },
  {
   "cell_type": "code",
   "execution_count": null,
   "metadata": {},
   "outputs": [],
   "source": [
    "# 24. When data is read in to a DataFrame and some values are missing, the missing values \n",
    "# appear as NaN values in the DataFrame. NaN is the IEEE defined value for Not a Number.\n",
    "data = pd.read_csv(\"classes.csv\")   # empty field in CSV file\n",
    "print(\"original data:\")\n",
    "print(data, '\\n')\n",
    "\n",
    "# remove data records (rows) with NaN\n",
    "cleanedData = data.dropna()\n",
    "print(\"drop NaN:\")\n",
    "print(cleanedData, '\\n')\n",
    "\n",
    "# replace NaN with some default value\n",
    "subbedData = data.fillna(0)\n",
    "print(\"Replace NaN:\")\n",
    "print(subbedData, '\\n')\n",
    "\n",
    "# check for NaN in the DataFrame\n",
    "print(\"check for NaN:\")\n",
    "print(data[data.isna().any(axis=1)], \"\\n\")\n",
    "print(data.isna().sum())"
   ]
  },
  {
   "cell_type": "code",
   "execution_count": null,
   "metadata": {},
   "outputs": [],
   "source": [
    "# 25. NaN with numpy\n",
    "print(\"numpy:\")\n",
    "print(np.median(data['Number of Students']))\n",
    "print(np.median(cleanedData['Number of Students']), '\\n')\n",
    "\n",
    "# NaN with pandas\n",
    "print(\"pandas:\")\n",
    "print(data['Number of Students'].median())"
   ]
  },
  {
   "cell_type": "markdown",
   "metadata": {},
   "source": [
    "Change column labels: __string vectorization__"
   ]
  },
  {
   "cell_type": "code",
   "execution_count": null,
   "metadata": {},
   "outputs": [],
   "source": [
    "# 26. As seen from the cell above, it's more convenient to have a shorter column label.\n",
    "# Simplify the data.columns (column labels) so it's easier to type.\n",
    "# a. change the column labels so they're all lowercase\n",
    "\n",
    "data.columns = data.columns.str.lower()\n",
    "data"
   ]
  },
  {
   "cell_type": "code",
   "execution_count": null,
   "metadata": {},
   "outputs": [],
   "source": [
    "# b. change column labels to 1 word: class, days, time, units, students ?\n",
    "# You'll need to do the reading for this answer\n",
    "\n",
    "data.columns = data.columns.str.extract('([a-z]+)$',expand=False)\n",
    "data"
   ]
  },
  {
   "cell_type": "markdown",
   "metadata": {},
   "source": [
    "Remove unnecessary columns"
   ]
  },
  {
   "cell_type": "code",
   "execution_count": null,
   "metadata": {},
   "outputs": [],
   "source": [
    "# 27. One of the columns doesn't really give us any info about the classes.    ** EC **\n",
    "# Which column is it?\n",
    "# Write code to remove this column ?\n",
    "\n"
   ]
  },
  {
   "cell_type": "markdown",
   "metadata": {},
   "source": [
    "Convert a DataFrame to a numpy array"
   ]
  },
  {
   "cell_type": "code",
   "execution_count": null,
   "metadata": {},
   "outputs": [],
   "source": [
    "# 28. A DataFrame can be converted to a numpy array\n",
    "# This is useful only if data are numbers\n",
    "\n",
    "gradebook = pd.read_csv(\"scores.csv\", header=0, names=[\"q1\",\"midt\",\"q2\",\"final\"])\n",
    "print(gradebook, '\\n')\n",
    "\n",
    "arr = gradebook.values\n",
    "print(type(arr))\n",
    "arr"
   ]
  },
  {
   "cell_type": "markdown",
   "metadata": {},
   "source": [
    "Replace data in a column"
   ]
  },
  {
   "cell_type": "code",
   "execution_count": null,
   "metadata": {},
   "outputs": [],
   "source": [
    "# 29. To replace data in a column, create a dictionary\n",
    "# of old_data:new_data for the key:value \n",
    "\n",
    "gradebook = pd.read_csv(\"scores.csv\")\n",
    "print(gradebook, '\\n')\n",
    "\n",
    "Student = {'Sleepy':11,'Happy':12,'Doc':13,'Grumpy':14,\n",
    "           'Bashful':15,'Sneezy':16,'Dopey':17,'Snow White':18 }\n",
    "gradebook.replace(Student, inplace=True)\n",
    "gradebook"
   ]
  },
  {
   "cell_type": "code",
   "execution_count": null,
   "metadata": {},
   "outputs": [],
   "source": []
  }
 ],
 "metadata": {
  "kernelspec": {
   "display_name": "Python 3 (ipykernel)",
   "language": "python",
   "name": "python3"
  },
  "language_info": {
   "codemirror_mode": {
    "name": "ipython",
    "version": 3
   },
   "file_extension": ".py",
   "mimetype": "text/x-python",
   "name": "python",
   "nbconvert_exporter": "python",
   "pygments_lexer": "ipython3",
   "version": "3.9.7"
  }
 },
 "nbformat": 4,
 "nbformat_minor": 2
}
