{
 "cells": [
  {
   "cell_type": "markdown",
   "id": "e607ddef",
   "metadata": {},
   "source": [
    "### CIS 9 - Lab 3a\n",
    "\n",
    "Supervised Learning: Regression and Classification"
   ]
  },
  {
   "cell_type": "code",
   "execution_count": null,
   "id": "7cd8b162",
   "metadata": {},
   "outputs": [],
   "source": [
    "# Name:"
   ]
  },
  {
   "cell_type": "markdown",
   "id": "de822385",
   "metadata": {},
   "source": [
    "In this lab you will select a machine learning model to determine a wine characteristic based on its physical and chemical properties."
   ]
  },
  {
   "cell_type": "code",
   "execution_count": null,
   "id": "c0b96718",
   "metadata": {},
   "outputs": [],
   "source": [
    "# import modules\n"
   ]
  },
  {
   "cell_type": "markdown",
   "id": "1cbf3b30",
   "metadata": {},
   "source": [
    "__Part A__ <br>\n",
    "Train a model to predict whether a wine is white wine or red wine, given the attributes of the wine.<br>\n",
    "The data is in the file `wine.csv` ([source](https://www.kaggle.com/datasets/ruthgn/wine-quality-data-set-red-white-wine))"
   ]
  },
  {
   "cell_type": "markdown",
   "id": "0bf9d7b5",
   "metadata": {},
   "source": [
    "1. __Read in data__ from the `wine.csv` file<br>\n",
    "Then __print the number of rows and columns of the DataFrame__, and __print the first 5 rows__"
   ]
  },
  {
   "cell_type": "code",
   "execution_count": null,
   "id": "bfc6e610",
   "metadata": {},
   "outputs": [],
   "source": []
  },
  {
   "cell_type": "markdown",
   "id": "98df2d16",
   "metadata": {},
   "source": [
    "2. First we inspect the data.<br>\n",
    "Write code to __show whether the y labels (white wine or red wine) are balanced__.<br>\n",
    "Then __create a Raw NBConvert cell to print \"balanced\" or \"not balanced\"__ as your conclusion based on your code output.<br>\n",
    "Recall that balanced data means that there is approximately the same number of each type of data."
   ]
  },
  {
   "cell_type": "code",
   "execution_count": null,
   "id": "16c905d3",
   "metadata": {},
   "outputs": [],
   "source": []
  },
  {
   "cell_type": "markdown",
   "id": "b668b895",
   "metadata": {},
   "source": [
    "3. Fortunately most of the attributes are numeric data, but the wine type is a string.<br>\n",
    "__Change the wine _type_ into a number__.<br>\n",
    "Then __print the DataFrame__ to show the change (use Jupyter Notebook print)."
   ]
  },
  {
   "cell_type": "code",
   "execution_count": null,
   "id": "29f2a9dd",
   "metadata": {},
   "outputs": [],
   "source": []
  },
  {
   "cell_type": "markdown",
   "id": "f029ed05",
   "metadata": {},
   "source": [
    "4. Now that we have all numeric data, we can look at an overview of the data.<br>\n",
    "Write code to __check whether there are NaN__ in any column."
   ]
  },
  {
   "cell_type": "code",
   "execution_count": null,
   "id": "184ea772",
   "metadata": {},
   "outputs": [],
   "source": []
  },
  {
   "cell_type": "markdown",
   "id": "73f9e36d",
   "metadata": {},
   "source": [
    "5. __Create a plot with subplots to show the distribution of each column of data__.<br>\n",
    "Each subplot is for one column of data.<br>\n",
    "Make sure to have a title for each subplot so show which column it is."
   ]
  },
  {
   "cell_type": "code",
   "execution_count": null,
   "id": "dcd485e2",
   "metadata": {},
   "outputs": [],
   "source": []
  },
  {
   "cell_type": "markdown",
   "id": "4fce1c2c",
   "metadata": {},
   "source": [
    "6. Observing the distributions, we can see that some, but not all, columns have outliers.<br>\n",
    "Write code to __remove rows with outlier values in any of the columns__<br>\n",
    "Then __print the number of rows and columns__ of the DataFrame after the outliers are removed.\n",
    "\n",
    "Use your judgment when observing the distribution to determine the outlier values that need to be removed.<br>\n",
    "If you have statistical training and you want to write code to determine the exact outlier values to remove, you can do so, but it's not required."
   ]
  },
  {
   "cell_type": "code",
   "execution_count": null,
   "id": "fcadd926",
   "metadata": {},
   "outputs": [],
   "source": []
  },
  {
   "cell_type": "markdown",
   "id": "459e94f9",
   "metadata": {},
   "source": [
    "7. Now that we've cleaned and prepared the data, it's time to apply an appropriate type of machine learning model to predict the type of wine: red or white.<br>\n",
    "\n",
    "__Create the X and y datasets__<br>\n",
    "Then __print the number of rows and columns__ for X and y."
   ]
  },
  {
   "cell_type": "code",
   "execution_count": null,
   "id": "af50bfc0",
   "metadata": {},
   "outputs": [],
   "source": []
  },
  {
   "cell_type": "markdown",
   "id": "1439f296",
   "metadata": {},
   "source": [
    "8. __Create the X and y training and testing datasets__<br>\n",
    "Then __print the number of rows and columns of each set__"
   ]
  },
  {
   "cell_type": "code",
   "execution_count": null,
   "id": "2a3de8cb",
   "metadata": {},
   "outputs": [],
   "source": []
  },
  {
   "cell_type": "markdown",
   "id": "0ccadaf1",
   "metadata": {},
   "source": [
    "9. __Create, train, test, and evaluate the accuracy of _all_ the appropriate machine learning models__ that we've discussed in class to predict the wine type.<br>\n",
    "\n",
    "- It's a good idea to create one or more Code cells for _each_ type of machine learning model.<br>(Don't have one huge Code cell that has all the models, it makes debugging more difficult)\n",
    "- For each model, make sure to show all the accuracy measurements that we've discussed in class for the model.<br>\n",
    "(Hint: there is more than one measurement)"
   ]
  },
  {
   "cell_type": "code",
   "execution_count": null,
   "id": "d45735bb",
   "metadata": {},
   "outputs": [],
   "source": []
  },
  {
   "cell_type": "markdown",
   "id": "b348feb8",
   "metadata": {},
   "source": [
    "10. Determine the most accurate model from the output of step 9.<br>\n",
    "__Create a Raw NBConvert cell to explain in detail _each_ accuracy number of the most accurate model__."
   ]
  },
  {
   "cell_type": "markdown",
   "id": "d2e9bc39",
   "metadata": {},
   "source": [
    "---"
   ]
  },
  {
   "cell_type": "markdown",
   "id": "2885dd28",
   "metadata": {},
   "source": [
    "__Part B__<br>\n",
    "Using the same cleaned and prepped wine dataset as Part A, use an appropriate type of machine learning model to predict the _alcohol_ percentage in a wine.<br>\n",
    "'Cleaned and prepped' means all NaNs and outliers are accounted for, and all values are numbers."
   ]
  },
  {
   "cell_type": "markdown",
   "id": "5c4274c6",
   "metadata": {},
   "source": [
    "11. __Create the X and y datasets__<br>\n",
    "Then __print the number of rows and columns of each set__\n",
    "and __print the first 5 rows of the X dataset__"
   ]
  },
  {
   "cell_type": "code",
   "execution_count": null,
   "id": "e70bdf2c",
   "metadata": {},
   "outputs": [],
   "source": []
  },
  {
   "cell_type": "markdown",
   "id": "988d7c28",
   "metadata": {},
   "source": [
    "12. __Create the X and y training and testing datasets__<br>\n",
    "Then __print the number of rows and columns of each set__"
   ]
  },
  {
   "cell_type": "code",
   "execution_count": null,
   "id": "abba6aaa",
   "metadata": {},
   "outputs": [],
   "source": []
  },
  {
   "cell_type": "markdown",
   "id": "9f2b3066",
   "metadata": {},
   "source": [
    "13. __Create and train an appropriate model__ to predict the alcohol percentage of the wine.<br>\n",
    "Then __show the influence of each X feature on the y output__."
   ]
  },
  {
   "cell_type": "code",
   "execution_count": null,
   "id": "ab6e3e73",
   "metadata": {},
   "outputs": [],
   "source": []
  },
  {
   "cell_type": "markdown",
   "id": "93a58483",
   "metadata": {},
   "source": [
    "14. __Test the model__, then __show the accuracy of the model__.<br>\n",
    "Make sure to show all the accuracy measurements we've discussed in class for this model."
   ]
  },
  {
   "cell_type": "code",
   "execution_count": null,
   "id": "662336ec",
   "metadata": {},
   "outputs": [],
   "source": []
  },
  {
   "cell_type": "markdown",
   "id": "0faa42db",
   "metadata": {},
   "source": [
    "15a. Based on the output of step 13, determine which X feature has the most influence in predicting the alcohol level.<br>\n",
    "Then __use an appropriate plot to show the correlation between this X feature and the y label__"
   ]
  },
  {
   "cell_type": "code",
   "execution_count": null,
   "id": "afecc103",
   "metadata": {},
   "outputs": [],
   "source": []
  },
  {
   "cell_type": "markdown",
   "id": "8d5be1c0",
   "metadata": {},
   "source": [
    "15b. __Create a Raw NBConvert cell to explain whether the plot agrees with the output of step 13 for this X feature__"
   ]
  },
  {
   "cell_type": "markdown",
   "id": "e2b5ad65",
   "metadata": {},
   "source": [
    "16. Using the same X and y training and testing datasets as step 12, __create, train, test, and find the accuracy of another model__ that can predict the alcohol level of the wine."
   ]
  },
  {
   "cell_type": "code",
   "execution_count": null,
   "id": "40640e3c",
   "metadata": {},
   "outputs": [],
   "source": []
  },
  {
   "cell_type": "markdown",
   "id": "ed2efc3e",
   "metadata": {},
   "source": [
    "17. __Show the contribution of each X feature on the y output__.<br>\n",
    "Then __Create a Raw NBConvert Cell to explain whether the most influential X feature is the same one as in the previous model__."
   ]
  },
  {
   "cell_type": "code",
   "execution_count": null,
   "id": "37908cbb",
   "metadata": {},
   "outputs": [],
   "source": []
  }
 ],
 "metadata": {
  "kernelspec": {
   "display_name": "Python 3 (ipykernel)",
   "language": "python",
   "name": "python3"
  },
  "language_info": {
   "codemirror_mode": {
    "name": "ipython",
    "version": 3
   },
   "file_extension": ".py",
   "mimetype": "text/x-python",
   "name": "python",
   "nbconvert_exporter": "python",
   "pygments_lexer": "ipython3",
   "version": "3.9.7"
  }
 },
 "nbformat": 4,
 "nbformat_minor": 5
}
