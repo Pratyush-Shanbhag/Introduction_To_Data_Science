{
 "cells": [
  {
   "cell_type": "markdown",
   "id": "2c3ae042",
   "metadata": {},
   "source": [
    "### CIS 9: Lab 3b\n",
    "Unsupervised Learning: clustering"
   ]
  },
  {
   "cell_type": "markdown",
   "id": "1fba00d4",
   "metadata": {},
   "source": [
    "You are asked by a car insurance company to help the company adjust the insurance premium that they charge their customers. Currently all customers are charged the same insurance rate, but the company would like to decrease the rate for customers who don't file expensive claims, and raise the rate for those who have high claims.\n",
    "\n",
    "The company gives you customer data for the year 2020, and asks you to group the customers based on their risks as drivers.<br>\n",
    "The input data is in `carInsurance.csv`([source](https://www.kaggle.com/datasets/lakshmanraj/vehicle-insurance-policy))"
   ]
  },
  {
   "cell_type": "code",
   "execution_count": 1,
   "id": "29ad42fc",
   "metadata": {},
   "outputs": [],
   "source": [
    "# import modules\n",
    "import numpy as np\n",
    "import pandas as pd\n",
    "import matplotlib.pyplot as plt\n",
    "%matplotlib inline"
   ]
  },
  {
   "cell_type": "markdown",
   "id": "cde0ede5",
   "metadata": {},
   "source": [
    "1. __Read data from the file `carInsurance.csv`__ into a DataFrame<br>\n",
    "Then __print the number of rows and columns of the DataFrame__ and __print the first 5 rows__"
   ]
  },
  {
   "cell_type": "code",
   "execution_count": 2,
   "id": "bcb1ee67",
   "metadata": {
    "scrolled": true
   },
   "outputs": [
    {
     "name": "stdout",
     "output_type": "stream",
     "text": [
      "Shape (60392, 15)\n",
      "   pol_number  pol_eff_dt gender  agecat date_of_birth  credit_score area  \\\n",
      "0    43124327  12/30/2020      F     4.0     7/12/1968         381.0    D   \n",
      "1    21919609  12/30/2020      F     2.0     11/5/1982         549.0    D   \n",
      "2    72577057  12/30/2020      M     2.0    11/26/1983         649.0    B   \n",
      "3    92175225  12/30/2020      M     4.0     11/2/1960         743.0    B   \n",
      "4    66223239  12/30/2020      F     4.0      1/4/1968         817.0    C   \n",
      "\n",
      "   traffic_index  veh_age veh_body  veh_value claim_office  numclaims  \\\n",
      "0          133.6        2    HBACK      1.331          NaN          0   \n",
      "1          163.6        1      UTE      3.740          NaN          0   \n",
      "2          117.5        4    COUPE      0.880          NaN          0   \n",
      "3          100.7        3    SEDAN      1.045          NaN          0   \n",
      "4          115.5        4    HBACK      0.473          NaN          0   \n",
      "\n",
      "   claimcst0  annual_premium  \n",
      "0        0.0          716.53  \n",
      "1        0.0          716.53  \n",
      "2        0.0          716.53  \n",
      "3        0.0          716.53  \n",
      "4        0.0          716.53  \n"
     ]
    }
   ],
   "source": [
    "df = pd.read_csv(\"carInsurance.csv\")\n",
    "print(\"Shape\", df.shape)\n",
    "print(df.head())"
   ]
  },
  {
   "cell_type": "markdown",
   "id": "c7516ff5",
   "metadata": {},
   "source": [
    "2. Some of the columns are not needed or are duplicate of other columns<br>\n",
    "__Remove the following columns__:\n",
    "- The policy effective date (`pol_eff_dt`): are all for the year 2020\n",
    "- The `date_of_birth`: corresponds to the age cat (`agecat`)\n",
    "- The `area`: is not as significant as the `traffic_index`\n",
    "- The `claim_office`: has no influence on how much insurance claim is made by the customer\n",
    "- The `annual_premium`: is currently the same for all customers\n",
    "- And one more column that doesn't provide the ML model with patterns in the data\n",
    "\n",
    "Use Jupyter Notebook print to __print the resulting DataFrame__"
   ]
  },
  {
   "cell_type": "code",
   "execution_count": null,
   "id": "cc4c8e7c",
   "metadata": {},
   "outputs": [],
   "source": []
  },
  {
   "cell_type": "markdown",
   "id": "7cc0afe4",
   "metadata": {},
   "source": [
    "3. __Show the number of NaN in each columns__.<br>\n",
    "Then __drop rows with NaN__ and __print the number of remaining rows and columns__"
   ]
  },
  {
   "cell_type": "code",
   "execution_count": null,
   "id": "e9ae3bda",
   "metadata": {},
   "outputs": [],
   "source": []
  },
  {
   "cell_type": "markdown",
   "id": "3659b6ee",
   "metadata": {},
   "source": [
    "4. The dataset is still large enough to continue with it.<br>\n",
    "__Change the `gender` and `veh_body` to numeric data__<br>\n",
    "Then __print the first 5 rows of the resulting DataFrame__"
   ]
  },
  {
   "cell_type": "code",
   "execution_count": null,
   "id": "296a3325",
   "metadata": {},
   "outputs": [],
   "source": []
  },
  {
   "cell_type": "markdown",
   "id": "9b61d7b4",
   "metadata": {},
   "source": [
    "5. __Create a plot with subplots to observe the correlation, if any, of each column and the `claimcst0`__, which is the insurance claim amount.<br>\n",
    "The higher the claim, the more costly the customer is to the company."
   ]
  },
  {
   "cell_type": "code",
   "execution_count": null,
   "id": "b12e6fce",
   "metadata": {},
   "outputs": [],
   "source": []
  },
  {
   "cell_type": "markdown",
   "id": "fd0552c0",
   "metadata": {},
   "source": [
    "6. Based on the subplots, __remove columns that don't have much correlation to the claim amount__.<br>\n",
    "Then __show the first 5 rows of the resulting DataFrame__"
   ]
  },
  {
   "cell_type": "code",
   "execution_count": null,
   "id": "ec1b580b",
   "metadata": {},
   "outputs": [],
   "source": []
  },
  {
   "cell_type": "markdown",
   "id": "0afa5138",
   "metadata": {},
   "source": [
    "7. __Use k-Means Clustering to group the customers based on their claim amount__.<br>\n",
    "You will need to create more than one Code cells.<br> \n",
    "In the last Code cell, __print each cluster number and the mean claim amount of customers in that cluster__"
   ]
  },
  {
   "cell_type": "code",
   "execution_count": null,
   "id": "847c28b1",
   "metadata": {},
   "outputs": [],
   "source": []
  },
  {
   "cell_type": "markdown",
   "id": "82297b45",
   "metadata": {},
   "source": [
    "8. Further prove that your clusters are partitioned correctly by plotting the distribution of claim amounts of each cluster.<br>\n",
    "__Create a plot with subplots to show the claim amount `cst0` distribution of each cluster__<br>\n",
    "Make sure to have a title for each subplot."
   ]
  },
  {
   "cell_type": "code",
   "execution_count": null,
   "id": "3e917464",
   "metadata": {},
   "outputs": [],
   "source": []
  },
  {
   "cell_type": "markdown",
   "id": "00663425",
   "metadata": {},
   "source": [
    "9. Create new Code cells as needed to provide data to answer the following questions from the insurance company:\n",
    "- Which cluster has the highest number of customers?\n",
    "- Observe the characteristics of the customers in each cluster and comment on <u>each</u> of the following attributes:<br>\n",
    "gender, age, credit score, vehicle age, vehicle value, and number of claims.<br>\n",
    "\n",
    "Examples of an observation: _there is not much age difference between the clusters_ (make sure your Code has proof of this)<br>\n",
    "Or: _the vehicle value tends to be lower for the customers with low claim amount, and gets higher with high claim amount_ (make sure your Code cells show these numbers)\n",
    "\n",
    "__Create a Raw NBConvert cell for your answers the questions above__"
   ]
  },
  {
   "cell_type": "code",
   "execution_count": null,
   "id": "9b6e61a3",
   "metadata": {},
   "outputs": [],
   "source": []
  }
 ],
 "metadata": {
  "kernelspec": {
   "display_name": "Python 3 (ipykernel)",
   "language": "python",
   "name": "python3"
  },
  "language_info": {
   "codemirror_mode": {
    "name": "ipython",
    "version": 3
   },
   "file_extension": ".py",
   "mimetype": "text/x-python",
   "name": "python",
   "nbconvert_exporter": "python",
   "pygments_lexer": "ipython3",
   "version": "3.9.7"
  }
 },
 "nbformat": 4,
 "nbformat_minor": 5
}
